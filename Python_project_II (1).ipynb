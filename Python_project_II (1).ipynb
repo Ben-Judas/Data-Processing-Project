{
  "nbformat": 4,
  "nbformat_minor": 0,
  "metadata": {
    "colab": {
      "name": "Python project II.ipynb",
      "provenance": [],
      "collapsed_sections": [],
      "toc_visible": true
    },
    "kernelspec": {
      "name": "python3",
      "display_name": "Python 3"
    },
    "language_info": {
      "name": "python"
    }
  },
  "cells": [
    {
      "cell_type": "markdown",
      "metadata": {
        "id": "eQhcR72SEmgH"
      },
      "source": [
        "# A. BUSINESS PROBLEM"
      ]
    },
    {
      "cell_type": "markdown",
      "metadata": {
        "id": "GOGIqYRtEz7A"
      },
      "source": [
        "Ayiti Analytics Data Processing Bootcamp\n",
        "Ayiti Analytics Data wants to expand its training centers throughout all the communes of the country. Your role as a data analyst is to help them realize this dream.\n",
        "\n",
        "Its objective is to know which three communes of the country will be the most likely to expand its training centers.\n",
        "\n",
        "Knowing that each cohort must have 30 students\n",
        "\n",
        "How many applications must be made to select 25% women for each on average\n",
        "\n",
        "What are the most effective communication channels (Alumni, Facebook, WhatsApp, Friend ...) that will allow a student to be susceptible to selection\n",
        "\n",
        "What is the average number of university students who should participate in this program\n",
        "\n",
        "What will be the average number of applications per week that we could have\n",
        "How many weeks should we extend the application process to select 60 students per commune?\n",
        "If we were to do all the bootcamp online, who would be the best communes and how many applications would we need to select 30 student and what percentage of students would have a laptop, an internet connection, both at the same time\n",
        "What are the most effective communication channels (Alumni, Facebook, WhatsApp, Friend ...) that will allow a women to be susceptible to selection\n",
        "NB\n",
        "Use the same framework of the BA project to complete this project"
      ]
    },
    {
      "cell_type": "markdown",
      "metadata": {
        "id": "fKeDey3hiMSY"
      },
      "source": [
        "# B. DATA CLEANING"
      ]
    },
    {
      "cell_type": "markdown",
      "metadata": {
        "id": "stHI5xMsgiOm"
      },
      "source": [
        "## STEP 1 : IMPORTING THE REQUIRED LIBRARIES"
      ]
    },
    {
      "cell_type": "code",
      "metadata": {
        "id": "9LYO_lPPslxv"
      },
      "source": [
        "import pandas as pd\n",
        "import numpy as np\n",
        "from matplotlib import pyplot as plt\n",
        "import re as re\n",
        "import seaborn as sns\n",
        "import datetime as dt\n"
      ],
      "execution_count": 80,
      "outputs": []
    },
    {
      "cell_type": "markdown",
      "metadata": {
        "id": "uNmKoFQOh756"
      },
      "source": [
        "##STEP 2 : LOADING DATA FILES"
      ]
    },
    {
      "cell_type": "code",
      "metadata": {
        "id": "EzTbvb6_XEyB"
      },
      "source": [
        "from google.colab import files"
      ],
      "execution_count": 81,
      "outputs": []
    },
    {
      "cell_type": "code",
      "metadata": {
        "colab": {
          "resources": {
            "http://localhost:8080/nbextensions/google.colab/files.js": {
              "data": "Ly8gQ29weXJpZ2h0IDIwMTcgR29vZ2xlIExMQwovLwovLyBMaWNlbnNlZCB1bmRlciB0aGUgQXBhY2hlIExpY2Vuc2UsIFZlcnNpb24gMi4wICh0aGUgIkxpY2Vuc2UiKTsKLy8geW91IG1heSBub3QgdXNlIHRoaXMgZmlsZSBleGNlcHQgaW4gY29tcGxpYW5jZSB3aXRoIHRoZSBMaWNlbnNlLgovLyBZb3UgbWF5IG9idGFpbiBhIGNvcHkgb2YgdGhlIExpY2Vuc2UgYXQKLy8KLy8gICAgICBodHRwOi8vd3d3LmFwYWNoZS5vcmcvbGljZW5zZXMvTElDRU5TRS0yLjAKLy8KLy8gVW5sZXNzIHJlcXVpcmVkIGJ5IGFwcGxpY2FibGUgbGF3IG9yIGFncmVlZCB0byBpbiB3cml0aW5nLCBzb2Z0d2FyZQovLyBkaXN0cmlidXRlZCB1bmRlciB0aGUgTGljZW5zZSBpcyBkaXN0cmlidXRlZCBvbiBhbiAiQVMgSVMiIEJBU0lTLAovLyBXSVRIT1VUIFdBUlJBTlRJRVMgT1IgQ09ORElUSU9OUyBPRiBBTlkgS0lORCwgZWl0aGVyIGV4cHJlc3Mgb3IgaW1wbGllZC4KLy8gU2VlIHRoZSBMaWNlbnNlIGZvciB0aGUgc3BlY2lmaWMgbGFuZ3VhZ2UgZ292ZXJuaW5nIHBlcm1pc3Npb25zIGFuZAovLyBsaW1pdGF0aW9ucyB1bmRlciB0aGUgTGljZW5zZS4KCi8qKgogKiBAZmlsZW92ZXJ2aWV3IEhlbHBlcnMgZm9yIGdvb2dsZS5jb2xhYiBQeXRob24gbW9kdWxlLgogKi8KKGZ1bmN0aW9uKHNjb3BlKSB7CmZ1bmN0aW9uIHNwYW4odGV4dCwgc3R5bGVBdHRyaWJ1dGVzID0ge30pIHsKICBjb25zdCBlbGVtZW50ID0gZG9jdW1lbnQuY3JlYXRlRWxlbWVudCgnc3BhbicpOwogIGVsZW1lbnQudGV4dENvbnRlbnQgPSB0ZXh0OwogIGZvciAoY29uc3Qga2V5IG9mIE9iamVjdC5rZXlzKHN0eWxlQXR0cmlidXRlcykpIHsKICAgIGVsZW1lbnQuc3R5bGVba2V5XSA9IHN0eWxlQXR0cmlidXRlc1trZXldOwogIH0KICByZXR1cm4gZWxlbWVudDsKfQoKLy8gTWF4IG51bWJlciBvZiBieXRlcyB3aGljaCB3aWxsIGJlIHVwbG9hZGVkIGF0IGEgdGltZS4KY29uc3QgTUFYX1BBWUxPQURfU0laRSA9IDEwMCAqIDEwMjQ7CgpmdW5jdGlvbiBfdXBsb2FkRmlsZXMoaW5wdXRJZCwgb3V0cHV0SWQpIHsKICBjb25zdCBzdGVwcyA9IHVwbG9hZEZpbGVzU3RlcChpbnB1dElkLCBvdXRwdXRJZCk7CiAgY29uc3Qgb3V0cHV0RWxlbWVudCA9IGRvY3VtZW50LmdldEVsZW1lbnRCeUlkKG91dHB1dElkKTsKICAvLyBDYWNoZSBzdGVwcyBvbiB0aGUgb3V0cHV0RWxlbWVudCB0byBtYWtlIGl0IGF2YWlsYWJsZSBmb3IgdGhlIG5leHQgY2FsbAogIC8vIHRvIHVwbG9hZEZpbGVzQ29udGludWUgZnJvbSBQeXRob24uCiAgb3V0cHV0RWxlbWVudC5zdGVwcyA9IHN0ZXBzOwoKICByZXR1cm4gX3VwbG9hZEZpbGVzQ29udGludWUob3V0cHV0SWQpOwp9CgovLyBUaGlzIGlzIHJvdWdobHkgYW4gYXN5bmMgZ2VuZXJhdG9yIChub3Qgc3VwcG9ydGVkIGluIHRoZSBicm93c2VyIHlldCksCi8vIHdoZXJlIHRoZXJlIGFyZSBtdWx0aXBsZSBhc3luY2hyb25vdXMgc3RlcHMgYW5kIHRoZSBQeXRob24gc2lkZSBpcyBnb2luZwovLyB0byBwb2xsIGZvciBjb21wbGV0aW9uIG9mIGVhY2ggc3RlcC4KLy8gVGhpcyB1c2VzIGEgUHJvbWlzZSB0byBibG9jayB0aGUgcHl0aG9uIHNpZGUgb24gY29tcGxldGlvbiBvZiBlYWNoIHN0ZXAsCi8vIHRoZW4gcGFzc2VzIHRoZSByZXN1bHQgb2YgdGhlIHByZXZpb3VzIHN0ZXAgYXMgdGhlIGlucHV0IHRvIHRoZSBuZXh0IHN0ZXAuCmZ1bmN0aW9uIF91cGxvYWRGaWxlc0NvbnRpbnVlKG91dHB1dElkKSB7CiAgY29uc3Qgb3V0cHV0RWxlbWVudCA9IGRvY3VtZW50LmdldEVsZW1lbnRCeUlkKG91dHB1dElkKTsKICBjb25zdCBzdGVwcyA9IG91dHB1dEVsZW1lbnQuc3RlcHM7CgogIGNvbnN0IG5leHQgPSBzdGVwcy5uZXh0KG91dHB1dEVsZW1lbnQubGFzdFByb21pc2VWYWx1ZSk7CiAgcmV0dXJuIFByb21pc2UucmVzb2x2ZShuZXh0LnZhbHVlLnByb21pc2UpLnRoZW4oKHZhbHVlKSA9PiB7CiAgICAvLyBDYWNoZSB0aGUgbGFzdCBwcm9taXNlIHZhbHVlIHRvIG1ha2UgaXQgYXZhaWxhYmxlIHRvIHRoZSBuZXh0CiAgICAvLyBzdGVwIG9mIHRoZSBnZW5lcmF0b3IuCiAgICBvdXRwdXRFbGVtZW50Lmxhc3RQcm9taXNlVmFsdWUgPSB2YWx1ZTsKICAgIHJldHVybiBuZXh0LnZhbHVlLnJlc3BvbnNlOwogIH0pOwp9CgovKioKICogR2VuZXJhdG9yIGZ1bmN0aW9uIHdoaWNoIGlzIGNhbGxlZCBiZXR3ZWVuIGVhY2ggYXN5bmMgc3RlcCBvZiB0aGUgdXBsb2FkCiAqIHByb2Nlc3MuCiAqIEBwYXJhbSB7c3RyaW5nfSBpbnB1dElkIEVsZW1lbnQgSUQgb2YgdGhlIGlucHV0IGZpbGUgcGlja2VyIGVsZW1lbnQuCiAqIEBwYXJhbSB7c3RyaW5nfSBvdXRwdXRJZCBFbGVtZW50IElEIG9mIHRoZSBvdXRwdXQgZGlzcGxheS4KICogQHJldHVybiB7IUl0ZXJhYmxlPCFPYmplY3Q+fSBJdGVyYWJsZSBvZiBuZXh0IHN0ZXBzLgogKi8KZnVuY3Rpb24qIHVwbG9hZEZpbGVzU3RlcChpbnB1dElkLCBvdXRwdXRJZCkgewogIGNvbnN0IGlucHV0RWxlbWVudCA9IGRvY3VtZW50LmdldEVsZW1lbnRCeUlkKGlucHV0SWQpOwogIGlucHV0RWxlbWVudC5kaXNhYmxlZCA9IGZhbHNlOwoKICBjb25zdCBvdXRwdXRFbGVtZW50ID0gZG9jdW1lbnQuZ2V0RWxlbWVudEJ5SWQob3V0cHV0SWQpOwogIG91dHB1dEVsZW1lbnQuaW5uZXJIVE1MID0gJyc7CgogIGNvbnN0IHBpY2tlZFByb21pc2UgPSBuZXcgUHJvbWlzZSgocmVzb2x2ZSkgPT4gewogICAgaW5wdXRFbGVtZW50LmFkZEV2ZW50TGlzdGVuZXIoJ2NoYW5nZScsIChlKSA9PiB7CiAgICAgIHJlc29sdmUoZS50YXJnZXQuZmlsZXMpOwogICAgfSk7CiAgfSk7CgogIGNvbnN0IGNhbmNlbCA9IGRvY3VtZW50LmNyZWF0ZUVsZW1lbnQoJ2J1dHRvbicpOwogIGlucHV0RWxlbWVudC5wYXJlbnRFbGVtZW50LmFwcGVuZENoaWxkKGNhbmNlbCk7CiAgY2FuY2VsLnRleHRDb250ZW50ID0gJ0NhbmNlbCB1cGxvYWQnOwogIGNvbnN0IGNhbmNlbFByb21pc2UgPSBuZXcgUHJvbWlzZSgocmVzb2x2ZSkgPT4gewogICAgY2FuY2VsLm9uY2xpY2sgPSAoKSA9PiB7CiAgICAgIHJlc29sdmUobnVsbCk7CiAgICB9OwogIH0pOwoKICAvLyBXYWl0IGZvciB0aGUgdXNlciB0byBwaWNrIHRoZSBmaWxlcy4KICBjb25zdCBmaWxlcyA9IHlpZWxkIHsKICAgIHByb21pc2U6IFByb21pc2UucmFjZShbcGlja2VkUHJvbWlzZSwgY2FuY2VsUHJvbWlzZV0pLAogICAgcmVzcG9uc2U6IHsKICAgICAgYWN0aW9uOiAnc3RhcnRpbmcnLAogICAgfQogIH07CgogIGNhbmNlbC5yZW1vdmUoKTsKCiAgLy8gRGlzYWJsZSB0aGUgaW5wdXQgZWxlbWVudCBzaW5jZSBmdXJ0aGVyIHBpY2tzIGFyZSBub3QgYWxsb3dlZC4KICBpbnB1dEVsZW1lbnQuZGlzYWJsZWQgPSB0cnVlOwoKICBpZiAoIWZpbGVzKSB7CiAgICByZXR1cm4gewogICAgICByZXNwb25zZTogewogICAgICAgIGFjdGlvbjogJ2NvbXBsZXRlJywKICAgICAgfQogICAgfTsKICB9CgogIGZvciAoY29uc3QgZmlsZSBvZiBmaWxlcykgewogICAgY29uc3QgbGkgPSBkb2N1bWVudC5jcmVhdGVFbGVtZW50KCdsaScpOwogICAgbGkuYXBwZW5kKHNwYW4oZmlsZS5uYW1lLCB7Zm9udFdlaWdodDogJ2JvbGQnfSkpOwogICAgbGkuYXBwZW5kKHNwYW4oCiAgICAgICAgYCgke2ZpbGUudHlwZSB8fCAnbi9hJ30pIC0gJHtmaWxlLnNpemV9IGJ5dGVzLCBgICsKICAgICAgICBgbGFzdCBtb2RpZmllZDogJHsKICAgICAgICAgICAgZmlsZS5sYXN0TW9kaWZpZWREYXRlID8gZmlsZS5sYXN0TW9kaWZpZWREYXRlLnRvTG9jYWxlRGF0ZVN0cmluZygpIDoKICAgICAgICAgICAgICAgICAgICAgICAgICAgICAgICAgICAgJ24vYSd9IC0gYCkpOwogICAgY29uc3QgcGVyY2VudCA9IHNwYW4oJzAlIGRvbmUnKTsKICAgIGxpLmFwcGVuZENoaWxkKHBlcmNlbnQpOwoKICAgIG91dHB1dEVsZW1lbnQuYXBwZW5kQ2hpbGQobGkpOwoKICAgIGNvbnN0IGZpbGVEYXRhUHJvbWlzZSA9IG5ldyBQcm9taXNlKChyZXNvbHZlKSA9PiB7CiAgICAgIGNvbnN0IHJlYWRlciA9IG5ldyBGaWxlUmVhZGVyKCk7CiAgICAgIHJlYWRlci5vbmxvYWQgPSAoZSkgPT4gewogICAgICAgIHJlc29sdmUoZS50YXJnZXQucmVzdWx0KTsKICAgICAgfTsKICAgICAgcmVhZGVyLnJlYWRBc0FycmF5QnVmZmVyKGZpbGUpOwogICAgfSk7CiAgICAvLyBXYWl0IGZvciB0aGUgZGF0YSB0byBiZSByZWFkeS4KICAgIGxldCBmaWxlRGF0YSA9IHlpZWxkIHsKICAgICAgcHJvbWlzZTogZmlsZURhdGFQcm9taXNlLAogICAgICByZXNwb25zZTogewogICAgICAgIGFjdGlvbjogJ2NvbnRpbnVlJywKICAgICAgfQogICAgfTsKCiAgICAvLyBVc2UgYSBjaHVua2VkIHNlbmRpbmcgdG8gYXZvaWQgbWVzc2FnZSBzaXplIGxpbWl0cy4gU2VlIGIvNjIxMTU2NjAuCiAgICBsZXQgcG9zaXRpb24gPSAwOwogICAgZG8gewogICAgICBjb25zdCBsZW5ndGggPSBNYXRoLm1pbihmaWxlRGF0YS5ieXRlTGVuZ3RoIC0gcG9zaXRpb24sIE1BWF9QQVlMT0FEX1NJWkUpOwogICAgICBjb25zdCBjaHVuayA9IG5ldyBVaW50OEFycmF5KGZpbGVEYXRhLCBwb3NpdGlvbiwgbGVuZ3RoKTsKICAgICAgcG9zaXRpb24gKz0gbGVuZ3RoOwoKICAgICAgY29uc3QgYmFzZTY0ID0gYnRvYShTdHJpbmcuZnJvbUNoYXJDb2RlLmFwcGx5KG51bGwsIGNodW5rKSk7CiAgICAgIHlpZWxkIHsKICAgICAgICByZXNwb25zZTogewogICAgICAgICAgYWN0aW9uOiAnYXBwZW5kJywKICAgICAgICAgIGZpbGU6IGZpbGUubmFtZSwKICAgICAgICAgIGRhdGE6IGJhc2U2NCwKICAgICAgICB9LAogICAgICB9OwoKICAgICAgbGV0IHBlcmNlbnREb25lID0gZmlsZURhdGEuYnl0ZUxlbmd0aCA9PT0gMCA/CiAgICAgICAgICAxMDAgOgogICAgICAgICAgTWF0aC5yb3VuZCgocG9zaXRpb24gLyBmaWxlRGF0YS5ieXRlTGVuZ3RoKSAqIDEwMCk7CiAgICAgIHBlcmNlbnQudGV4dENvbnRlbnQgPSBgJHtwZXJjZW50RG9uZX0lIGRvbmVgOwoKICAgIH0gd2hpbGUgKHBvc2l0aW9uIDwgZmlsZURhdGEuYnl0ZUxlbmd0aCk7CiAgfQoKICAvLyBBbGwgZG9uZS4KICB5aWVsZCB7CiAgICByZXNwb25zZTogewogICAgICBhY3Rpb246ICdjb21wbGV0ZScsCiAgICB9CiAgfTsKfQoKc2NvcGUuZ29vZ2xlID0gc2NvcGUuZ29vZ2xlIHx8IHt9OwpzY29wZS5nb29nbGUuY29sYWIgPSBzY29wZS5nb29nbGUuY29sYWIgfHwge307CnNjb3BlLmdvb2dsZS5jb2xhYi5fZmlsZXMgPSB7CiAgX3VwbG9hZEZpbGVzLAogIF91cGxvYWRGaWxlc0NvbnRpbnVlLAp9Owp9KShzZWxmKTsK",
              "ok": true,
              "headers": [
                [
                  "content-type",
                  "application/javascript"
                ]
              ],
              "status": 200,
              "status_text": ""
            }
          },
          "base_uri": "https://localhost:8080/",
          "height": 426
        },
        "id": "7wKI4c7ddwjg",
        "outputId": "a56b47ab-814a-4969-8d1c-a3a5334102d4"
      },
      "source": [
        "uploaded = files.upload()"
      ],
      "execution_count": 82,
      "outputs": [
        {
          "output_type": "display_data",
          "data": {
            "text/html": [
              "\n",
              "     <input type=\"file\" id=\"files-688cfc88-7a5d-408f-b412-2a56f8042214\" name=\"files[]\" multiple disabled\n",
              "        style=\"border:none\" />\n",
              "     <output id=\"result-688cfc88-7a5d-408f-b412-2a56f8042214\">\n",
              "      Upload widget is only available when the cell has been executed in the\n",
              "      current browser session. Please rerun this cell to enable.\n",
              "      </output>\n",
              "      <script src=\"/nbextensions/google.colab/files.js\"></script> "
            ],
            "text/plain": [
              "<IPython.core.display.HTML object>"
            ]
          },
          "metadata": {
            "tags": []
          }
        },
        {
          "output_type": "stream",
          "text": [
            "Saving commune.xlsx to commune (1).xlsx\n",
            "Saving data.ipynb to data (1).ipynb\n",
            "Saving Dictionnaire.xlsx to Dictionnaire (1).xlsx\n",
            "Saving enroll.csv to enroll (1).csv\n",
            "Saving industry.csv to industry (1).csv\n",
            "Saving ord.csv to ord (1).csv\n",
            "Saving quest.csv to quest (1).csv\n",
            "Saving study_domain.csv to study_domain (1).csv\n",
            "Saving technology.csv to technology (1).csv\n",
            "Saving transaction.csv to transaction (1).csv\n"
          ],
          "name": "stdout"
        }
      ]
    },
    {
      "cell_type": "markdown",
      "metadata": {
        "id": "GB-iAM73mII-"
      },
      "source": [
        "## STEP 3 : READING FILES"
      ]
    },
    {
      "cell_type": "code",
      "metadata": {
        "id": "F7YbSCrcd3M2"
      },
      "source": [
        "enroll = pd.read_csv(r\"enroll.csv\")\n",
        "quest = pd.read_csv(r\"quest.csv\")\n",
        "industry = pd.read_csv(r\"industry.csv\")\n",
        "ord = pd.read_csv(r\"ord.csv\")\n",
        "study_domain = pd.read_csv(r\"study_domain.csv\")\n",
        "transaction = pd.read_csv(r\"transaction.csv\")\n",
        "technology = pd.read_csv(r\"technology.csv\")\n",
        "commune=pd.read_excel(r\"commune.xlsx\")"
      ],
      "execution_count": 83,
      "outputs": []
    },
    {
      "cell_type": "markdown",
      "metadata": {
        "id": "uD1trDNqiorH"
      },
      "source": [
        "## STEP 4 : CONVERT INTO DUMMIES & GROUP BY COMMON COLUMN"
      ]
    },
    {
      "cell_type": "code",
      "metadata": {
        "id": "OM2ZCoSx2K0L"
      },
      "source": [
        "# We define a function to \n",
        "def dummies_create(data, value):\n",
        "  x=pd.get_dummies(data=data, columns=value, prefix=\"\", prefix_sep=\"\")\n",
        "  y=x.groupby(\"quest_id\").sum()\n",
        "  return y"
      ],
      "execution_count": 84,
      "outputs": []
    },
    {
      "cell_type": "code",
      "metadata": {
        "id": "5GT2XoTL30qr"
      },
      "source": [
        "study_domain2 = dummies_create(study_domain[[\"key\", \"quest_id\", \"values\"]], [\"values\"])\n",
        "technology2 = dummies_create(technology[[\"key\", \"quest_id\", \"values\"]], ['values'])\n",
        "industry2 = dummies_create(industry[[\"key\", \"quest_id\", \"values\"]], ['values'])"
      ],
      "execution_count": 85,
      "outputs": []
    },
    {
      "cell_type": "code",
      "metadata": {
        "colab": {
          "base_uri": "https://localhost:8080/",
          "height": 335
        },
        "id": "zXjM8dcf32Ox",
        "outputId": "db872a34-994b-46e5-856f-efcf06f8a687"
      },
      "source": [
        "industry2.head(2)"
      ],
      "execution_count": 86,
      "outputs": [
        {
          "output_type": "execute_result",
          "data": {
            "text/html": [
              "<div>\n",
              "<style scoped>\n",
              "    .dataframe tbody tr th:only-of-type {\n",
              "        vertical-align: middle;\n",
              "    }\n",
              "\n",
              "    .dataframe tbody tr th {\n",
              "        vertical-align: top;\n",
              "    }\n",
              "\n",
              "    .dataframe thead th {\n",
              "        text-align: right;\n",
              "    }\n",
              "</style>\n",
              "<table border=\"1\" class=\"dataframe\">\n",
              "  <thead>\n",
              "    <tr style=\"text-align: right;\">\n",
              "      <th></th>\n",
              "      <th>Communications</th>\n",
              "      <th>Consulting</th>\n",
              "      <th>Education</th>\n",
              "      <th>Energy</th>\n",
              "      <th>Finance</th>\n",
              "      <th>Healthcare</th>\n",
              "      <th>Insurance</th>\n",
              "      <th>Manufacturing</th>\n",
              "      <th>Marketing</th>\n",
              "      <th>Public Sector/ Non-Profit Agencies</th>\n",
              "      <th>Retail/ E-Commerce</th>\n",
              "      <th>Technology (Software/ Internet)</th>\n",
              "      <th>Transportation</th>\n",
              "      <th>other</th>\n",
              "    </tr>\n",
              "    <tr>\n",
              "      <th>quest_id</th>\n",
              "      <th></th>\n",
              "      <th></th>\n",
              "      <th></th>\n",
              "      <th></th>\n",
              "      <th></th>\n",
              "      <th></th>\n",
              "      <th></th>\n",
              "      <th></th>\n",
              "      <th></th>\n",
              "      <th></th>\n",
              "      <th></th>\n",
              "      <th></th>\n",
              "      <th></th>\n",
              "      <th></th>\n",
              "    </tr>\n",
              "  </thead>\n",
              "  <tbody>\n",
              "    <tr>\n",
              "      <th>905ddcf2-ce95-11eb-9a92-7c67a234f601</th>\n",
              "      <td>0</td>\n",
              "      <td>0</td>\n",
              "      <td>0</td>\n",
              "      <td>0</td>\n",
              "      <td>1</td>\n",
              "      <td>0</td>\n",
              "      <td>0</td>\n",
              "      <td>0</td>\n",
              "      <td>0</td>\n",
              "      <td>0</td>\n",
              "      <td>0</td>\n",
              "      <td>0</td>\n",
              "      <td>0</td>\n",
              "      <td>0</td>\n",
              "    </tr>\n",
              "    <tr>\n",
              "      <th>905e2608-ce95-11eb-809f-7c67a234f601</th>\n",
              "      <td>0</td>\n",
              "      <td>1</td>\n",
              "      <td>1</td>\n",
              "      <td>1</td>\n",
              "      <td>0</td>\n",
              "      <td>0</td>\n",
              "      <td>0</td>\n",
              "      <td>0</td>\n",
              "      <td>1</td>\n",
              "      <td>0</td>\n",
              "      <td>0</td>\n",
              "      <td>1</td>\n",
              "      <td>0</td>\n",
              "      <td>0</td>\n",
              "    </tr>\n",
              "  </tbody>\n",
              "</table>\n",
              "</div>"
            ],
            "text/plain": [
              "                                      Communications  ...  other\n",
              "quest_id                                              ...       \n",
              "905ddcf2-ce95-11eb-9a92-7c67a234f601               0  ...      0\n",
              "905e2608-ce95-11eb-809f-7c67a234f601               0  ...      0\n",
              "\n",
              "[2 rows x 14 columns]"
            ]
          },
          "metadata": {
            "tags": []
          },
          "execution_count": 86
        }
      ]
    },
    {
      "cell_type": "markdown",
      "metadata": {
        "id": "jUaRLgyK3WCK"
      },
      "source": [
        "## STEP 5 : MERGE DATAFRAMES BY COMMON COLUMN"
      ]
    },
    {
      "cell_type": "code",
      "metadata": {
        "colab": {
          "base_uri": "https://localhost:8080/",
          "height": 422
        },
        "id": "RLX6wqlwN5zT",
        "outputId": "7e57ab91-b62c-4e8d-a7f9-426056f9748d"
      },
      "source": [
        "#Transform \"Commune_Id\" Values in lower Character before Merge\n",
        "quest['department'] = quest['department'].apply(lambda x  : str(x))\n",
        "quest['department']= quest['department'].apply(lambda x : x.upper())\n",
        "quest['commune']= quest['commune'].apply(lambda x : x.upper())\n",
        "#Rename \"Commune_Id\" in \"commune\"\n",
        "commune.rename(columns = {\"Commune_Id\": \"commune\"}, inplace = True)\n",
        "commune"
      ],
      "execution_count": 87,
      "outputs": [
        {
          "output_type": "execute_result",
          "data": {
            "text/html": [
              "<div>\n",
              "<style scoped>\n",
              "    .dataframe tbody tr th:only-of-type {\n",
              "        vertical-align: middle;\n",
              "    }\n",
              "\n",
              "    .dataframe tbody tr th {\n",
              "        vertical-align: top;\n",
              "    }\n",
              "\n",
              "    .dataframe thead th {\n",
              "        text-align: right;\n",
              "    }\n",
              "</style>\n",
              "<table border=\"1\" class=\"dataframe\">\n",
              "  <thead>\n",
              "    <tr style=\"text-align: right;\">\n",
              "      <th></th>\n",
              "      <th>Commune_en</th>\n",
              "      <th>Commune_FR</th>\n",
              "      <th>commune</th>\n",
              "      <th>Departement</th>\n",
              "      <th>ADM1_PCODE</th>\n",
              "    </tr>\n",
              "  </thead>\n",
              "  <tbody>\n",
              "    <tr>\n",
              "      <th>0</th>\n",
              "      <td>Abricots</td>\n",
              "      <td>Abricots</td>\n",
              "      <td>HT0812</td>\n",
              "      <td>Grande'Anse</td>\n",
              "      <td>HT08</td>\n",
              "    </tr>\n",
              "    <tr>\n",
              "      <th>1</th>\n",
              "      <td>Acul du Nord</td>\n",
              "      <td>Acul du Nord</td>\n",
              "      <td>HT0321</td>\n",
              "      <td>North</td>\n",
              "      <td>HT03</td>\n",
              "    </tr>\n",
              "    <tr>\n",
              "      <th>2</th>\n",
              "      <td>Anse-a-Foleur</td>\n",
              "      <td>Anse-à-Foleur</td>\n",
              "      <td>HT0922</td>\n",
              "      <td>North-West</td>\n",
              "      <td>HT09</td>\n",
              "    </tr>\n",
              "    <tr>\n",
              "      <th>3</th>\n",
              "      <td>Anse-a-Pitre</td>\n",
              "      <td>Anse-à-Pître</td>\n",
              "      <td>HT0234</td>\n",
              "      <td>South-East</td>\n",
              "      <td>HT02</td>\n",
              "    </tr>\n",
              "    <tr>\n",
              "      <th>4</th>\n",
              "      <td>Anse-a-Veau</td>\n",
              "      <td>Anse-à-Veau</td>\n",
              "      <td>HT1021</td>\n",
              "      <td>Nippes</td>\n",
              "      <td>HT10</td>\n",
              "    </tr>\n",
              "    <tr>\n",
              "      <th>...</th>\n",
              "      <td>...</td>\n",
              "      <td>...</td>\n",
              "      <td>...</td>\n",
              "      <td>...</td>\n",
              "      <td>...</td>\n",
              "    </tr>\n",
              "    <tr>\n",
              "      <th>135</th>\n",
              "      <td>Tiburon</td>\n",
              "      <td>Tiburon</td>\n",
              "      <td>HT0753</td>\n",
              "      <td>South</td>\n",
              "      <td>HT07</td>\n",
              "    </tr>\n",
              "    <tr>\n",
              "      <th>136</th>\n",
              "      <td>Torbeck</td>\n",
              "      <td>Torbeck</td>\n",
              "      <td>HT0712</td>\n",
              "      <td>South</td>\n",
              "      <td>HT07</td>\n",
              "    </tr>\n",
              "    <tr>\n",
              "      <th>137</th>\n",
              "      <td>Trou du Nord</td>\n",
              "      <td>Trou du Nord</td>\n",
              "      <td>HT0431</td>\n",
              "      <td>North-East</td>\n",
              "      <td>HT04</td>\n",
              "    </tr>\n",
              "    <tr>\n",
              "      <th>138</th>\n",
              "      <td>Vallieres</td>\n",
              "      <td>Vallières</td>\n",
              "      <td>HT0441</td>\n",
              "      <td>North-East</td>\n",
              "      <td>HT04</td>\n",
              "    </tr>\n",
              "    <tr>\n",
              "      <th>139</th>\n",
              "      <td>Verrettes</td>\n",
              "      <td>Verrettes</td>\n",
              "      <td>HT0532</td>\n",
              "      <td>Artibonite</td>\n",
              "      <td>HT05</td>\n",
              "    </tr>\n",
              "  </tbody>\n",
              "</table>\n",
              "<p>140 rows × 5 columns</p>\n",
              "</div>"
            ],
            "text/plain": [
              "        Commune_en     Commune_FR commune  Departement ADM1_PCODE\n",
              "0         Abricots       Abricots  HT0812  Grande'Anse       HT08\n",
              "1     Acul du Nord   Acul du Nord  HT0321        North       HT03\n",
              "2    Anse-a-Foleur  Anse-à-Foleur  HT0922   North-West       HT09\n",
              "3     Anse-a-Pitre   Anse-à-Pître  HT0234   South-East       HT02\n",
              "4      Anse-a-Veau    Anse-à-Veau  HT1021       Nippes       HT10\n",
              "..             ...            ...     ...          ...        ...\n",
              "135        Tiburon        Tiburon  HT0753        South       HT07\n",
              "136        Torbeck        Torbeck  HT0712        South       HT07\n",
              "137   Trou du Nord   Trou du Nord  HT0431   North-East       HT04\n",
              "138      Vallieres      Vallières  HT0441   North-East       HT04\n",
              "139      Verrettes      Verrettes  HT0532   Artibonite       HT05\n",
              "\n",
              "[140 rows x 5 columns]"
            ]
          },
          "metadata": {
            "tags": []
          },
          "execution_count": 87
        }
      ]
    },
    {
      "cell_type": "code",
      "metadata": {
        "colab": {
          "base_uri": "https://localhost:8080/",
          "height": 1000
        },
        "id": "PK2Kbb_A0hYB",
        "outputId": "fbe6002a-6de0-4304-b2bc-23c940d83511"
      },
      "source": [
        "result1=pd.merge(quest,commune, how = 'left', left_on=['department','commune'], right_on=['ADM1_PCODE','commune'])\n",
        "result1"
      ],
      "execution_count": 88,
      "outputs": [
        {
          "output_type": "execute_result",
          "data": {
            "text/html": [
              "<div>\n",
              "<style scoped>\n",
              "    .dataframe tbody tr th:only-of-type {\n",
              "        vertical-align: middle;\n",
              "    }\n",
              "\n",
              "    .dataframe tbody tr th {\n",
              "        vertical-align: top;\n",
              "    }\n",
              "\n",
              "    .dataframe thead th {\n",
              "        text-align: right;\n",
              "    }\n",
              "</style>\n",
              "<table border=\"1\" class=\"dataframe\">\n",
              "  <thead>\n",
              "    <tr style=\"text-align: right;\">\n",
              "      <th></th>\n",
              "      <th>Unnamed: 0</th>\n",
              "      <th>gender</th>\n",
              "      <th>dob</th>\n",
              "      <th>commune</th>\n",
              "      <th>created_at</th>\n",
              "      <th>modified_at</th>\n",
              "      <th>department</th>\n",
              "      <th>education_level</th>\n",
              "      <th>university</th>\n",
              "      <th>study_domain</th>\n",
              "      <th>current_employed</th>\n",
              "      <th>formal_sector_job</th>\n",
              "      <th>have_computer_home</th>\n",
              "      <th>internet_at_home</th>\n",
              "      <th>hear_AA_1</th>\n",
              "      <th>after_AA</th>\n",
              "      <th>quest_id</th>\n",
              "      <th>Commune_en</th>\n",
              "      <th>Commune_FR</th>\n",
              "      <th>Departement</th>\n",
              "      <th>ADM1_PCODE</th>\n",
              "    </tr>\n",
              "  </thead>\n",
              "  <tbody>\n",
              "    <tr>\n",
              "      <th>0</th>\n",
              "      <td>0</td>\n",
              "      <td>male</td>\n",
              "      <td>25/08/1998</td>\n",
              "      <td>HT0111</td>\n",
              "      <td>2021-02-14T23:03:52.768400Z</td>\n",
              "      <td>2021-02-14T23:03:52.768462Z</td>\n",
              "      <td>NAN</td>\n",
              "      <td>unknown</td>\n",
              "      <td>unknown</td>\n",
              "      <td>[]</td>\n",
              "      <td>unknown</td>\n",
              "      <td>unknown</td>\n",
              "      <td>unknown</td>\n",
              "      <td>unknown</td>\n",
              "      <td>unknown</td>\n",
              "      <td>unknown</td>\n",
              "      <td>905dc006-ce95-11eb-b2f9-7c67a234f601</td>\n",
              "      <td>NaN</td>\n",
              "      <td>NaN</td>\n",
              "      <td>NaN</td>\n",
              "      <td>NaN</td>\n",
              "    </tr>\n",
              "    <tr>\n",
              "      <th>1</th>\n",
              "      <td>1</td>\n",
              "      <td>female</td>\n",
              "      <td>29/09/1996</td>\n",
              "      <td>HT0111</td>\n",
              "      <td>2021-02-16T16:01:10.861844Z</td>\n",
              "      <td>2021-02-16T16:01:10.861899Z</td>\n",
              "      <td>HT01</td>\n",
              "      <td>Bachelors (bacc +4)</td>\n",
              "      <td>other</td>\n",
              "      <td>['other']</td>\n",
              "      <td>No</td>\n",
              "      <td>unknown</td>\n",
              "      <td>Yes</td>\n",
              "      <td>Yes</td>\n",
              "      <td>Friend</td>\n",
              "      <td>Finding a job/internship</td>\n",
              "      <td>905ddcf2-ce95-11eb-9a92-7c67a234f601</td>\n",
              "      <td>Port-au-Prince</td>\n",
              "      <td>Port-au-Prince</td>\n",
              "      <td>West</td>\n",
              "      <td>HT01</td>\n",
              "    </tr>\n",
              "    <tr>\n",
              "      <th>2</th>\n",
              "      <td>2</td>\n",
              "      <td>male</td>\n",
              "      <td>17/05/1996</td>\n",
              "      <td>HT0111</td>\n",
              "      <td>2021-02-16T16:56:30.579504Z</td>\n",
              "      <td>2021-02-16T16:56:30.579563Z</td>\n",
              "      <td>HT01</td>\n",
              "      <td>Bachelors (bacc +4)</td>\n",
              "      <td>Université d'Etat d'Haïti (UEH)</td>\n",
              "      <td>[]</td>\n",
              "      <td>No</td>\n",
              "      <td>unknown</td>\n",
              "      <td>Yes</td>\n",
              "      <td>Yes</td>\n",
              "      <td>Friend</td>\n",
              "      <td>Improving my data analysis skills</td>\n",
              "      <td>905e2608-ce95-11eb-809f-7c67a234f601</td>\n",
              "      <td>Port-au-Prince</td>\n",
              "      <td>Port-au-Prince</td>\n",
              "      <td>West</td>\n",
              "      <td>HT01</td>\n",
              "    </tr>\n",
              "    <tr>\n",
              "      <th>3</th>\n",
              "      <td>3</td>\n",
              "      <td>male</td>\n",
              "      <td>24/11/1996</td>\n",
              "      <td>HT0111</td>\n",
              "      <td>2021-02-16T16:57:55.754541Z</td>\n",
              "      <td>2021-02-16T16:57:55.754582Z</td>\n",
              "      <td>HT01</td>\n",
              "      <td>Bachelors (bacc +4)</td>\n",
              "      <td>Ecole Supérieure d'Infotronique d'Haïti (ESIH)</td>\n",
              "      <td>['item1', 'item6']</td>\n",
              "      <td>No</td>\n",
              "      <td>unknown</td>\n",
              "      <td>Yes</td>\n",
              "      <td>Yes</td>\n",
              "      <td>ESIH</td>\n",
              "      <td>Improving my data analysis skills</td>\n",
              "      <td>905e4cf5-ce95-11eb-96a9-7c67a234f601</td>\n",
              "      <td>Port-au-Prince</td>\n",
              "      <td>Port-au-Prince</td>\n",
              "      <td>West</td>\n",
              "      <td>HT01</td>\n",
              "    </tr>\n",
              "    <tr>\n",
              "      <th>4</th>\n",
              "      <td>4</td>\n",
              "      <td>male</td>\n",
              "      <td>20/07/1997</td>\n",
              "      <td>HT0111</td>\n",
              "      <td>2021-02-16T17:05:40.907948Z</td>\n",
              "      <td>2021-02-16T17:05:40.907982Z</td>\n",
              "      <td>HT01</td>\n",
              "      <td>High School (16 years)</td>\n",
              "      <td>unknown</td>\n",
              "      <td>['other']</td>\n",
              "      <td>No</td>\n",
              "      <td>unknown</td>\n",
              "      <td>Yes</td>\n",
              "      <td>Yes</td>\n",
              "      <td>WhatsApp</td>\n",
              "      <td>Mentorship</td>\n",
              "      <td>905e73fd-ce95-11eb-a7b0-7c67a234f601</td>\n",
              "      <td>Port-au-Prince</td>\n",
              "      <td>Port-au-Prince</td>\n",
              "      <td>West</td>\n",
              "      <td>HT01</td>\n",
              "    </tr>\n",
              "    <tr>\n",
              "      <th>...</th>\n",
              "      <td>...</td>\n",
              "      <td>...</td>\n",
              "      <td>...</td>\n",
              "      <td>...</td>\n",
              "      <td>...</td>\n",
              "      <td>...</td>\n",
              "      <td>...</td>\n",
              "      <td>...</td>\n",
              "      <td>...</td>\n",
              "      <td>...</td>\n",
              "      <td>...</td>\n",
              "      <td>...</td>\n",
              "      <td>...</td>\n",
              "      <td>...</td>\n",
              "      <td>...</td>\n",
              "      <td>...</td>\n",
              "      <td>...</td>\n",
              "      <td>...</td>\n",
              "      <td>...</td>\n",
              "      <td>...</td>\n",
              "      <td>...</td>\n",
              "    </tr>\n",
              "    <tr>\n",
              "      <th>245</th>\n",
              "      <td>245</td>\n",
              "      <td>male</td>\n",
              "      <td>15/02/1994</td>\n",
              "      <td>HT0621</td>\n",
              "      <td>2021-03-02T18:39:19.873194Z</td>\n",
              "      <td>2021-03-02T18:39:19.873237Z</td>\n",
              "      <td>HT06</td>\n",
              "      <td>Bachelors (bacc +4)</td>\n",
              "      <td>other</td>\n",
              "      <td>['other']</td>\n",
              "      <td>Yes</td>\n",
              "      <td>Yes</td>\n",
              "      <td>Yes</td>\n",
              "      <td>Yes</td>\n",
              "      <td>Facebook</td>\n",
              "      <td>Improving my data analysis skills</td>\n",
              "      <td>906b3c84-ce95-11eb-8c2a-7c67a234f601</td>\n",
              "      <td>Mirebalais</td>\n",
              "      <td>Mirebalais</td>\n",
              "      <td>Centre</td>\n",
              "      <td>HT06</td>\n",
              "    </tr>\n",
              "    <tr>\n",
              "      <th>246</th>\n",
              "      <td>246</td>\n",
              "      <td>male</td>\n",
              "      <td>8/10/1990</td>\n",
              "      <td>HT0621</td>\n",
              "      <td>2021-03-10T04:12:49.436154Z</td>\n",
              "      <td>2021-03-10T04:12:49.436213Z</td>\n",
              "      <td>HT06</td>\n",
              "      <td>Bachelors (bacc +4)</td>\n",
              "      <td>Université d'Etat d'Haïti (UEH)</td>\n",
              "      <td>['item8']</td>\n",
              "      <td>Yes</td>\n",
              "      <td>Yes</td>\n",
              "      <td>Yes</td>\n",
              "      <td>Yes</td>\n",
              "      <td>Friend</td>\n",
              "      <td>Improving my data analysis skills</td>\n",
              "      <td>906b3c85-ce95-11eb-9b87-7c67a234f601</td>\n",
              "      <td>Mirebalais</td>\n",
              "      <td>Mirebalais</td>\n",
              "      <td>Centre</td>\n",
              "      <td>HT06</td>\n",
              "    </tr>\n",
              "    <tr>\n",
              "      <th>247</th>\n",
              "      <td>247</td>\n",
              "      <td>male</td>\n",
              "      <td>28/12/1993</td>\n",
              "      <td>HT0621</td>\n",
              "      <td>2021-03-14T15:29:32.474015Z</td>\n",
              "      <td>2021-03-14T15:29:32.474055Z</td>\n",
              "      <td>HT06</td>\n",
              "      <td>Bachelors (bacc +4)</td>\n",
              "      <td>Centre de Techniques de Planification et d'Eco...</td>\n",
              "      <td>['item2']</td>\n",
              "      <td>Yes</td>\n",
              "      <td>Yes</td>\n",
              "      <td>Yes</td>\n",
              "      <td>Yes</td>\n",
              "      <td>Friend</td>\n",
              "      <td>Improving my data analysis skills</td>\n",
              "      <td>906b3c86-ce95-11eb-b6a7-7c67a234f601</td>\n",
              "      <td>Mirebalais</td>\n",
              "      <td>Mirebalais</td>\n",
              "      <td>Centre</td>\n",
              "      <td>HT06</td>\n",
              "    </tr>\n",
              "    <tr>\n",
              "      <th>248</th>\n",
              "      <td>248</td>\n",
              "      <td>male</td>\n",
              "      <td>17/04/1992</td>\n",
              "      <td>HT0412</td>\n",
              "      <td>2021-03-08T16:35:07.806100Z</td>\n",
              "      <td>2021-03-08T16:35:07.806161Z</td>\n",
              "      <td>HT04</td>\n",
              "      <td>Bachelors (bacc +4)</td>\n",
              "      <td>other</td>\n",
              "      <td>['item1']</td>\n",
              "      <td>No</td>\n",
              "      <td>unknown</td>\n",
              "      <td>Yes</td>\n",
              "      <td>Yes</td>\n",
              "      <td>Facebook</td>\n",
              "      <td>Improving my data analysis skills</td>\n",
              "      <td>906b65e2-ce95-11eb-8b5c-7c67a234f601</td>\n",
              "      <td>Ferrier</td>\n",
              "      <td>Ferrier</td>\n",
              "      <td>North-East</td>\n",
              "      <td>HT04</td>\n",
              "    </tr>\n",
              "    <tr>\n",
              "      <th>249</th>\n",
              "      <td>249</td>\n",
              "      <td>male</td>\n",
              "      <td>22/07/1993</td>\n",
              "      <td>HT1012</td>\n",
              "      <td>2021-03-10T21:41:05.708748Z</td>\n",
              "      <td>2021-03-10T21:41:05.708787Z</td>\n",
              "      <td>HT10</td>\n",
              "      <td>Masters</td>\n",
              "      <td>other</td>\n",
              "      <td>['other']</td>\n",
              "      <td>No</td>\n",
              "      <td>unknown</td>\n",
              "      <td>Yes</td>\n",
              "      <td>Yes</td>\n",
              "      <td>Facebook</td>\n",
              "      <td>Improving my data analysis skills</td>\n",
              "      <td>906b65e3-ce95-11eb-a294-7c67a234f601</td>\n",
              "      <td>Petite Riviere de Nippes</td>\n",
              "      <td>Petite Rivière de Nippes</td>\n",
              "      <td>Nippes</td>\n",
              "      <td>HT10</td>\n",
              "    </tr>\n",
              "  </tbody>\n",
              "</table>\n",
              "<p>250 rows × 21 columns</p>\n",
              "</div>"
            ],
            "text/plain": [
              "     Unnamed: 0  gender  ... Departement ADM1_PCODE\n",
              "0             0    male  ...         NaN        NaN\n",
              "1             1  female  ...        West       HT01\n",
              "2             2    male  ...        West       HT01\n",
              "3             3    male  ...        West       HT01\n",
              "4             4    male  ...        West       HT01\n",
              "..          ...     ...  ...         ...        ...\n",
              "245         245    male  ...      Centre       HT06\n",
              "246         246    male  ...      Centre       HT06\n",
              "247         247    male  ...      Centre       HT06\n",
              "248         248    male  ...  North-East       HT04\n",
              "249         249    male  ...      Nippes       HT10\n",
              "\n",
              "[250 rows x 21 columns]"
            ]
          },
          "metadata": {
            "tags": []
          },
          "execution_count": 88
        }
      ]
    },
    {
      "cell_type": "code",
      "metadata": {
        "colab": {
          "base_uri": "https://localhost:8080/",
          "height": 253
        },
        "id": "HUcl_8kKV1vb",
        "outputId": "b9cdd1a8-b9e5-4ff9-f036-ce4116038076"
      },
      "source": [
        "result2=pd.merge(left=result1, right=study_domain2, how = 'left',on='quest_id')\n",
        "result2.head(2)"
      ],
      "execution_count": 89,
      "outputs": [
        {
          "output_type": "execute_result",
          "data": {
            "text/html": [
              "<div>\n",
              "<style scoped>\n",
              "    .dataframe tbody tr th:only-of-type {\n",
              "        vertical-align: middle;\n",
              "    }\n",
              "\n",
              "    .dataframe tbody tr th {\n",
              "        vertical-align: top;\n",
              "    }\n",
              "\n",
              "    .dataframe thead th {\n",
              "        text-align: right;\n",
              "    }\n",
              "</style>\n",
              "<table border=\"1\" class=\"dataframe\">\n",
              "  <thead>\n",
              "    <tr style=\"text-align: right;\">\n",
              "      <th></th>\n",
              "      <th>Unnamed: 0</th>\n",
              "      <th>gender</th>\n",
              "      <th>dob</th>\n",
              "      <th>commune</th>\n",
              "      <th>created_at</th>\n",
              "      <th>modified_at</th>\n",
              "      <th>department</th>\n",
              "      <th>education_level</th>\n",
              "      <th>university</th>\n",
              "      <th>study_domain</th>\n",
              "      <th>current_employed</th>\n",
              "      <th>formal_sector_job</th>\n",
              "      <th>have_computer_home</th>\n",
              "      <th>internet_at_home</th>\n",
              "      <th>hear_AA_1</th>\n",
              "      <th>after_AA</th>\n",
              "      <th>quest_id</th>\n",
              "      <th>Commune_en</th>\n",
              "      <th>Commune_FR</th>\n",
              "      <th>Departement</th>\n",
              "      <th>ADM1_PCODE</th>\n",
              "      <th>Accounting</th>\n",
              "      <th>Computer Science</th>\n",
              "      <th>Economics</th>\n",
              "      <th>Electrical Engineering</th>\n",
              "      <th>Law</th>\n",
              "      <th>Management</th>\n",
              "      <th>Medicine</th>\n",
              "      <th>Statistics</th>\n",
              "      <th>other</th>\n",
              "    </tr>\n",
              "  </thead>\n",
              "  <tbody>\n",
              "    <tr>\n",
              "      <th>0</th>\n",
              "      <td>0</td>\n",
              "      <td>male</td>\n",
              "      <td>25/08/1998</td>\n",
              "      <td>HT0111</td>\n",
              "      <td>2021-02-14T23:03:52.768400Z</td>\n",
              "      <td>2021-02-14T23:03:52.768462Z</td>\n",
              "      <td>NAN</td>\n",
              "      <td>unknown</td>\n",
              "      <td>unknown</td>\n",
              "      <td>[]</td>\n",
              "      <td>unknown</td>\n",
              "      <td>unknown</td>\n",
              "      <td>unknown</td>\n",
              "      <td>unknown</td>\n",
              "      <td>unknown</td>\n",
              "      <td>unknown</td>\n",
              "      <td>905dc006-ce95-11eb-b2f9-7c67a234f601</td>\n",
              "      <td>NaN</td>\n",
              "      <td>NaN</td>\n",
              "      <td>NaN</td>\n",
              "      <td>NaN</td>\n",
              "      <td>NaN</td>\n",
              "      <td>NaN</td>\n",
              "      <td>NaN</td>\n",
              "      <td>NaN</td>\n",
              "      <td>NaN</td>\n",
              "      <td>NaN</td>\n",
              "      <td>NaN</td>\n",
              "      <td>NaN</td>\n",
              "      <td>NaN</td>\n",
              "    </tr>\n",
              "    <tr>\n",
              "      <th>1</th>\n",
              "      <td>1</td>\n",
              "      <td>female</td>\n",
              "      <td>29/09/1996</td>\n",
              "      <td>HT0111</td>\n",
              "      <td>2021-02-16T16:01:10.861844Z</td>\n",
              "      <td>2021-02-16T16:01:10.861899Z</td>\n",
              "      <td>HT01</td>\n",
              "      <td>Bachelors (bacc +4)</td>\n",
              "      <td>other</td>\n",
              "      <td>['other']</td>\n",
              "      <td>No</td>\n",
              "      <td>unknown</td>\n",
              "      <td>Yes</td>\n",
              "      <td>Yes</td>\n",
              "      <td>Friend</td>\n",
              "      <td>Finding a job/internship</td>\n",
              "      <td>905ddcf2-ce95-11eb-9a92-7c67a234f601</td>\n",
              "      <td>Port-au-Prince</td>\n",
              "      <td>Port-au-Prince</td>\n",
              "      <td>West</td>\n",
              "      <td>HT01</td>\n",
              "      <td>0.0</td>\n",
              "      <td>0.0</td>\n",
              "      <td>0.0</td>\n",
              "      <td>0.0</td>\n",
              "      <td>0.0</td>\n",
              "      <td>0.0</td>\n",
              "      <td>0.0</td>\n",
              "      <td>0.0</td>\n",
              "      <td>1.0</td>\n",
              "    </tr>\n",
              "  </tbody>\n",
              "</table>\n",
              "</div>"
            ],
            "text/plain": [
              "   Unnamed: 0  gender         dob  ... Medicine Statistics other\n",
              "0           0    male  25/08/1998  ...      NaN        NaN   NaN\n",
              "1           1  female  29/09/1996  ...      0.0        0.0   1.0\n",
              "\n",
              "[2 rows x 30 columns]"
            ]
          },
          "metadata": {
            "tags": []
          },
          "execution_count": 89
        }
      ]
    },
    {
      "cell_type": "code",
      "metadata": {
        "id": "gfyQ7NIS4iDl"
      },
      "source": [
        "result3=pd.merge(enroll,transaction, how = 'right',left_on =['user_id'],right_on = ['user_id'])"
      ],
      "execution_count": 90,
      "outputs": []
    },
    {
      "cell_type": "code",
      "metadata": {
        "colab": {
          "base_uri": "https://localhost:8080/",
          "height": 253
        },
        "id": "GrfVDcrIUUFD",
        "outputId": "41963d31-7a67-4e49-c6f5-5656c4e798c9"
      },
      "source": [
        "result3.head(2)"
      ],
      "execution_count": 91,
      "outputs": [
        {
          "output_type": "execute_result",
          "data": {
            "text/html": [
              "<div>\n",
              "<style scoped>\n",
              "    .dataframe tbody tr th:only-of-type {\n",
              "        vertical-align: middle;\n",
              "    }\n",
              "\n",
              "    .dataframe tbody tr th {\n",
              "        vertical-align: top;\n",
              "    }\n",
              "\n",
              "    .dataframe thead th {\n",
              "        text-align: right;\n",
              "    }\n",
              "</style>\n",
              "<table border=\"1\" class=\"dataframe\">\n",
              "  <thead>\n",
              "    <tr style=\"text-align: right;\">\n",
              "      <th></th>\n",
              "      <th>Unnamed: 0_x</th>\n",
              "      <th>created_at_x</th>\n",
              "      <th>expiry_date</th>\n",
              "      <th>user_id</th>\n",
              "      <th>course_name</th>\n",
              "      <th>course_id_x</th>\n",
              "      <th>percentage_completed</th>\n",
              "      <th>completed_at</th>\n",
              "      <th>expired</th>\n",
              "      <th>is_free_trial</th>\n",
              "      <th>completed</th>\n",
              "      <th>started_at</th>\n",
              "      <th>activated_at</th>\n",
              "      <th>updated_at</th>\n",
              "      <th>quest_id</th>\n",
              "      <th>Unnamed: 0_y</th>\n",
              "      <th>created_at_y</th>\n",
              "      <th>modified_at</th>\n",
              "      <th>course_id_y</th>\n",
              "      <th>transaction_id</th>\n",
              "    </tr>\n",
              "  </thead>\n",
              "  <tbody>\n",
              "    <tr>\n",
              "      <th>0</th>\n",
              "      <td>129</td>\n",
              "      <td>2021-03-08T05:08:50.684Z</td>\n",
              "      <td>2071-02-24T05:09:12.000Z</td>\n",
              "      <td>40976440</td>\n",
              "      <td>Entwodiksyon Nan Syans Done</td>\n",
              "      <td>1047613</td>\n",
              "      <td>0.697674</td>\n",
              "      <td>NaN</td>\n",
              "      <td>False</td>\n",
              "      <td>False</td>\n",
              "      <td>False</td>\n",
              "      <td>2021-03-09T00:27:53.844Z</td>\n",
              "      <td>2021-03-08T05:08:50.000Z</td>\n",
              "      <td>2021-03-14T20:59:58.974Z</td>\n",
              "      <td>90659b00-ce95-11eb-9e8f-7c67a234f601</td>\n",
              "      <td>0</td>\n",
              "      <td>2021-03-08T05:08:50.832Z</td>\n",
              "      <td>2021-03-08T05:08:50.832Z</td>\n",
              "      <td>1047613</td>\n",
              "      <td>4641281952</td>\n",
              "    </tr>\n",
              "    <tr>\n",
              "      <th>1</th>\n",
              "      <td>130</td>\n",
              "      <td>2021-03-08T17:26:35.715Z</td>\n",
              "      <td>2071-02-24T17:26:38.000Z</td>\n",
              "      <td>41179271</td>\n",
              "      <td>Entwodiksyon Nan Syans Done</td>\n",
              "      <td>1047613</td>\n",
              "      <td>0.348837</td>\n",
              "      <td>NaN</td>\n",
              "      <td>False</td>\n",
              "      <td>False</td>\n",
              "      <td>False</td>\n",
              "      <td>2021-03-08T17:28:47.207Z</td>\n",
              "      <td>2021-03-08T17:26:35.000Z</td>\n",
              "      <td>2021-03-09T18:27:55.012Z</td>\n",
              "      <td>9064c428-ce95-11eb-a021-7c67a234f601</td>\n",
              "      <td>1</td>\n",
              "      <td>2021-03-08T17:26:35.841Z</td>\n",
              "      <td>2021-03-08T17:26:35.841Z</td>\n",
              "      <td>1047613</td>\n",
              "      <td>4644270160</td>\n",
              "    </tr>\n",
              "  </tbody>\n",
              "</table>\n",
              "</div>"
            ],
            "text/plain": [
              "   Unnamed: 0_x              created_at_x  ... course_id_y  transaction_id\n",
              "0           129  2021-03-08T05:08:50.684Z  ...     1047613      4641281952\n",
              "1           130  2021-03-08T17:26:35.715Z  ...     1047613      4644270160\n",
              "\n",
              "[2 rows x 20 columns]"
            ]
          },
          "metadata": {
            "tags": []
          },
          "execution_count": 91
        }
      ]
    },
    {
      "cell_type": "code",
      "metadata": {
        "colab": {
          "base_uri": "https://localhost:8080/",
          "height": 253
        },
        "id": "0C9W3a_x4Yn7",
        "outputId": "b8c7e4df-f974-4205-f43b-d8f29e1c6cd1"
      },
      "source": [
        "result4 =pd.merge(enroll,ord, how = 'right',left_on =['user_id'],right_on = ['user_id'] )\n",
        "result4.head(2)"
      ],
      "execution_count": 92,
      "outputs": [
        {
          "output_type": "execute_result",
          "data": {
            "text/html": [
              "<div>\n",
              "<style scoped>\n",
              "    .dataframe tbody tr th:only-of-type {\n",
              "        vertical-align: middle;\n",
              "    }\n",
              "\n",
              "    .dataframe tbody tr th {\n",
              "        vertical-align: top;\n",
              "    }\n",
              "\n",
              "    .dataframe thead th {\n",
              "        text-align: right;\n",
              "    }\n",
              "</style>\n",
              "<table border=\"1\" class=\"dataframe\">\n",
              "  <thead>\n",
              "    <tr style=\"text-align: right;\">\n",
              "      <th></th>\n",
              "      <th>Unnamed: 0_x</th>\n",
              "      <th>created_at_x</th>\n",
              "      <th>expiry_date</th>\n",
              "      <th>user_id</th>\n",
              "      <th>course_name</th>\n",
              "      <th>course_id</th>\n",
              "      <th>percentage_completed</th>\n",
              "      <th>completed_at</th>\n",
              "      <th>expired</th>\n",
              "      <th>is_free_trial</th>\n",
              "      <th>completed</th>\n",
              "      <th>started_at</th>\n",
              "      <th>activated_at</th>\n",
              "      <th>updated_at</th>\n",
              "      <th>quest_id_x</th>\n",
              "      <th>Unnamed: 0_y</th>\n",
              "      <th>created_at_y</th>\n",
              "      <th>product_name</th>\n",
              "      <th>product_id</th>\n",
              "      <th>amount_dollars</th>\n",
              "      <th>amount_cents</th>\n",
              "      <th>subscription</th>\n",
              "      <th>coupon_code</th>\n",
              "      <th>coupon_id</th>\n",
              "      <th>affiliate_referral_code</th>\n",
              "      <th>status</th>\n",
              "      <th>quest_id_y</th>\n",
              "    </tr>\n",
              "  </thead>\n",
              "  <tbody>\n",
              "    <tr>\n",
              "      <th>0</th>\n",
              "      <td>146.0</td>\n",
              "      <td>2021-03-14T15:34:39.800Z</td>\n",
              "      <td>NaN</td>\n",
              "      <td>41587952</td>\n",
              "      <td>Entwodiksyon Nan Syans Done</td>\n",
              "      <td>1047613.0</td>\n",
              "      <td>0.325581</td>\n",
              "      <td>NaN</td>\n",
              "      <td>False</td>\n",
              "      <td>False</td>\n",
              "      <td>False</td>\n",
              "      <td>2021-03-14T15:34:56.007Z</td>\n",
              "      <td>2021-03-14T15:34:39.768Z</td>\n",
              "      <td>2021-03-14T17:30:53.379Z</td>\n",
              "      <td>906b3c86-ce95-11eb-b6a7-7c67a234f601</td>\n",
              "      <td>0</td>\n",
              "      <td>2021-03-14T15:34:35.014Z</td>\n",
              "      <td>Entwodiksyon Nan Syans Done</td>\n",
              "      <td>1100636</td>\n",
              "      <td>20</td>\n",
              "      <td>2000</td>\n",
              "      <td>False</td>\n",
              "      <td>NaN</td>\n",
              "      <td>NaN</td>\n",
              "      <td>NaN</td>\n",
              "      <td>Complete</td>\n",
              "      <td>906b3c86-ce95-11eb-b6a7-7c67a234f601</td>\n",
              "    </tr>\n",
              "    <tr>\n",
              "      <th>1</th>\n",
              "      <td>144.0</td>\n",
              "      <td>2021-03-14T04:20:30.803Z</td>\n",
              "      <td>NaN</td>\n",
              "      <td>41564742</td>\n",
              "      <td>Entwodiksyon Nan Syans Done</td>\n",
              "      <td>1047613.0</td>\n",
              "      <td>0.023256</td>\n",
              "      <td>NaN</td>\n",
              "      <td>False</td>\n",
              "      <td>False</td>\n",
              "      <td>False</td>\n",
              "      <td>2021-03-14T04:22:12.626Z</td>\n",
              "      <td>2021-03-14T04:20:30.786Z</td>\n",
              "      <td>2021-03-14T04:48:39.798Z</td>\n",
              "      <td>906636cf-ce95-11eb-8679-7c67a234f601</td>\n",
              "      <td>1</td>\n",
              "      <td>2021-03-14T04:20:23.483Z</td>\n",
              "      <td>Entwodiksyon Nan Syans Done</td>\n",
              "      <td>1100636</td>\n",
              "      <td>20</td>\n",
              "      <td>2000</td>\n",
              "      <td>False</td>\n",
              "      <td>NaN</td>\n",
              "      <td>NaN</td>\n",
              "      <td>NaN</td>\n",
              "      <td>Complete</td>\n",
              "      <td>906636cf-ce95-11eb-8679-7c67a234f601</td>\n",
              "    </tr>\n",
              "  </tbody>\n",
              "</table>\n",
              "</div>"
            ],
            "text/plain": [
              "   Unnamed: 0_x  ...                            quest_id_y\n",
              "0         146.0  ...  906b3c86-ce95-11eb-b6a7-7c67a234f601\n",
              "1         144.0  ...  906636cf-ce95-11eb-8679-7c67a234f601\n",
              "\n",
              "[2 rows x 27 columns]"
            ]
          },
          "metadata": {
            "tags": []
          },
          "execution_count": 92
        }
      ]
    },
    {
      "cell_type": "code",
      "metadata": {
        "colab": {
          "base_uri": "https://localhost:8080/",
          "height": 422
        },
        "id": "Tied3Eqs4Yqi",
        "outputId": "46d7ed4d-2423-4f87-f64d-8aee449da58c"
      },
      "source": [
        "result3['Payment Method'] = 'Yes'\n",
        "result4['Payment Method'] = 'Yes'\n",
        "x = result4.loc[:,['Payment Method','quest_id_y']]\n",
        "y = result3.loc[:,['Payment Method','quest_id']]\n",
        "x=x.rename(columns = {'quest_id_y': 'quest_id'})\n",
        "z = pd.concat([x,y],axis = 0)\n",
        "display(z)\n"
      ],
      "execution_count": 93,
      "outputs": [
        {
          "output_type": "display_data",
          "data": {
            "text/html": [
              "<div>\n",
              "<style scoped>\n",
              "    .dataframe tbody tr th:only-of-type {\n",
              "        vertical-align: middle;\n",
              "    }\n",
              "\n",
              "    .dataframe tbody tr th {\n",
              "        vertical-align: top;\n",
              "    }\n",
              "\n",
              "    .dataframe thead th {\n",
              "        text-align: right;\n",
              "    }\n",
              "</style>\n",
              "<table border=\"1\" class=\"dataframe\">\n",
              "  <thead>\n",
              "    <tr style=\"text-align: right;\">\n",
              "      <th></th>\n",
              "      <th>Payment Method</th>\n",
              "      <th>quest_id</th>\n",
              "    </tr>\n",
              "  </thead>\n",
              "  <tbody>\n",
              "    <tr>\n",
              "      <th>0</th>\n",
              "      <td>Yes</td>\n",
              "      <td>906b3c86-ce95-11eb-b6a7-7c67a234f601</td>\n",
              "    </tr>\n",
              "    <tr>\n",
              "      <th>1</th>\n",
              "      <td>Yes</td>\n",
              "      <td>906636cf-ce95-11eb-8679-7c67a234f601</td>\n",
              "    </tr>\n",
              "    <tr>\n",
              "      <th>2</th>\n",
              "      <td>Yes</td>\n",
              "      <td>906968f5-ce95-11eb-9e1a-7c67a234f601</td>\n",
              "    </tr>\n",
              "    <tr>\n",
              "      <th>3</th>\n",
              "      <td>Yes</td>\n",
              "      <td>9060477c-ce95-11eb-ace3-7c67a234f601</td>\n",
              "    </tr>\n",
              "    <tr>\n",
              "      <th>4</th>\n",
              "      <td>Yes</td>\n",
              "      <td>9064ff29-ce95-11eb-a3d3-7c67a234f601</td>\n",
              "    </tr>\n",
              "    <tr>\n",
              "      <th>...</th>\n",
              "      <td>...</td>\n",
              "      <td>...</td>\n",
              "    </tr>\n",
              "    <tr>\n",
              "      <th>55</th>\n",
              "      <td>Yes</td>\n",
              "      <td>NaN</td>\n",
              "    </tr>\n",
              "    <tr>\n",
              "      <th>56</th>\n",
              "      <td>Yes</td>\n",
              "      <td>90691afb-ce95-11eb-a4c3-7c67a234f601</td>\n",
              "    </tr>\n",
              "    <tr>\n",
              "      <th>57</th>\n",
              "      <td>Yes</td>\n",
              "      <td>906b65e3-ce95-11eb-a294-7c67a234f601</td>\n",
              "    </tr>\n",
              "    <tr>\n",
              "      <th>58</th>\n",
              "      <td>Yes</td>\n",
              "      <td>906241d5-ce95-11eb-9850-7c67a234f601</td>\n",
              "    </tr>\n",
              "    <tr>\n",
              "      <th>59</th>\n",
              "      <td>Yes</td>\n",
              "      <td>NaN</td>\n",
              "    </tr>\n",
              "  </tbody>\n",
              "</table>\n",
              "<p>78 rows × 2 columns</p>\n",
              "</div>"
            ],
            "text/plain": [
              "   Payment Method                              quest_id\n",
              "0             Yes  906b3c86-ce95-11eb-b6a7-7c67a234f601\n",
              "1             Yes  906636cf-ce95-11eb-8679-7c67a234f601\n",
              "2             Yes  906968f5-ce95-11eb-9e1a-7c67a234f601\n",
              "3             Yes  9060477c-ce95-11eb-ace3-7c67a234f601\n",
              "4             Yes  9064ff29-ce95-11eb-a3d3-7c67a234f601\n",
              "..            ...                                   ...\n",
              "55            Yes                                   NaN\n",
              "56            Yes  90691afb-ce95-11eb-a4c3-7c67a234f601\n",
              "57            Yes  906b65e3-ce95-11eb-a294-7c67a234f601\n",
              "58            Yes  906241d5-ce95-11eb-9850-7c67a234f601\n",
              "59            Yes                                   NaN\n",
              "\n",
              "[78 rows x 2 columns]"
            ]
          },
          "metadata": {
            "tags": []
          }
        }
      ]
    },
    {
      "cell_type": "code",
      "metadata": {
        "colab": {
          "base_uri": "https://localhost:8080/",
          "height": 1000
        },
        "id": "IbbELS6W4YvT",
        "outputId": "f867bbc2-7437-42a1-e603-face0226ab8f"
      },
      "source": [
        "result5 = pd.merge(result1,z,how = 'left', left_on = 'quest_id', right_on= 'quest_id')\n",
        "result5"
      ],
      "execution_count": 94,
      "outputs": [
        {
          "output_type": "execute_result",
          "data": {
            "text/html": [
              "<div>\n",
              "<style scoped>\n",
              "    .dataframe tbody tr th:only-of-type {\n",
              "        vertical-align: middle;\n",
              "    }\n",
              "\n",
              "    .dataframe tbody tr th {\n",
              "        vertical-align: top;\n",
              "    }\n",
              "\n",
              "    .dataframe thead th {\n",
              "        text-align: right;\n",
              "    }\n",
              "</style>\n",
              "<table border=\"1\" class=\"dataframe\">\n",
              "  <thead>\n",
              "    <tr style=\"text-align: right;\">\n",
              "      <th></th>\n",
              "      <th>Unnamed: 0</th>\n",
              "      <th>gender</th>\n",
              "      <th>dob</th>\n",
              "      <th>commune</th>\n",
              "      <th>created_at</th>\n",
              "      <th>modified_at</th>\n",
              "      <th>department</th>\n",
              "      <th>education_level</th>\n",
              "      <th>university</th>\n",
              "      <th>study_domain</th>\n",
              "      <th>current_employed</th>\n",
              "      <th>formal_sector_job</th>\n",
              "      <th>have_computer_home</th>\n",
              "      <th>internet_at_home</th>\n",
              "      <th>hear_AA_1</th>\n",
              "      <th>after_AA</th>\n",
              "      <th>quest_id</th>\n",
              "      <th>Commune_en</th>\n",
              "      <th>Commune_FR</th>\n",
              "      <th>Departement</th>\n",
              "      <th>ADM1_PCODE</th>\n",
              "      <th>Payment Method</th>\n",
              "    </tr>\n",
              "  </thead>\n",
              "  <tbody>\n",
              "    <tr>\n",
              "      <th>0</th>\n",
              "      <td>0</td>\n",
              "      <td>male</td>\n",
              "      <td>25/08/1998</td>\n",
              "      <td>HT0111</td>\n",
              "      <td>2021-02-14T23:03:52.768400Z</td>\n",
              "      <td>2021-02-14T23:03:52.768462Z</td>\n",
              "      <td>NAN</td>\n",
              "      <td>unknown</td>\n",
              "      <td>unknown</td>\n",
              "      <td>[]</td>\n",
              "      <td>unknown</td>\n",
              "      <td>unknown</td>\n",
              "      <td>unknown</td>\n",
              "      <td>unknown</td>\n",
              "      <td>unknown</td>\n",
              "      <td>unknown</td>\n",
              "      <td>905dc006-ce95-11eb-b2f9-7c67a234f601</td>\n",
              "      <td>NaN</td>\n",
              "      <td>NaN</td>\n",
              "      <td>NaN</td>\n",
              "      <td>NaN</td>\n",
              "      <td>NaN</td>\n",
              "    </tr>\n",
              "    <tr>\n",
              "      <th>1</th>\n",
              "      <td>1</td>\n",
              "      <td>female</td>\n",
              "      <td>29/09/1996</td>\n",
              "      <td>HT0111</td>\n",
              "      <td>2021-02-16T16:01:10.861844Z</td>\n",
              "      <td>2021-02-16T16:01:10.861899Z</td>\n",
              "      <td>HT01</td>\n",
              "      <td>Bachelors (bacc +4)</td>\n",
              "      <td>other</td>\n",
              "      <td>['other']</td>\n",
              "      <td>No</td>\n",
              "      <td>unknown</td>\n",
              "      <td>Yes</td>\n",
              "      <td>Yes</td>\n",
              "      <td>Friend</td>\n",
              "      <td>Finding a job/internship</td>\n",
              "      <td>905ddcf2-ce95-11eb-9a92-7c67a234f601</td>\n",
              "      <td>Port-au-Prince</td>\n",
              "      <td>Port-au-Prince</td>\n",
              "      <td>West</td>\n",
              "      <td>HT01</td>\n",
              "      <td>NaN</td>\n",
              "    </tr>\n",
              "    <tr>\n",
              "      <th>2</th>\n",
              "      <td>2</td>\n",
              "      <td>male</td>\n",
              "      <td>17/05/1996</td>\n",
              "      <td>HT0111</td>\n",
              "      <td>2021-02-16T16:56:30.579504Z</td>\n",
              "      <td>2021-02-16T16:56:30.579563Z</td>\n",
              "      <td>HT01</td>\n",
              "      <td>Bachelors (bacc +4)</td>\n",
              "      <td>Université d'Etat d'Haïti (UEH)</td>\n",
              "      <td>[]</td>\n",
              "      <td>No</td>\n",
              "      <td>unknown</td>\n",
              "      <td>Yes</td>\n",
              "      <td>Yes</td>\n",
              "      <td>Friend</td>\n",
              "      <td>Improving my data analysis skills</td>\n",
              "      <td>905e2608-ce95-11eb-809f-7c67a234f601</td>\n",
              "      <td>Port-au-Prince</td>\n",
              "      <td>Port-au-Prince</td>\n",
              "      <td>West</td>\n",
              "      <td>HT01</td>\n",
              "      <td>Yes</td>\n",
              "    </tr>\n",
              "    <tr>\n",
              "      <th>3</th>\n",
              "      <td>3</td>\n",
              "      <td>male</td>\n",
              "      <td>24/11/1996</td>\n",
              "      <td>HT0111</td>\n",
              "      <td>2021-02-16T16:57:55.754541Z</td>\n",
              "      <td>2021-02-16T16:57:55.754582Z</td>\n",
              "      <td>HT01</td>\n",
              "      <td>Bachelors (bacc +4)</td>\n",
              "      <td>Ecole Supérieure d'Infotronique d'Haïti (ESIH)</td>\n",
              "      <td>['item1', 'item6']</td>\n",
              "      <td>No</td>\n",
              "      <td>unknown</td>\n",
              "      <td>Yes</td>\n",
              "      <td>Yes</td>\n",
              "      <td>ESIH</td>\n",
              "      <td>Improving my data analysis skills</td>\n",
              "      <td>905e4cf5-ce95-11eb-96a9-7c67a234f601</td>\n",
              "      <td>Port-au-Prince</td>\n",
              "      <td>Port-au-Prince</td>\n",
              "      <td>West</td>\n",
              "      <td>HT01</td>\n",
              "      <td>NaN</td>\n",
              "    </tr>\n",
              "    <tr>\n",
              "      <th>4</th>\n",
              "      <td>4</td>\n",
              "      <td>male</td>\n",
              "      <td>20/07/1997</td>\n",
              "      <td>HT0111</td>\n",
              "      <td>2021-02-16T17:05:40.907948Z</td>\n",
              "      <td>2021-02-16T17:05:40.907982Z</td>\n",
              "      <td>HT01</td>\n",
              "      <td>High School (16 years)</td>\n",
              "      <td>unknown</td>\n",
              "      <td>['other']</td>\n",
              "      <td>No</td>\n",
              "      <td>unknown</td>\n",
              "      <td>Yes</td>\n",
              "      <td>Yes</td>\n",
              "      <td>WhatsApp</td>\n",
              "      <td>Mentorship</td>\n",
              "      <td>905e73fd-ce95-11eb-a7b0-7c67a234f601</td>\n",
              "      <td>Port-au-Prince</td>\n",
              "      <td>Port-au-Prince</td>\n",
              "      <td>West</td>\n",
              "      <td>HT01</td>\n",
              "      <td>NaN</td>\n",
              "    </tr>\n",
              "    <tr>\n",
              "      <th>...</th>\n",
              "      <td>...</td>\n",
              "      <td>...</td>\n",
              "      <td>...</td>\n",
              "      <td>...</td>\n",
              "      <td>...</td>\n",
              "      <td>...</td>\n",
              "      <td>...</td>\n",
              "      <td>...</td>\n",
              "      <td>...</td>\n",
              "      <td>...</td>\n",
              "      <td>...</td>\n",
              "      <td>...</td>\n",
              "      <td>...</td>\n",
              "      <td>...</td>\n",
              "      <td>...</td>\n",
              "      <td>...</td>\n",
              "      <td>...</td>\n",
              "      <td>...</td>\n",
              "      <td>...</td>\n",
              "      <td>...</td>\n",
              "      <td>...</td>\n",
              "      <td>...</td>\n",
              "    </tr>\n",
              "    <tr>\n",
              "      <th>245</th>\n",
              "      <td>245</td>\n",
              "      <td>male</td>\n",
              "      <td>15/02/1994</td>\n",
              "      <td>HT0621</td>\n",
              "      <td>2021-03-02T18:39:19.873194Z</td>\n",
              "      <td>2021-03-02T18:39:19.873237Z</td>\n",
              "      <td>HT06</td>\n",
              "      <td>Bachelors (bacc +4)</td>\n",
              "      <td>other</td>\n",
              "      <td>['other']</td>\n",
              "      <td>Yes</td>\n",
              "      <td>Yes</td>\n",
              "      <td>Yes</td>\n",
              "      <td>Yes</td>\n",
              "      <td>Facebook</td>\n",
              "      <td>Improving my data analysis skills</td>\n",
              "      <td>906b3c84-ce95-11eb-8c2a-7c67a234f601</td>\n",
              "      <td>Mirebalais</td>\n",
              "      <td>Mirebalais</td>\n",
              "      <td>Centre</td>\n",
              "      <td>HT06</td>\n",
              "      <td>Yes</td>\n",
              "    </tr>\n",
              "    <tr>\n",
              "      <th>246</th>\n",
              "      <td>246</td>\n",
              "      <td>male</td>\n",
              "      <td>8/10/1990</td>\n",
              "      <td>HT0621</td>\n",
              "      <td>2021-03-10T04:12:49.436154Z</td>\n",
              "      <td>2021-03-10T04:12:49.436213Z</td>\n",
              "      <td>HT06</td>\n",
              "      <td>Bachelors (bacc +4)</td>\n",
              "      <td>Université d'Etat d'Haïti (UEH)</td>\n",
              "      <td>['item8']</td>\n",
              "      <td>Yes</td>\n",
              "      <td>Yes</td>\n",
              "      <td>Yes</td>\n",
              "      <td>Yes</td>\n",
              "      <td>Friend</td>\n",
              "      <td>Improving my data analysis skills</td>\n",
              "      <td>906b3c85-ce95-11eb-9b87-7c67a234f601</td>\n",
              "      <td>Mirebalais</td>\n",
              "      <td>Mirebalais</td>\n",
              "      <td>Centre</td>\n",
              "      <td>HT06</td>\n",
              "      <td>NaN</td>\n",
              "    </tr>\n",
              "    <tr>\n",
              "      <th>247</th>\n",
              "      <td>247</td>\n",
              "      <td>male</td>\n",
              "      <td>28/12/1993</td>\n",
              "      <td>HT0621</td>\n",
              "      <td>2021-03-14T15:29:32.474015Z</td>\n",
              "      <td>2021-03-14T15:29:32.474055Z</td>\n",
              "      <td>HT06</td>\n",
              "      <td>Bachelors (bacc +4)</td>\n",
              "      <td>Centre de Techniques de Planification et d'Eco...</td>\n",
              "      <td>['item2']</td>\n",
              "      <td>Yes</td>\n",
              "      <td>Yes</td>\n",
              "      <td>Yes</td>\n",
              "      <td>Yes</td>\n",
              "      <td>Friend</td>\n",
              "      <td>Improving my data analysis skills</td>\n",
              "      <td>906b3c86-ce95-11eb-b6a7-7c67a234f601</td>\n",
              "      <td>Mirebalais</td>\n",
              "      <td>Mirebalais</td>\n",
              "      <td>Centre</td>\n",
              "      <td>HT06</td>\n",
              "      <td>Yes</td>\n",
              "    </tr>\n",
              "    <tr>\n",
              "      <th>248</th>\n",
              "      <td>248</td>\n",
              "      <td>male</td>\n",
              "      <td>17/04/1992</td>\n",
              "      <td>HT0412</td>\n",
              "      <td>2021-03-08T16:35:07.806100Z</td>\n",
              "      <td>2021-03-08T16:35:07.806161Z</td>\n",
              "      <td>HT04</td>\n",
              "      <td>Bachelors (bacc +4)</td>\n",
              "      <td>other</td>\n",
              "      <td>['item1']</td>\n",
              "      <td>No</td>\n",
              "      <td>unknown</td>\n",
              "      <td>Yes</td>\n",
              "      <td>Yes</td>\n",
              "      <td>Facebook</td>\n",
              "      <td>Improving my data analysis skills</td>\n",
              "      <td>906b65e2-ce95-11eb-8b5c-7c67a234f601</td>\n",
              "      <td>Ferrier</td>\n",
              "      <td>Ferrier</td>\n",
              "      <td>North-East</td>\n",
              "      <td>HT04</td>\n",
              "      <td>Yes</td>\n",
              "    </tr>\n",
              "    <tr>\n",
              "      <th>249</th>\n",
              "      <td>249</td>\n",
              "      <td>male</td>\n",
              "      <td>22/07/1993</td>\n",
              "      <td>HT1012</td>\n",
              "      <td>2021-03-10T21:41:05.708748Z</td>\n",
              "      <td>2021-03-10T21:41:05.708787Z</td>\n",
              "      <td>HT10</td>\n",
              "      <td>Masters</td>\n",
              "      <td>other</td>\n",
              "      <td>['other']</td>\n",
              "      <td>No</td>\n",
              "      <td>unknown</td>\n",
              "      <td>Yes</td>\n",
              "      <td>Yes</td>\n",
              "      <td>Facebook</td>\n",
              "      <td>Improving my data analysis skills</td>\n",
              "      <td>906b65e3-ce95-11eb-a294-7c67a234f601</td>\n",
              "      <td>Petite Riviere de Nippes</td>\n",
              "      <td>Petite Rivière de Nippes</td>\n",
              "      <td>Nippes</td>\n",
              "      <td>HT10</td>\n",
              "      <td>Yes</td>\n",
              "    </tr>\n",
              "  </tbody>\n",
              "</table>\n",
              "<p>250 rows × 22 columns</p>\n",
              "</div>"
            ],
            "text/plain": [
              "     Unnamed: 0  gender         dob  ... Departement ADM1_PCODE Payment Method\n",
              "0             0    male  25/08/1998  ...         NaN        NaN            NaN\n",
              "1             1  female  29/09/1996  ...        West       HT01            NaN\n",
              "2             2    male  17/05/1996  ...        West       HT01            Yes\n",
              "3             3    male  24/11/1996  ...        West       HT01            NaN\n",
              "4             4    male  20/07/1997  ...        West       HT01            NaN\n",
              "..          ...     ...         ...  ...         ...        ...            ...\n",
              "245         245    male  15/02/1994  ...      Centre       HT06            Yes\n",
              "246         246    male   8/10/1990  ...      Centre       HT06            NaN\n",
              "247         247    male  28/12/1993  ...      Centre       HT06            Yes\n",
              "248         248    male  17/04/1992  ...  North-East       HT04            Yes\n",
              "249         249    male  22/07/1993  ...      Nippes       HT10            Yes\n",
              "\n",
              "[250 rows x 22 columns]"
            ]
          },
          "metadata": {
            "tags": []
          },
          "execution_count": 94
        }
      ]
    },
    {
      "cell_type": "code",
      "metadata": {
        "colab": {
          "base_uri": "https://localhost:8080/"
        },
        "id": "nY69gFKK89if",
        "outputId": "a40786c1-90ae-49e6-c776-03eec31506f4"
      },
      "source": [
        "result5.columns"
      ],
      "execution_count": 95,
      "outputs": [
        {
          "output_type": "execute_result",
          "data": {
            "text/plain": [
              "Index(['Unnamed: 0', 'gender', 'dob', 'commune', 'created_at', 'modified_at',\n",
              "       'department', 'education_level', 'university', 'study_domain',\n",
              "       'current_employed', 'formal_sector_job', 'have_computer_home',\n",
              "       'internet_at_home', 'hear_AA_1', 'after_AA', 'quest_id', 'Commune_en',\n",
              "       'Commune_FR', 'Departement', 'ADM1_PCODE', 'Payment Method'],\n",
              "      dtype='object')"
            ]
          },
          "metadata": {
            "tags": []
          },
          "execution_count": 95
        }
      ]
    },
    {
      "cell_type": "code",
      "metadata": {
        "id": "i1u2FSvn_js5",
        "colab": {
          "base_uri": "https://localhost:8080/",
          "height": 253
        },
        "outputId": "606bc5de-dbb7-4da2-acd4-f11051d7d75b"
      },
      "source": [
        "result5 = result5.loc[:, ['gender','dob','created_at','education_level','university','current_employed','formal_sector_job','have_computer_home','internet_at_home','hear_AA_1','after_AA','quest_id', 'Commune_FR','Departement','Payment Method']]\n",
        "result5.head(2)"
      ],
      "execution_count": 96,
      "outputs": [
        {
          "output_type": "execute_result",
          "data": {
            "text/html": [
              "<div>\n",
              "<style scoped>\n",
              "    .dataframe tbody tr th:only-of-type {\n",
              "        vertical-align: middle;\n",
              "    }\n",
              "\n",
              "    .dataframe tbody tr th {\n",
              "        vertical-align: top;\n",
              "    }\n",
              "\n",
              "    .dataframe thead th {\n",
              "        text-align: right;\n",
              "    }\n",
              "</style>\n",
              "<table border=\"1\" class=\"dataframe\">\n",
              "  <thead>\n",
              "    <tr style=\"text-align: right;\">\n",
              "      <th></th>\n",
              "      <th>gender</th>\n",
              "      <th>dob</th>\n",
              "      <th>created_at</th>\n",
              "      <th>education_level</th>\n",
              "      <th>university</th>\n",
              "      <th>current_employed</th>\n",
              "      <th>formal_sector_job</th>\n",
              "      <th>have_computer_home</th>\n",
              "      <th>internet_at_home</th>\n",
              "      <th>hear_AA_1</th>\n",
              "      <th>after_AA</th>\n",
              "      <th>quest_id</th>\n",
              "      <th>Commune_FR</th>\n",
              "      <th>Departement</th>\n",
              "      <th>Payment Method</th>\n",
              "    </tr>\n",
              "  </thead>\n",
              "  <tbody>\n",
              "    <tr>\n",
              "      <th>0</th>\n",
              "      <td>male</td>\n",
              "      <td>25/08/1998</td>\n",
              "      <td>2021-02-14T23:03:52.768400Z</td>\n",
              "      <td>unknown</td>\n",
              "      <td>unknown</td>\n",
              "      <td>unknown</td>\n",
              "      <td>unknown</td>\n",
              "      <td>unknown</td>\n",
              "      <td>unknown</td>\n",
              "      <td>unknown</td>\n",
              "      <td>unknown</td>\n",
              "      <td>905dc006-ce95-11eb-b2f9-7c67a234f601</td>\n",
              "      <td>NaN</td>\n",
              "      <td>NaN</td>\n",
              "      <td>NaN</td>\n",
              "    </tr>\n",
              "    <tr>\n",
              "      <th>1</th>\n",
              "      <td>female</td>\n",
              "      <td>29/09/1996</td>\n",
              "      <td>2021-02-16T16:01:10.861844Z</td>\n",
              "      <td>Bachelors (bacc +4)</td>\n",
              "      <td>other</td>\n",
              "      <td>No</td>\n",
              "      <td>unknown</td>\n",
              "      <td>Yes</td>\n",
              "      <td>Yes</td>\n",
              "      <td>Friend</td>\n",
              "      <td>Finding a job/internship</td>\n",
              "      <td>905ddcf2-ce95-11eb-9a92-7c67a234f601</td>\n",
              "      <td>Port-au-Prince</td>\n",
              "      <td>West</td>\n",
              "      <td>NaN</td>\n",
              "    </tr>\n",
              "  </tbody>\n",
              "</table>\n",
              "</div>"
            ],
            "text/plain": [
              "   gender         dob  ... Departement Payment Method\n",
              "0    male  25/08/1998  ...         NaN            NaN\n",
              "1  female  29/09/1996  ...        West            NaN\n",
              "\n",
              "[2 rows x 15 columns]"
            ]
          },
          "metadata": {
            "tags": []
          },
          "execution_count": 96
        }
      ]
    },
    {
      "cell_type": "code",
      "metadata": {
        "id": "xwgeUuG0mRXb",
        "colab": {
          "base_uri": "https://localhost:8080/",
          "height": 454
        },
        "outputId": "fac03931-1157-4f87-e85c-857e5d5198fb"
      },
      "source": [
        "my_dict = {'gender':'Sex','created_at':'date','hear_AA_1':'Channel','after_AA':'what will you do after'}\n",
        "result5.rename(columns=my_dict, inplace=True)\n",
        "display(result5.head(4))"
      ],
      "execution_count": 97,
      "outputs": [
        {
          "output_type": "display_data",
          "data": {
            "text/html": [
              "<div>\n",
              "<style scoped>\n",
              "    .dataframe tbody tr th:only-of-type {\n",
              "        vertical-align: middle;\n",
              "    }\n",
              "\n",
              "    .dataframe tbody tr th {\n",
              "        vertical-align: top;\n",
              "    }\n",
              "\n",
              "    .dataframe thead th {\n",
              "        text-align: right;\n",
              "    }\n",
              "</style>\n",
              "<table border=\"1\" class=\"dataframe\">\n",
              "  <thead>\n",
              "    <tr style=\"text-align: right;\">\n",
              "      <th></th>\n",
              "      <th>Sex</th>\n",
              "      <th>dob</th>\n",
              "      <th>date</th>\n",
              "      <th>education_level</th>\n",
              "      <th>university</th>\n",
              "      <th>current_employed</th>\n",
              "      <th>formal_sector_job</th>\n",
              "      <th>have_computer_home</th>\n",
              "      <th>internet_at_home</th>\n",
              "      <th>Channel</th>\n",
              "      <th>what will you do after</th>\n",
              "      <th>quest_id</th>\n",
              "      <th>Commune_FR</th>\n",
              "      <th>Departement</th>\n",
              "      <th>Payment Method</th>\n",
              "    </tr>\n",
              "  </thead>\n",
              "  <tbody>\n",
              "    <tr>\n",
              "      <th>0</th>\n",
              "      <td>male</td>\n",
              "      <td>25/08/1998</td>\n",
              "      <td>2021-02-14T23:03:52.768400Z</td>\n",
              "      <td>unknown</td>\n",
              "      <td>unknown</td>\n",
              "      <td>unknown</td>\n",
              "      <td>unknown</td>\n",
              "      <td>unknown</td>\n",
              "      <td>unknown</td>\n",
              "      <td>unknown</td>\n",
              "      <td>unknown</td>\n",
              "      <td>905dc006-ce95-11eb-b2f9-7c67a234f601</td>\n",
              "      <td>NaN</td>\n",
              "      <td>NaN</td>\n",
              "      <td>NaN</td>\n",
              "    </tr>\n",
              "    <tr>\n",
              "      <th>1</th>\n",
              "      <td>female</td>\n",
              "      <td>29/09/1996</td>\n",
              "      <td>2021-02-16T16:01:10.861844Z</td>\n",
              "      <td>Bachelors (bacc +4)</td>\n",
              "      <td>other</td>\n",
              "      <td>No</td>\n",
              "      <td>unknown</td>\n",
              "      <td>Yes</td>\n",
              "      <td>Yes</td>\n",
              "      <td>Friend</td>\n",
              "      <td>Finding a job/internship</td>\n",
              "      <td>905ddcf2-ce95-11eb-9a92-7c67a234f601</td>\n",
              "      <td>Port-au-Prince</td>\n",
              "      <td>West</td>\n",
              "      <td>NaN</td>\n",
              "    </tr>\n",
              "    <tr>\n",
              "      <th>2</th>\n",
              "      <td>male</td>\n",
              "      <td>17/05/1996</td>\n",
              "      <td>2021-02-16T16:56:30.579504Z</td>\n",
              "      <td>Bachelors (bacc +4)</td>\n",
              "      <td>Université d'Etat d'Haïti (UEH)</td>\n",
              "      <td>No</td>\n",
              "      <td>unknown</td>\n",
              "      <td>Yes</td>\n",
              "      <td>Yes</td>\n",
              "      <td>Friend</td>\n",
              "      <td>Improving my data analysis skills</td>\n",
              "      <td>905e2608-ce95-11eb-809f-7c67a234f601</td>\n",
              "      <td>Port-au-Prince</td>\n",
              "      <td>West</td>\n",
              "      <td>Yes</td>\n",
              "    </tr>\n",
              "    <tr>\n",
              "      <th>3</th>\n",
              "      <td>male</td>\n",
              "      <td>24/11/1996</td>\n",
              "      <td>2021-02-16T16:57:55.754541Z</td>\n",
              "      <td>Bachelors (bacc +4)</td>\n",
              "      <td>Ecole Supérieure d'Infotronique d'Haïti (ESIH)</td>\n",
              "      <td>No</td>\n",
              "      <td>unknown</td>\n",
              "      <td>Yes</td>\n",
              "      <td>Yes</td>\n",
              "      <td>ESIH</td>\n",
              "      <td>Improving my data analysis skills</td>\n",
              "      <td>905e4cf5-ce95-11eb-96a9-7c67a234f601</td>\n",
              "      <td>Port-au-Prince</td>\n",
              "      <td>West</td>\n",
              "      <td>NaN</td>\n",
              "    </tr>\n",
              "  </tbody>\n",
              "</table>\n",
              "</div>"
            ],
            "text/plain": [
              "      Sex         dob  ... Departement Payment Method\n",
              "0    male  25/08/1998  ...         NaN            NaN\n",
              "1  female  29/09/1996  ...        West            NaN\n",
              "2    male  17/05/1996  ...        West            Yes\n",
              "3    male  24/11/1996  ...        West            NaN\n",
              "\n",
              "[4 rows x 15 columns]"
            ]
          },
          "metadata": {
            "tags": []
          }
        }
      ]
    },
    {
      "cell_type": "code",
      "metadata": {
        "id": "ohTErNMzp9zw",
        "colab": {
          "base_uri": "https://localhost:8080/"
        },
        "outputId": "90f71667-641d-4f38-bf3d-7c906d410541"
      },
      "source": [
        "result5[\"date\"]= pd.to_datetime(result5[\"date\"])\n",
        "result5[\"date\"] = result5[\"date\"].apply(lambda x: str(x)[:10])\n",
        "result5[\"date\"].head(6)"
      ],
      "execution_count": 98,
      "outputs": [
        {
          "output_type": "execute_result",
          "data": {
            "text/plain": [
              "0    2021-02-14\n",
              "1    2021-02-16\n",
              "2    2021-02-16\n",
              "3    2021-02-16\n",
              "4    2021-02-16\n",
              "5    2021-02-16\n",
              "Name: date, dtype: object"
            ]
          },
          "metadata": {
            "tags": []
          },
          "execution_count": 98
        }
      ]
    },
    {
      "cell_type": "code",
      "metadata": {
        "id": "cFlURCsZ_j5c",
        "colab": {
          "base_uri": "https://localhost:8080/"
        },
        "outputId": "ec374ee0-c0f2-41d1-9cfd-737bd889ea85"
      },
      "source": [
        "print(result5.loc[result5[\"dob\"]==\"3 aout 1977\",:])"
      ],
      "execution_count": 99,
      "outputs": [
        {
          "output_type": "stream",
          "text": [
            "       Sex          dob        date  ...      Commune_FR Departement Payment Method\n",
            "13  female  3 aout 1977  2021-02-17  ...  Port-au-Prince        West            NaN\n",
            "\n",
            "[1 rows x 15 columns]\n"
          ],
          "name": "stdout"
        }
      ]
    },
    {
      "cell_type": "code",
      "metadata": {
        "id": "ucrbS5TQ_j8C",
        "colab": {
          "base_uri": "https://localhost:8080/"
        },
        "outputId": "57f33f1a-f9c1-49a4-c419-2140fa5a324d"
      },
      "source": [
        "result5[\"dob\"].replace({\"3 aout 1977\": \"3/08/1977\"}, inplace=True)\n",
        "result5[\"dob\"]= pd.to_datetime(result5[\"dob\"])\n",
        "result5[\"dob\"]"
      ],
      "execution_count": 100,
      "outputs": [
        {
          "output_type": "execute_result",
          "data": {
            "text/plain": [
              "0     1998-08-25\n",
              "1     1996-09-29\n",
              "2     1996-05-17\n",
              "3     1996-11-24\n",
              "4     1997-07-20\n",
              "         ...    \n",
              "245   1994-02-15\n",
              "246   1990-08-10\n",
              "247   1993-12-28\n",
              "248   1992-04-17\n",
              "249   1993-07-22\n",
              "Name: dob, Length: 250, dtype: datetime64[ns]"
            ]
          },
          "metadata": {
            "tags": []
          },
          "execution_count": 100
        }
      ]
    },
    {
      "cell_type": "code",
      "metadata": {
        "id": "L0kEShVV2p0z",
        "colab": {
          "base_uri": "https://localhost:8080/"
        },
        "outputId": "f03f66df-993f-475b-a598-6c1a6d5677f9"
      },
      "source": [
        "result5['Payment Method'] = result5['Payment Method'].fillna('No')\n",
        "result5['Payment Method']"
      ],
      "execution_count": 101,
      "outputs": [
        {
          "output_type": "execute_result",
          "data": {
            "text/plain": [
              "0       No\n",
              "1       No\n",
              "2      Yes\n",
              "3       No\n",
              "4       No\n",
              "      ... \n",
              "245    Yes\n",
              "246     No\n",
              "247    Yes\n",
              "248    Yes\n",
              "249    Yes\n",
              "Name: Payment Method, Length: 250, dtype: object"
            ]
          },
          "metadata": {
            "tags": []
          },
          "execution_count": 101
        }
      ]
    },
    {
      "cell_type": "code",
      "metadata": {
        "colab": {
          "base_uri": "https://localhost:8080/"
        },
        "id": "FXe3sefPD39O",
        "outputId": "719a8f82-ac5e-4335-84bc-02edf97b04e2"
      },
      "source": [
        "result5.dropna()\n",
        "result5.shape"
      ],
      "execution_count": 102,
      "outputs": [
        {
          "output_type": "execute_result",
          "data": {
            "text/plain": [
              "(250, 15)"
            ]
          },
          "metadata": {
            "tags": []
          },
          "execution_count": 102
        }
      ]
    },
    {
      "cell_type": "code",
      "metadata": {
        "colab": {
          "base_uri": "https://localhost:8080/"
        },
        "id": "x6q3x7-2FSJV",
        "outputId": "ef53709f-2c7d-4d74-bad5-eb9ebb138297"
      },
      "source": [
        "result5.columns.T"
      ],
      "execution_count": 103,
      "outputs": [
        {
          "output_type": "execute_result",
          "data": {
            "text/plain": [
              "Index(['Sex', 'dob', 'date', 'education_level', 'university',\n",
              "       'current_employed', 'formal_sector_job', 'have_computer_home',\n",
              "       'internet_at_home', 'Channel', 'what will you do after', 'quest_id',\n",
              "       'Commune_FR', 'Departement', 'Payment Method'],\n",
              "      dtype='object')"
            ]
          },
          "metadata": {
            "tags": []
          },
          "execution_count": 103
        }
      ]
    },
    {
      "cell_type": "code",
      "metadata": {
        "colab": {
          "base_uri": "https://localhost:8080/",
          "height": 270
        },
        "id": "4If2iu4OKMv1",
        "outputId": "47b73b6c-087f-4cfd-dd60-cbd58f61bf8d"
      },
      "source": [
        "result5.head(2)"
      ],
      "execution_count": 104,
      "outputs": [
        {
          "output_type": "execute_result",
          "data": {
            "text/html": [
              "<div>\n",
              "<style scoped>\n",
              "    .dataframe tbody tr th:only-of-type {\n",
              "        vertical-align: middle;\n",
              "    }\n",
              "\n",
              "    .dataframe tbody tr th {\n",
              "        vertical-align: top;\n",
              "    }\n",
              "\n",
              "    .dataframe thead th {\n",
              "        text-align: right;\n",
              "    }\n",
              "</style>\n",
              "<table border=\"1\" class=\"dataframe\">\n",
              "  <thead>\n",
              "    <tr style=\"text-align: right;\">\n",
              "      <th></th>\n",
              "      <th>Sex</th>\n",
              "      <th>dob</th>\n",
              "      <th>date</th>\n",
              "      <th>education_level</th>\n",
              "      <th>university</th>\n",
              "      <th>current_employed</th>\n",
              "      <th>formal_sector_job</th>\n",
              "      <th>have_computer_home</th>\n",
              "      <th>internet_at_home</th>\n",
              "      <th>Channel</th>\n",
              "      <th>what will you do after</th>\n",
              "      <th>quest_id</th>\n",
              "      <th>Commune_FR</th>\n",
              "      <th>Departement</th>\n",
              "      <th>Payment Method</th>\n",
              "    </tr>\n",
              "  </thead>\n",
              "  <tbody>\n",
              "    <tr>\n",
              "      <th>0</th>\n",
              "      <td>male</td>\n",
              "      <td>1998-08-25</td>\n",
              "      <td>2021-02-14</td>\n",
              "      <td>unknown</td>\n",
              "      <td>unknown</td>\n",
              "      <td>unknown</td>\n",
              "      <td>unknown</td>\n",
              "      <td>unknown</td>\n",
              "      <td>unknown</td>\n",
              "      <td>unknown</td>\n",
              "      <td>unknown</td>\n",
              "      <td>905dc006-ce95-11eb-b2f9-7c67a234f601</td>\n",
              "      <td>NaN</td>\n",
              "      <td>NaN</td>\n",
              "      <td>No</td>\n",
              "    </tr>\n",
              "    <tr>\n",
              "      <th>1</th>\n",
              "      <td>female</td>\n",
              "      <td>1996-09-29</td>\n",
              "      <td>2021-02-16</td>\n",
              "      <td>Bachelors (bacc +4)</td>\n",
              "      <td>other</td>\n",
              "      <td>No</td>\n",
              "      <td>unknown</td>\n",
              "      <td>Yes</td>\n",
              "      <td>Yes</td>\n",
              "      <td>Friend</td>\n",
              "      <td>Finding a job/internship</td>\n",
              "      <td>905ddcf2-ce95-11eb-9a92-7c67a234f601</td>\n",
              "      <td>Port-au-Prince</td>\n",
              "      <td>West</td>\n",
              "      <td>No</td>\n",
              "    </tr>\n",
              "  </tbody>\n",
              "</table>\n",
              "</div>"
            ],
            "text/plain": [
              "      Sex        dob        date  ...      Commune_FR Departement Payment Method\n",
              "0    male 1998-08-25  2021-02-14  ...             NaN         NaN             No\n",
              "1  female 1996-09-29  2021-02-16  ...  Port-au-Prince        West             No\n",
              "\n",
              "[2 rows x 15 columns]"
            ]
          },
          "metadata": {
            "tags": []
          },
          "execution_count": 104
        }
      ]
    },
    {
      "cell_type": "code",
      "metadata": {
        "colab": {
          "base_uri": "https://localhost:8080/"
        },
        "id": "zN9wd2cgNRJz",
        "outputId": "c1c8266b-6175-4115-9e45-2f55794b466c"
      },
      "source": [
        "result5.dtypes"
      ],
      "execution_count": 105,
      "outputs": [
        {
          "output_type": "execute_result",
          "data": {
            "text/plain": [
              "Sex                               object\n",
              "dob                       datetime64[ns]\n",
              "date                              object\n",
              "education_level                   object\n",
              "university                        object\n",
              "current_employed                  object\n",
              "formal_sector_job                 object\n",
              "have_computer_home                object\n",
              "internet_at_home                  object\n",
              "Channel                           object\n",
              "what will you do after            object\n",
              "quest_id                          object\n",
              "Commune_FR                        object\n",
              "Departement                       object\n",
              "Payment Method                    object\n",
              "dtype: object"
            ]
          },
          "metadata": {
            "tags": []
          },
          "execution_count": 105
        }
      ]
    },
    {
      "cell_type": "code",
      "metadata": {
        "id": "tZhmNDYhB3Ma"
      },
      "source": [
        "from datetime import date\n",
        "def Calculate_Age(born) :\n",
        "    \"\"\"\n",
        "    This function will allow us to calcute the age of all the applicants by the end of the application process\n",
        "    \"\"\"\n",
        "    today = date(2021,6,18)\n",
        "    return today.year - born.year - ((today.month,today.day)< (born.month,born.day))"
      ],
      "execution_count": 106,
      "outputs": []
    },
    {
      "cell_type": "code",
      "metadata": {
        "id": "ArDRxvCmB3QA",
        "colab": {
          "base_uri": "https://localhost:8080/"
        },
        "outputId": "fc72797c-9da5-4daf-8dc9-9a4e98649036"
      },
      "source": [
        "result5['Age'] = result5['dob'].apply(Calculate_Age)\n",
        "result5['Age']"
      ],
      "execution_count": 107,
      "outputs": [
        {
          "output_type": "execute_result",
          "data": {
            "text/plain": [
              "0      22.0\n",
              "1      24.0\n",
              "2      25.0\n",
              "3      24.0\n",
              "4      23.0\n",
              "       ... \n",
              "245    27.0\n",
              "246    30.0\n",
              "247    27.0\n",
              "248    29.0\n",
              "249    27.0\n",
              "Name: Age, Length: 250, dtype: float64"
            ]
          },
          "metadata": {
            "tags": []
          },
          "execution_count": 107
        }
      ]
    },
    {
      "cell_type": "code",
      "metadata": {
        "id": "g3PcSiGJF3Ix",
        "colab": {
          "base_uri": "https://localhost:8080/"
        },
        "outputId": "80a3eb01-373d-4559-c2a2-a0cdb31a535f"
      },
      "source": [
        "numb_na = result5.isna().sum()\n",
        "numb_na.sort_values()\n",
        "numb_na[numb_na>0].count"
      ],
      "execution_count": 108,
      "outputs": [
        {
          "output_type": "execute_result",
          "data": {
            "text/plain": [
              "<bound method Series.count of dob            6\n",
              "Commune_FR     2\n",
              "Departement    2\n",
              "Age            6\n",
              "dtype: int64>"
            ]
          },
          "metadata": {
            "tags": []
          },
          "execution_count": 108
        }
      ]
    },
    {
      "cell_type": "markdown",
      "metadata": {
        "id": "urLe54qq42Gm"
      },
      "source": [
        "### Dataframes"
      ]
    },
    {
      "cell_type": "code",
      "metadata": {
        "colab": {
          "base_uri": "https://localhost:8080/",
          "height": 1000
        },
        "id": "Rm6aKo5Z4uB5",
        "outputId": "d88670ab-98cd-4c9d-f36b-907ece873363"
      },
      "source": [
        "result5 = result5.drop([\"dob\"], axis=1)\n",
        "result5"
      ],
      "execution_count": 109,
      "outputs": [
        {
          "output_type": "execute_result",
          "data": {
            "text/html": [
              "<div>\n",
              "<style scoped>\n",
              "    .dataframe tbody tr th:only-of-type {\n",
              "        vertical-align: middle;\n",
              "    }\n",
              "\n",
              "    .dataframe tbody tr th {\n",
              "        vertical-align: top;\n",
              "    }\n",
              "\n",
              "    .dataframe thead th {\n",
              "        text-align: right;\n",
              "    }\n",
              "</style>\n",
              "<table border=\"1\" class=\"dataframe\">\n",
              "  <thead>\n",
              "    <tr style=\"text-align: right;\">\n",
              "      <th></th>\n",
              "      <th>Sex</th>\n",
              "      <th>date</th>\n",
              "      <th>education_level</th>\n",
              "      <th>university</th>\n",
              "      <th>current_employed</th>\n",
              "      <th>formal_sector_job</th>\n",
              "      <th>have_computer_home</th>\n",
              "      <th>internet_at_home</th>\n",
              "      <th>Channel</th>\n",
              "      <th>what will you do after</th>\n",
              "      <th>quest_id</th>\n",
              "      <th>Commune_FR</th>\n",
              "      <th>Departement</th>\n",
              "      <th>Payment Method</th>\n",
              "      <th>Age</th>\n",
              "    </tr>\n",
              "  </thead>\n",
              "  <tbody>\n",
              "    <tr>\n",
              "      <th>0</th>\n",
              "      <td>male</td>\n",
              "      <td>2021-02-14</td>\n",
              "      <td>unknown</td>\n",
              "      <td>unknown</td>\n",
              "      <td>unknown</td>\n",
              "      <td>unknown</td>\n",
              "      <td>unknown</td>\n",
              "      <td>unknown</td>\n",
              "      <td>unknown</td>\n",
              "      <td>unknown</td>\n",
              "      <td>905dc006-ce95-11eb-b2f9-7c67a234f601</td>\n",
              "      <td>NaN</td>\n",
              "      <td>NaN</td>\n",
              "      <td>No</td>\n",
              "      <td>22.0</td>\n",
              "    </tr>\n",
              "    <tr>\n",
              "      <th>1</th>\n",
              "      <td>female</td>\n",
              "      <td>2021-02-16</td>\n",
              "      <td>Bachelors (bacc +4)</td>\n",
              "      <td>other</td>\n",
              "      <td>No</td>\n",
              "      <td>unknown</td>\n",
              "      <td>Yes</td>\n",
              "      <td>Yes</td>\n",
              "      <td>Friend</td>\n",
              "      <td>Finding a job/internship</td>\n",
              "      <td>905ddcf2-ce95-11eb-9a92-7c67a234f601</td>\n",
              "      <td>Port-au-Prince</td>\n",
              "      <td>West</td>\n",
              "      <td>No</td>\n",
              "      <td>24.0</td>\n",
              "    </tr>\n",
              "    <tr>\n",
              "      <th>2</th>\n",
              "      <td>male</td>\n",
              "      <td>2021-02-16</td>\n",
              "      <td>Bachelors (bacc +4)</td>\n",
              "      <td>Université d'Etat d'Haïti (UEH)</td>\n",
              "      <td>No</td>\n",
              "      <td>unknown</td>\n",
              "      <td>Yes</td>\n",
              "      <td>Yes</td>\n",
              "      <td>Friend</td>\n",
              "      <td>Improving my data analysis skills</td>\n",
              "      <td>905e2608-ce95-11eb-809f-7c67a234f601</td>\n",
              "      <td>Port-au-Prince</td>\n",
              "      <td>West</td>\n",
              "      <td>Yes</td>\n",
              "      <td>25.0</td>\n",
              "    </tr>\n",
              "    <tr>\n",
              "      <th>3</th>\n",
              "      <td>male</td>\n",
              "      <td>2021-02-16</td>\n",
              "      <td>Bachelors (bacc +4)</td>\n",
              "      <td>Ecole Supérieure d'Infotronique d'Haïti (ESIH)</td>\n",
              "      <td>No</td>\n",
              "      <td>unknown</td>\n",
              "      <td>Yes</td>\n",
              "      <td>Yes</td>\n",
              "      <td>ESIH</td>\n",
              "      <td>Improving my data analysis skills</td>\n",
              "      <td>905e4cf5-ce95-11eb-96a9-7c67a234f601</td>\n",
              "      <td>Port-au-Prince</td>\n",
              "      <td>West</td>\n",
              "      <td>No</td>\n",
              "      <td>24.0</td>\n",
              "    </tr>\n",
              "    <tr>\n",
              "      <th>4</th>\n",
              "      <td>male</td>\n",
              "      <td>2021-02-16</td>\n",
              "      <td>High School (16 years)</td>\n",
              "      <td>unknown</td>\n",
              "      <td>No</td>\n",
              "      <td>unknown</td>\n",
              "      <td>Yes</td>\n",
              "      <td>Yes</td>\n",
              "      <td>WhatsApp</td>\n",
              "      <td>Mentorship</td>\n",
              "      <td>905e73fd-ce95-11eb-a7b0-7c67a234f601</td>\n",
              "      <td>Port-au-Prince</td>\n",
              "      <td>West</td>\n",
              "      <td>No</td>\n",
              "      <td>23.0</td>\n",
              "    </tr>\n",
              "    <tr>\n",
              "      <th>...</th>\n",
              "      <td>...</td>\n",
              "      <td>...</td>\n",
              "      <td>...</td>\n",
              "      <td>...</td>\n",
              "      <td>...</td>\n",
              "      <td>...</td>\n",
              "      <td>...</td>\n",
              "      <td>...</td>\n",
              "      <td>...</td>\n",
              "      <td>...</td>\n",
              "      <td>...</td>\n",
              "      <td>...</td>\n",
              "      <td>...</td>\n",
              "      <td>...</td>\n",
              "      <td>...</td>\n",
              "    </tr>\n",
              "    <tr>\n",
              "      <th>245</th>\n",
              "      <td>male</td>\n",
              "      <td>2021-03-02</td>\n",
              "      <td>Bachelors (bacc +4)</td>\n",
              "      <td>other</td>\n",
              "      <td>Yes</td>\n",
              "      <td>Yes</td>\n",
              "      <td>Yes</td>\n",
              "      <td>Yes</td>\n",
              "      <td>Facebook</td>\n",
              "      <td>Improving my data analysis skills</td>\n",
              "      <td>906b3c84-ce95-11eb-8c2a-7c67a234f601</td>\n",
              "      <td>Mirebalais</td>\n",
              "      <td>Centre</td>\n",
              "      <td>Yes</td>\n",
              "      <td>27.0</td>\n",
              "    </tr>\n",
              "    <tr>\n",
              "      <th>246</th>\n",
              "      <td>male</td>\n",
              "      <td>2021-03-10</td>\n",
              "      <td>Bachelors (bacc +4)</td>\n",
              "      <td>Université d'Etat d'Haïti (UEH)</td>\n",
              "      <td>Yes</td>\n",
              "      <td>Yes</td>\n",
              "      <td>Yes</td>\n",
              "      <td>Yes</td>\n",
              "      <td>Friend</td>\n",
              "      <td>Improving my data analysis skills</td>\n",
              "      <td>906b3c85-ce95-11eb-9b87-7c67a234f601</td>\n",
              "      <td>Mirebalais</td>\n",
              "      <td>Centre</td>\n",
              "      <td>No</td>\n",
              "      <td>30.0</td>\n",
              "    </tr>\n",
              "    <tr>\n",
              "      <th>247</th>\n",
              "      <td>male</td>\n",
              "      <td>2021-03-14</td>\n",
              "      <td>Bachelors (bacc +4)</td>\n",
              "      <td>Centre de Techniques de Planification et d'Eco...</td>\n",
              "      <td>Yes</td>\n",
              "      <td>Yes</td>\n",
              "      <td>Yes</td>\n",
              "      <td>Yes</td>\n",
              "      <td>Friend</td>\n",
              "      <td>Improving my data analysis skills</td>\n",
              "      <td>906b3c86-ce95-11eb-b6a7-7c67a234f601</td>\n",
              "      <td>Mirebalais</td>\n",
              "      <td>Centre</td>\n",
              "      <td>Yes</td>\n",
              "      <td>27.0</td>\n",
              "    </tr>\n",
              "    <tr>\n",
              "      <th>248</th>\n",
              "      <td>male</td>\n",
              "      <td>2021-03-08</td>\n",
              "      <td>Bachelors (bacc +4)</td>\n",
              "      <td>other</td>\n",
              "      <td>No</td>\n",
              "      <td>unknown</td>\n",
              "      <td>Yes</td>\n",
              "      <td>Yes</td>\n",
              "      <td>Facebook</td>\n",
              "      <td>Improving my data analysis skills</td>\n",
              "      <td>906b65e2-ce95-11eb-8b5c-7c67a234f601</td>\n",
              "      <td>Ferrier</td>\n",
              "      <td>North-East</td>\n",
              "      <td>Yes</td>\n",
              "      <td>29.0</td>\n",
              "    </tr>\n",
              "    <tr>\n",
              "      <th>249</th>\n",
              "      <td>male</td>\n",
              "      <td>2021-03-10</td>\n",
              "      <td>Masters</td>\n",
              "      <td>other</td>\n",
              "      <td>No</td>\n",
              "      <td>unknown</td>\n",
              "      <td>Yes</td>\n",
              "      <td>Yes</td>\n",
              "      <td>Facebook</td>\n",
              "      <td>Improving my data analysis skills</td>\n",
              "      <td>906b65e3-ce95-11eb-a294-7c67a234f601</td>\n",
              "      <td>Petite Rivière de Nippes</td>\n",
              "      <td>Nippes</td>\n",
              "      <td>Yes</td>\n",
              "      <td>27.0</td>\n",
              "    </tr>\n",
              "  </tbody>\n",
              "</table>\n",
              "<p>250 rows × 15 columns</p>\n",
              "</div>"
            ],
            "text/plain": [
              "        Sex        date  ... Payment Method   Age\n",
              "0      male  2021-02-14  ...             No  22.0\n",
              "1    female  2021-02-16  ...             No  24.0\n",
              "2      male  2021-02-16  ...            Yes  25.0\n",
              "3      male  2021-02-16  ...             No  24.0\n",
              "4      male  2021-02-16  ...             No  23.0\n",
              "..      ...         ...  ...            ...   ...\n",
              "245    male  2021-03-02  ...            Yes  27.0\n",
              "246    male  2021-03-10  ...             No  30.0\n",
              "247    male  2021-03-14  ...            Yes  27.0\n",
              "248    male  2021-03-08  ...            Yes  29.0\n",
              "249    male  2021-03-10  ...            Yes  27.0\n",
              "\n",
              "[250 rows x 15 columns]"
            ]
          },
          "metadata": {
            "tags": []
          },
          "execution_count": 109
        }
      ]
    },
    {
      "cell_type": "code",
      "metadata": {
        "colab": {
          "base_uri": "https://localhost:8080/"
        },
        "id": "wP32YyAiFOWk",
        "outputId": "621be022-3a5e-46c0-e1f9-d60d8882a306"
      },
      "source": [
        "result5.columns"
      ],
      "execution_count": 110,
      "outputs": [
        {
          "output_type": "execute_result",
          "data": {
            "text/plain": [
              "Index(['Sex', 'date', 'education_level', 'university', 'current_employed',\n",
              "       'formal_sector_job', 'have_computer_home', 'internet_at_home',\n",
              "       'Channel', 'what will you do after', 'quest_id', 'Commune_FR',\n",
              "       'Departement', 'Payment Method', 'Age'],\n",
              "      dtype='object')"
            ]
          },
          "metadata": {
            "tags": []
          },
          "execution_count": 110
        }
      ]
    },
    {
      "cell_type": "markdown",
      "metadata": {
        "id": "t4ciGNtjXEZP"
      },
      "source": [
        "### Context : The Ayiti Analytics objective is to know which three communes of the country will be the most likely to expand its training centers. Knowing that each cohort must have 30 students.\n",
        "### NB : Use the same framework of the BA project to complete this project"
      ]
    },
    {
      "cell_type": "markdown",
      "metadata": {
        "id": "eueLP1huck-f"
      },
      "source": [
        "# C. DESCRIPTIVE ANALYSIS"
      ]
    },
    {
      "cell_type": "markdown",
      "metadata": {
        "id": "ct75TO3dVHR1"
      },
      "source": [
        "### Graph and Pivot Function Generator"
      ]
    },
    {
      "cell_type": "code",
      "metadata": {
        "id": "qKD0VqWC69cL"
      },
      "source": [
        "# Define a function who generate barchart\n",
        "def generate_barchart(data=result5, title =\"\",abs_value =\"Total\",rel_value=\"Percent\",figsize =(20,10)):\n",
        "  \n",
        "  \"\"\" function who generate barchart\"\"\"\n",
        "  \n",
        "  plt.figure(figsize=figsize)\n",
        "  axes = sns.barplot(data=data,x=data.index,y=abs_value)\n",
        "  i=0\n",
        "  for tot, perc in zip(data[abs_value],data[rel_value]):\n",
        "    axes.text(i,\n",
        "              tot/2,\n",
        "              str(np.round(perc*100,2))+ \"%\",\n",
        "              fontdict=dict(color='White',fontsize=12,horizontalalignment=\"center\")\n",
        "              )\n",
        "    axes.text(i,\n",
        "              tot+ 3,\n",
        "              str(tot),\n",
        "               fontdict=dict(color='blue',fontsize=12,horizontalalignment=\"center\")\n",
        "              )\n",
        "    \n",
        "    i+=1\n",
        "  plt.title(title)\n",
        "  plt.show()"
      ],
      "execution_count": 112,
      "outputs": []
    },
    {
      "cell_type": "code",
      "metadata": {
        "id": "nZTGn-aB65G-"
      },
      "source": [
        "# Calculate absolute frequency and relative Frequency for a categpric variable\n",
        "\n",
        "def prob_category(data,col=\"Pclass_letter\", abs_value =\"Total\",rel_value =\"Percent\",show_plot=False, title=\"\"):\n",
        "  res1 = data[col].value_counts().to_frame()\n",
        "  res1.columns = [abs_value]\n",
        "\n",
        "  res2 = data[col].value_counts(normalize=True).to_frame()\n",
        "  res2.columns = [rel_value]\n",
        "  if  not show_plot:\n",
        "    return pd.concat([res1,res2],axis=1)\n",
        "  else:\n",
        "    result = pd.concat([res1,res2],axis=1)\n",
        "    generate_barchart(data=result.head(), title =title,abs_value =abs_value,rel_value=rel_value,figsize =(12,10))\n",
        "    return result"
      ],
      "execution_count": 113,
      "outputs": []
    },
    {
      "cell_type": "markdown",
      "metadata": {
        "id": "vo841cZwkBf5"
      },
      "source": [
        "### About Ayiti Analytics Goal"
      ]
    },
    {
      "cell_type": "code",
      "metadata": {
        "colab": {
          "base_uri": "https://localhost:8080/",
          "height": 826
        },
        "id": "gyVOHUEyG86Y",
        "outputId": "00fbafdb-8e9d-457e-e318-88e8061afa25"
      },
      "source": [
        "# The best three communes\n",
        "# Distribution of students by communes\n",
        "persent_commune = prob_category(data=result5, col = \"Commune_FR\", show_plot =True,title = \"Distribution of students by communes\")\n",
        "persent_commune.head(6)"
      ],
      "execution_count": 160,
      "outputs": [
        {
          "output_type": "display_data",
          "data": {
            "image/png": "[encoded data removed]",
            "text/plain": [
              "<Figure size 864x720 with 1 Axes>"
            ]
          },
          "metadata": {
            "tags": [],
            "needs_background": "light"
          }
        },
        {
          "output_type": "execute_result",
          "data": {
            "text/html": [
              "<div>\n",
              "<style scoped>\n",
              "    .dataframe tbody tr th:only-of-type {\n",
              "        vertical-align: middle;\n",
              "    }\n",
              "\n",
              "    .dataframe tbody tr th {\n",
              "        vertical-align: top;\n",
              "    }\n",
              "\n",
              "    .dataframe thead th {\n",
              "        text-align: right;\n",
              "    }\n",
              "</style>\n",
              "<table border=\"1\" class=\"dataframe\">\n",
              "  <thead>\n",
              "    <tr style=\"text-align: right;\">\n",
              "      <th></th>\n",
              "      <th>Total</th>\n",
              "      <th>Percent</th>\n",
              "    </tr>\n",
              "  </thead>\n",
              "  <tbody>\n",
              "    <tr>\n",
              "      <th>Delmas</th>\n",
              "      <td>71</td>\n",
              "      <td>0.286290</td>\n",
              "    </tr>\n",
              "    <tr>\n",
              "      <th>Port-au-Prince</th>\n",
              "      <td>57</td>\n",
              "      <td>0.229839</td>\n",
              "    </tr>\n",
              "    <tr>\n",
              "      <th>Pétion-Ville</th>\n",
              "      <td>29</td>\n",
              "      <td>0.116935</td>\n",
              "    </tr>\n",
              "    <tr>\n",
              "      <th>Carrefour</th>\n",
              "      <td>23</td>\n",
              "      <td>0.092742</td>\n",
              "    </tr>\n",
              "    <tr>\n",
              "      <th>Tabarre</th>\n",
              "      <td>11</td>\n",
              "      <td>0.044355</td>\n",
              "    </tr>\n",
              "    <tr>\n",
              "      <th>Croix-Des-Bouquets</th>\n",
              "      <td>10</td>\n",
              "      <td>0.040323</td>\n",
              "    </tr>\n",
              "  </tbody>\n",
              "</table>\n",
              "</div>"
            ],
            "text/plain": [
              "                    Total   Percent\n",
              "Delmas                 71  0.286290\n",
              "Port-au-Prince         57  0.229839\n",
              "Pétion-Ville           29  0.116935\n",
              "Carrefour              23  0.092742\n",
              "Tabarre                11  0.044355\n",
              "Croix-Des-Bouquets     10  0.040323"
            ]
          },
          "metadata": {
            "tags": []
          },
          "execution_count": 160
        }
      ]
    },
    {
      "cell_type": "code",
      "metadata": {
        "colab": {
          "base_uri": "https://localhost:8080/",
          "height": 733
        },
        "id": "gsy7keyv7GPW",
        "outputId": "768c4b28-cec0-4323-9210-cbdcce3a6074"
      },
      "source": [
        "# distribution of students by internet holder\n",
        "internet = prob_category(data=result5, col = \"internet_at_home\", show_plot =True,title = \"distribution of students by internet holder\")\n",
        "internet"
      ],
      "execution_count": 159,
      "outputs": [
        {
          "output_type": "display_data",
          "data": {
            "image/png": "[encoded data removed]",
            "text/plain": [
              "<Figure size 864x720 with 1 Axes>"
            ]
          },
          "metadata": {
            "tags": [],
            "needs_background": "light"
          }
        },
        {
          "output_type": "execute_result",
          "data": {
            "text/html": [
              "<div>\n",
              "<style scoped>\n",
              "    .dataframe tbody tr th:only-of-type {\n",
              "        vertical-align: middle;\n",
              "    }\n",
              "\n",
              "    .dataframe tbody tr th {\n",
              "        vertical-align: top;\n",
              "    }\n",
              "\n",
              "    .dataframe thead th {\n",
              "        text-align: right;\n",
              "    }\n",
              "</style>\n",
              "<table border=\"1\" class=\"dataframe\">\n",
              "  <thead>\n",
              "    <tr style=\"text-align: right;\">\n",
              "      <th></th>\n",
              "      <th>Total</th>\n",
              "      <th>Percent</th>\n",
              "    </tr>\n",
              "  </thead>\n",
              "  <tbody>\n",
              "    <tr>\n",
              "      <th>Yes</th>\n",
              "      <td>210</td>\n",
              "      <td>0.840</td>\n",
              "    </tr>\n",
              "    <tr>\n",
              "      <th>No</th>\n",
              "      <td>38</td>\n",
              "      <td>0.152</td>\n",
              "    </tr>\n",
              "    <tr>\n",
              "      <th>unknown</th>\n",
              "      <td>2</td>\n",
              "      <td>0.008</td>\n",
              "    </tr>\n",
              "  </tbody>\n",
              "</table>\n",
              "</div>"
            ],
            "text/plain": [
              "         Total  Percent\n",
              "Yes        210    0.840\n",
              "No          38    0.152\n",
              "unknown      2    0.008"
            ]
          },
          "metadata": {
            "tags": []
          },
          "execution_count": 159
        }
      ]
    },
    {
      "cell_type": "markdown",
      "metadata": {
        "id": "6wgwV6ZsVQhq"
      },
      "source": [
        "### About question 1"
      ]
    },
    {
      "cell_type": "markdown",
      "metadata": {
        "id": "Rg9KHxnTx9JB"
      },
      "source": [
        "#### Question 1. How many applications must be made to select 25% women for each on average"
      ]
    },
    {
      "cell_type": "markdown",
      "metadata": {
        "id": "_NyEz0Q-MCS1"
      },
      "source": [
        "Ayiti Analytics has the objectif to select third (30) student by communes of the country.\n",
        "this year they select twenty (20) student\n",
        "AA need a 30-students cohort, that means they intent\n",
        "to multiply by 1.5 the numbers of female applicants.\n",
        "The 3-Rule python programm below just give the answer"
      ]
    },
    {
      "cell_type": "markdown",
      "metadata": {
        "id": "RAAZgKnlJK4r"
      },
      "source": [
        "### A 3-Rule python program"
      ]
    },
    {
      "cell_type": "code",
      "metadata": {
        "id": "onxifCzDTIDg"
      },
      "source": [
        "# Let's define a python program cross product to find the result of every question \n",
        "def boot(a, b, c):\n",
        "   return (b*c)//a"
      ],
      "execution_count": 231,
      "outputs": []
    },
    {
      "cell_type": "markdown",
      "metadata": {
        "id": "ODAACO_LYkyZ"
      },
      "source": [
        "### Answer 1"
      ]
    },
    {
      "cell_type": "code",
      "metadata": {
        "colab": {
          "base_uri": "https://localhost:8080/"
        },
        "id": "hamtz85EcFWz",
        "outputId": "64ddff36-b825-4e5d-b4fc-a5958ac37a0b"
      },
      "source": [
        " boot(20, 250, 25)"
      ],
      "execution_count": 265,
      "outputs": [
        {
          "output_type": "execute_result",
          "data": {
            "text/plain": [
              "312"
            ]
          },
          "metadata": {
            "tags": []
          },
          "execution_count": 265
        }
      ]
    },
    {
      "cell_type": "markdown",
      "metadata": {
        "id": "EgPk7KBXlFtl"
      },
      "source": [
        "### About question 2"
      ]
    },
    {
      "cell_type": "markdown",
      "metadata": {
        "id": "3UIfQCsQA8QM"
      },
      "source": [
        "#### Question 2. What are the most effective communication channels (Alumni, Facebook, WhatsApp, Friend ...) that will allow a student to be susceptible to selection"
      ]
    },
    {
      "cell_type": "code",
      "metadata": {
        "colab": {
          "base_uri": "https://localhost:8080/",
          "height": 952
        },
        "id": "0QghXK-4G8-_",
        "outputId": "f258da09-3c1d-463d-dde2-a1304cc7d007"
      },
      "source": [
        "# Question 2\n",
        "# Distriution of student by communication channel\n",
        "by_channel = prob_category(data=result5, col = \"Channel\", show_plot =True,title = \"Distriution of student by communication channel\")\n",
        "by_channel"
      ],
      "execution_count": 161,
      "outputs": [
        {
          "output_type": "display_data",
          "data": {
            "image/png": "[encoded data removed]",
            "text/plain": [
              "<Figure size 864x720 with 1 Axes>"
            ]
          },
          "metadata": {
            "tags": [],
            "needs_background": "light"
          }
        },
        {
          "output_type": "execute_result",
          "data": {
            "text/html": [
              "<div>\n",
              "<style scoped>\n",
              "    .dataframe tbody tr th:only-of-type {\n",
              "        vertical-align: middle;\n",
              "    }\n",
              "\n",
              "    .dataframe tbody tr th {\n",
              "        vertical-align: top;\n",
              "    }\n",
              "\n",
              "    .dataframe thead th {\n",
              "        text-align: right;\n",
              "    }\n",
              "</style>\n",
              "<table border=\"1\" class=\"dataframe\">\n",
              "  <thead>\n",
              "    <tr style=\"text-align: right;\">\n",
              "      <th></th>\n",
              "      <th>Total</th>\n",
              "      <th>Percent</th>\n",
              "    </tr>\n",
              "  </thead>\n",
              "  <tbody>\n",
              "    <tr>\n",
              "      <th>Friend</th>\n",
              "      <td>67</td>\n",
              "      <td>0.268</td>\n",
              "    </tr>\n",
              "    <tr>\n",
              "      <th>WhatsApp</th>\n",
              "      <td>66</td>\n",
              "      <td>0.264</td>\n",
              "    </tr>\n",
              "    <tr>\n",
              "      <th>Facebook</th>\n",
              "      <td>40</td>\n",
              "      <td>0.160</td>\n",
              "    </tr>\n",
              "    <tr>\n",
              "      <th>ESIH</th>\n",
              "      <td>18</td>\n",
              "      <td>0.072</td>\n",
              "    </tr>\n",
              "    <tr>\n",
              "      <th>Ayiti Analytics Website</th>\n",
              "      <td>15</td>\n",
              "      <td>0.060</td>\n",
              "    </tr>\n",
              "    <tr>\n",
              "      <th>LinkedIn</th>\n",
              "      <td>15</td>\n",
              "      <td>0.060</td>\n",
              "    </tr>\n",
              "    <tr>\n",
              "      <th>Bootcamp Alumni</th>\n",
              "      <td>14</td>\n",
              "      <td>0.056</td>\n",
              "    </tr>\n",
              "    <tr>\n",
              "      <th>other</th>\n",
              "      <td>9</td>\n",
              "      <td>0.036</td>\n",
              "    </tr>\n",
              "    <tr>\n",
              "      <th>Instagram</th>\n",
              "      <td>5</td>\n",
              "      <td>0.020</td>\n",
              "    </tr>\n",
              "    <tr>\n",
              "      <th>unknown</th>\n",
              "      <td>1</td>\n",
              "      <td>0.004</td>\n",
              "    </tr>\n",
              "  </tbody>\n",
              "</table>\n",
              "</div>"
            ],
            "text/plain": [
              "                         Total  Percent\n",
              "Friend                      67    0.268\n",
              "WhatsApp                    66    0.264\n",
              "Facebook                    40    0.160\n",
              "ESIH                        18    0.072\n",
              "Ayiti Analytics Website     15    0.060\n",
              "LinkedIn                    15    0.060\n",
              "Bootcamp Alumni             14    0.056\n",
              "other                        9    0.036\n",
              "Instagram                    5    0.020\n",
              "unknown                      1    0.004"
            ]
          },
          "metadata": {
            "tags": []
          },
          "execution_count": 161
        }
      ]
    },
    {
      "cell_type": "code",
      "metadata": {
        "colab": {
          "base_uri": "https://localhost:8080/"
        },
        "id": "lhwzokRQft1L",
        "outputId": "973f3ea7-950a-4123-d118-935b9844c180"
      },
      "source": [
        "result5.columns"
      ],
      "execution_count": 117,
      "outputs": [
        {
          "output_type": "execute_result",
          "data": {
            "text/plain": [
              "Index(['Sex', 'date', 'education_level', 'university', 'current_employed',\n",
              "       'formal_sector_job', 'have_computer_home', 'internet_at_home',\n",
              "       'Channel', 'what will you do after', 'quest_id', 'Commune_FR',\n",
              "       'Departement', 'Payment Method', 'Age'],\n",
              "      dtype='object')"
            ]
          },
          "metadata": {
            "tags": []
          },
          "execution_count": 117
        }
      ]
    },
    {
      "cell_type": "markdown",
      "metadata": {
        "id": "ONdBckZ2jglR"
      },
      "source": [
        "### About Computer"
      ]
    },
    {
      "cell_type": "code",
      "metadata": {
        "id": "9ANRiIX2G9DN",
        "colab": {
          "base_uri": "https://localhost:8080/",
          "height": 143
        },
        "outputId": "233aeea2-57a4-4428-b74f-a83cd380a66b"
      },
      "source": [
        "# Distribution number of students by computer holder \n",
        "by_computer = result5.have_computer_home.value_counts(normalize=True).to_frame()\n",
        "by_computer"
      ],
      "execution_count": 118,
      "outputs": [
        {
          "output_type": "execute_result",
          "data": {
            "text/html": [
              "<div>\n",
              "<style scoped>\n",
              "    .dataframe tbody tr th:only-of-type {\n",
              "        vertical-align: middle;\n",
              "    }\n",
              "\n",
              "    .dataframe tbody tr th {\n",
              "        vertical-align: top;\n",
              "    }\n",
              "\n",
              "    .dataframe thead th {\n",
              "        text-align: right;\n",
              "    }\n",
              "</style>\n",
              "<table border=\"1\" class=\"dataframe\">\n",
              "  <thead>\n",
              "    <tr style=\"text-align: right;\">\n",
              "      <th></th>\n",
              "      <th>have_computer_home</th>\n",
              "    </tr>\n",
              "  </thead>\n",
              "  <tbody>\n",
              "    <tr>\n",
              "      <th>Yes</th>\n",
              "      <td>0.936</td>\n",
              "    </tr>\n",
              "    <tr>\n",
              "      <th>No</th>\n",
              "      <td>0.060</td>\n",
              "    </tr>\n",
              "    <tr>\n",
              "      <th>unknown</th>\n",
              "      <td>0.004</td>\n",
              "    </tr>\n",
              "  </tbody>\n",
              "</table>\n",
              "</div>"
            ],
            "text/plain": [
              "         have_computer_home\n",
              "Yes                   0.936\n",
              "No                    0.060\n",
              "unknown               0.004"
            ]
          },
          "metadata": {
            "tags": []
          },
          "execution_count": 118
        }
      ]
    },
    {
      "cell_type": "code",
      "metadata": {
        "colab": {
          "base_uri": "https://localhost:8080/",
          "height": 733
        },
        "id": "RfRKINHugMYL",
        "outputId": "7d590944-18f3-4edc-9409-a4ec10151eeb"
      },
      "source": [
        "computer_by_student = prob_category(data=result5, col = \"have_computer_home\", show_plot =True,title = \"Distribution of student by computer holder\")\n",
        "computer_by_student"
      ],
      "execution_count": 267,
      "outputs": [
        {
          "output_type": "display_data",
          "data": {
            "image/png": "[encoded data removed]",
            "text/plain": [
              "<Figure size 864x720 with 1 Axes>"
            ]
          },
          "metadata": {
            "tags": [],
            "needs_background": "light"
          }
        },
        {
          "output_type": "execute_result",
          "data": {
            "text/html": [
              "<div>\n",
              "<style scoped>\n",
              "    .dataframe tbody tr th:only-of-type {\n",
              "        vertical-align: middle;\n",
              "    }\n",
              "\n",
              "    .dataframe tbody tr th {\n",
              "        vertical-align: top;\n",
              "    }\n",
              "\n",
              "    .dataframe thead th {\n",
              "        text-align: right;\n",
              "    }\n",
              "</style>\n",
              "<table border=\"1\" class=\"dataframe\">\n",
              "  <thead>\n",
              "    <tr style=\"text-align: right;\">\n",
              "      <th></th>\n",
              "      <th>Total</th>\n",
              "      <th>Percent</th>\n",
              "    </tr>\n",
              "  </thead>\n",
              "  <tbody>\n",
              "    <tr>\n",
              "      <th>Yes</th>\n",
              "      <td>234</td>\n",
              "      <td>0.936</td>\n",
              "    </tr>\n",
              "    <tr>\n",
              "      <th>No</th>\n",
              "      <td>15</td>\n",
              "      <td>0.060</td>\n",
              "    </tr>\n",
              "    <tr>\n",
              "      <th>unknown</th>\n",
              "      <td>1</td>\n",
              "      <td>0.004</td>\n",
              "    </tr>\n",
              "  </tbody>\n",
              "</table>\n",
              "</div>"
            ],
            "text/plain": [
              "         Total  Percent\n",
              "Yes        234    0.936\n",
              "No          15    0.060\n",
              "unknown      1    0.004"
            ]
          },
          "metadata": {
            "tags": []
          },
          "execution_count": 267
        }
      ]
    },
    {
      "cell_type": "markdown",
      "metadata": {
        "id": "kVQbkG8lzU62"
      },
      "source": [
        "### About Internet"
      ]
    },
    {
      "cell_type": "code",
      "metadata": {
        "colab": {
          "base_uri": "https://localhost:8080/",
          "height": 733
        },
        "id": "W5fVPkGqvtTj",
        "outputId": "a3dbc71a-5ef9-4a05-938c-d75157e67659"
      },
      "source": [
        "internet__by_student = prob_category(data=result5, col = \"internet_at_home\", show_plot =True,title = \"Distribution of student by internet holder\")\n",
        "internet__by_student"
      ],
      "execution_count": 273,
      "outputs": [
        {
          "output_type": "display_data",
          "data": {
            "image/png": "[encoded data removed]",
            "text/plain": [
              "<Figure size 864x720 with 1 Axes>"
            ]
          },
          "metadata": {
            "tags": [],
            "needs_background": "light"
          }
        },
        {
          "output_type": "execute_result",
          "data": {
            "text/html": [
              "<div>\n",
              "<style scoped>\n",
              "    .dataframe tbody tr th:only-of-type {\n",
              "        vertical-align: middle;\n",
              "    }\n",
              "\n",
              "    .dataframe tbody tr th {\n",
              "        vertical-align: top;\n",
              "    }\n",
              "\n",
              "    .dataframe thead th {\n",
              "        text-align: right;\n",
              "    }\n",
              "</style>\n",
              "<table border=\"1\" class=\"dataframe\">\n",
              "  <thead>\n",
              "    <tr style=\"text-align: right;\">\n",
              "      <th></th>\n",
              "      <th>Total</th>\n",
              "      <th>Percent</th>\n",
              "    </tr>\n",
              "  </thead>\n",
              "  <tbody>\n",
              "    <tr>\n",
              "      <th>Yes</th>\n",
              "      <td>210</td>\n",
              "      <td>0.840</td>\n",
              "    </tr>\n",
              "    <tr>\n",
              "      <th>No</th>\n",
              "      <td>38</td>\n",
              "      <td>0.152</td>\n",
              "    </tr>\n",
              "    <tr>\n",
              "      <th>unknown</th>\n",
              "      <td>2</td>\n",
              "      <td>0.008</td>\n",
              "    </tr>\n",
              "  </tbody>\n",
              "</table>\n",
              "</div>"
            ],
            "text/plain": [
              "         Total  Percent\n",
              "Yes        210    0.840\n",
              "No          38    0.152\n",
              "unknown      2    0.008"
            ]
          },
          "metadata": {
            "tags": []
          },
          "execution_count": 273
        }
      ]
    },
    {
      "cell_type": "markdown",
      "metadata": {
        "id": "8R4SDqBmi0be"
      },
      "source": [
        "### About question 3"
      ]
    },
    {
      "cell_type": "markdown",
      "metadata": {
        "id": "FbAWaOBEzDLX"
      },
      "source": [
        "#### Question 3. What is the average number of university students who should participate in this program"
      ]
    },
    {
      "cell_type": "code",
      "metadata": {
        "colab": {
          "base_uri": "https://localhost:8080/",
          "height": 826
        },
        "id": "qaFjMqqbHZPY",
        "outputId": "12a87c64-0b26-42af-e59c-91f83928e7b8"
      },
      "source": [
        "# Question 3\n",
        "# Distribution of student by education level\n",
        "by_education = prob_category(data=result5, col = \"education_level\", show_plot =True,title = \"Distribution of student by education level\")\n",
        "by_education"
      ],
      "execution_count": 274,
      "outputs": [
        {
          "output_type": "display_data",
          "data": {
            "image/png": "[encoded data removed]",
            "text/plain": [
              "<Figure size 864x720 with 1 Axes>"
            ]
          },
          "metadata": {
            "tags": [],
            "needs_background": "light"
          }
        },
        {
          "output_type": "execute_result",
          "data": {
            "text/html": [
              "<div>\n",
              "<style scoped>\n",
              "    .dataframe tbody tr th:only-of-type {\n",
              "        vertical-align: middle;\n",
              "    }\n",
              "\n",
              "    .dataframe tbody tr th {\n",
              "        vertical-align: top;\n",
              "    }\n",
              "\n",
              "    .dataframe thead th {\n",
              "        text-align: right;\n",
              "    }\n",
              "</style>\n",
              "<table border=\"1\" class=\"dataframe\">\n",
              "  <thead>\n",
              "    <tr style=\"text-align: right;\">\n",
              "      <th></th>\n",
              "      <th>Total</th>\n",
              "      <th>Percent</th>\n",
              "    </tr>\n",
              "  </thead>\n",
              "  <tbody>\n",
              "    <tr>\n",
              "      <th>Bachelors (bacc +4)</th>\n",
              "      <td>148</td>\n",
              "      <td>0.592</td>\n",
              "    </tr>\n",
              "    <tr>\n",
              "      <th>Other</th>\n",
              "      <td>51</td>\n",
              "      <td>0.204</td>\n",
              "    </tr>\n",
              "    <tr>\n",
              "      <th>High School (16 years)</th>\n",
              "      <td>33</td>\n",
              "      <td>0.132</td>\n",
              "    </tr>\n",
              "    <tr>\n",
              "      <th>Masters</th>\n",
              "      <td>14</td>\n",
              "      <td>0.056</td>\n",
              "    </tr>\n",
              "    <tr>\n",
              "      <th>unknown</th>\n",
              "      <td>3</td>\n",
              "      <td>0.012</td>\n",
              "    </tr>\n",
              "    <tr>\n",
              "      <th>Doctorate (PhD, MD, JD)</th>\n",
              "      <td>1</td>\n",
              "      <td>0.004</td>\n",
              "    </tr>\n",
              "  </tbody>\n",
              "</table>\n",
              "</div>"
            ],
            "text/plain": [
              "                         Total  Percent\n",
              "Bachelors (bacc +4)        148    0.592\n",
              "Other                       51    0.204\n",
              "High School (16 years)      33    0.132\n",
              "Masters                     14    0.056\n",
              "unknown                      3    0.012\n",
              "Doctorate (PhD, MD, JD)      1    0.004"
            ]
          },
          "metadata": {
            "tags": []
          },
          "execution_count": 274
        }
      ]
    },
    {
      "cell_type": "code",
      "metadata": {
        "colab": {
          "base_uri": "https://localhost:8080/",
          "height": 236
        },
        "id": "VJQHz4t2SoDA",
        "outputId": "f2f6efba-8585-4360-f391-fbfe13794b56"
      },
      "source": [
        "level = result5.education_level.value_counts(normalize=False).to_frame()\n",
        "level"
      ],
      "execution_count": 121,
      "outputs": [
        {
          "output_type": "execute_result",
          "data": {
            "text/html": [
              "<div>\n",
              "<style scoped>\n",
              "    .dataframe tbody tr th:only-of-type {\n",
              "        vertical-align: middle;\n",
              "    }\n",
              "\n",
              "    .dataframe tbody tr th {\n",
              "        vertical-align: top;\n",
              "    }\n",
              "\n",
              "    .dataframe thead th {\n",
              "        text-align: right;\n",
              "    }\n",
              "</style>\n",
              "<table border=\"1\" class=\"dataframe\">\n",
              "  <thead>\n",
              "    <tr style=\"text-align: right;\">\n",
              "      <th></th>\n",
              "      <th>education_level</th>\n",
              "    </tr>\n",
              "  </thead>\n",
              "  <tbody>\n",
              "    <tr>\n",
              "      <th>Bachelors (bacc +4)</th>\n",
              "      <td>148</td>\n",
              "    </tr>\n",
              "    <tr>\n",
              "      <th>Other</th>\n",
              "      <td>51</td>\n",
              "    </tr>\n",
              "    <tr>\n",
              "      <th>High School (16 years)</th>\n",
              "      <td>33</td>\n",
              "    </tr>\n",
              "    <tr>\n",
              "      <th>Masters</th>\n",
              "      <td>14</td>\n",
              "    </tr>\n",
              "    <tr>\n",
              "      <th>unknown</th>\n",
              "      <td>3</td>\n",
              "    </tr>\n",
              "    <tr>\n",
              "      <th>Doctorate (PhD, MD, JD)</th>\n",
              "      <td>1</td>\n",
              "    </tr>\n",
              "  </tbody>\n",
              "</table>\n",
              "</div>"
            ],
            "text/plain": [
              "                         education_level\n",
              "Bachelors (bacc +4)                  148\n",
              "Other                                 51\n",
              "High School (16 years)                33\n",
              "Masters                               14\n",
              "unknown                                3\n",
              "Doctorate (PhD, MD, JD)                1"
            ]
          },
          "metadata": {
            "tags": []
          },
          "execution_count": 121
        }
      ]
    },
    {
      "cell_type": "code",
      "metadata": {
        "colab": {
          "base_uri": "https://localhost:8080/",
          "height": 554
        },
        "id": "45KWt0hWjgXU",
        "outputId": "ccbc6d7c-ffb6-4370-f758-c2eb000b2fac"
      },
      "source": [
        "res = result5[(result5[\"education_level\"]==\"Bachelors (bacc +4)\")|(result5[\"education_level\"]==\"High School (16 years)\")|(result5[\"education_level\"]==\"Masters\")|(result5[\"education_level\"]==\"Doctorate (PhD, MD, JD)\")]\n",
        "res.head()"
      ],
      "execution_count": 261,
      "outputs": [
        {
          "output_type": "execute_result",
          "data": {
            "text/html": [
              "<div>\n",
              "<style scoped>\n",
              "    .dataframe tbody tr th:only-of-type {\n",
              "        vertical-align: middle;\n",
              "    }\n",
              "\n",
              "    .dataframe tbody tr th {\n",
              "        vertical-align: top;\n",
              "    }\n",
              "\n",
              "    .dataframe thead th {\n",
              "        text-align: right;\n",
              "    }\n",
              "</style>\n",
              "<table border=\"1\" class=\"dataframe\">\n",
              "  <thead>\n",
              "    <tr style=\"text-align: right;\">\n",
              "      <th></th>\n",
              "      <th>date</th>\n",
              "      <th>Sex</th>\n",
              "      <th>education_level</th>\n",
              "      <th>university</th>\n",
              "      <th>current_employed</th>\n",
              "      <th>formal_sector_job</th>\n",
              "      <th>have_computer_home</th>\n",
              "      <th>internet_at_home</th>\n",
              "      <th>Channel</th>\n",
              "      <th>what will you do after</th>\n",
              "      <th>quest_id</th>\n",
              "      <th>Commune_FR</th>\n",
              "      <th>Departement</th>\n",
              "      <th>Payment Method</th>\n",
              "      <th>Age</th>\n",
              "      <th>male</th>\n",
              "      <th>female</th>\n",
              "      <th>week</th>\n",
              "    </tr>\n",
              "  </thead>\n",
              "  <tbody>\n",
              "    <tr>\n",
              "      <th>1</th>\n",
              "      <td>2021-02-16</td>\n",
              "      <td>female</td>\n",
              "      <td>Bachelors (bacc +4)</td>\n",
              "      <td>other</td>\n",
              "      <td>No</td>\n",
              "      <td>unknown</td>\n",
              "      <td>Yes</td>\n",
              "      <td>Yes</td>\n",
              "      <td>Friend</td>\n",
              "      <td>Finding a job/internship</td>\n",
              "      <td>905ddcf2-ce95-11eb-9a92-7c67a234f601</td>\n",
              "      <td>Port-au-Prince</td>\n",
              "      <td>West</td>\n",
              "      <td>No</td>\n",
              "      <td>24.0</td>\n",
              "      <td>0</td>\n",
              "      <td>1</td>\n",
              "      <td>7</td>\n",
              "    </tr>\n",
              "    <tr>\n",
              "      <th>2</th>\n",
              "      <td>2021-02-16</td>\n",
              "      <td>male</td>\n",
              "      <td>Bachelors (bacc +4)</td>\n",
              "      <td>Université d'Etat d'Haïti (UEH)</td>\n",
              "      <td>No</td>\n",
              "      <td>unknown</td>\n",
              "      <td>Yes</td>\n",
              "      <td>Yes</td>\n",
              "      <td>Friend</td>\n",
              "      <td>Improving my data analysis skills</td>\n",
              "      <td>905e2608-ce95-11eb-809f-7c67a234f601</td>\n",
              "      <td>Port-au-Prince</td>\n",
              "      <td>West</td>\n",
              "      <td>Yes</td>\n",
              "      <td>25.0</td>\n",
              "      <td>1</td>\n",
              "      <td>0</td>\n",
              "      <td>7</td>\n",
              "    </tr>\n",
              "    <tr>\n",
              "      <th>3</th>\n",
              "      <td>2021-02-16</td>\n",
              "      <td>male</td>\n",
              "      <td>Bachelors (bacc +4)</td>\n",
              "      <td>Ecole Supérieure d'Infotronique d'Haïti (ESIH)</td>\n",
              "      <td>No</td>\n",
              "      <td>unknown</td>\n",
              "      <td>Yes</td>\n",
              "      <td>Yes</td>\n",
              "      <td>ESIH</td>\n",
              "      <td>Improving my data analysis skills</td>\n",
              "      <td>905e4cf5-ce95-11eb-96a9-7c67a234f601</td>\n",
              "      <td>Port-au-Prince</td>\n",
              "      <td>West</td>\n",
              "      <td>No</td>\n",
              "      <td>24.0</td>\n",
              "      <td>1</td>\n",
              "      <td>0</td>\n",
              "      <td>7</td>\n",
              "    </tr>\n",
              "    <tr>\n",
              "      <th>4</th>\n",
              "      <td>2021-02-16</td>\n",
              "      <td>male</td>\n",
              "      <td>High School (16 years)</td>\n",
              "      <td>unknown</td>\n",
              "      <td>No</td>\n",
              "      <td>unknown</td>\n",
              "      <td>Yes</td>\n",
              "      <td>Yes</td>\n",
              "      <td>WhatsApp</td>\n",
              "      <td>Mentorship</td>\n",
              "      <td>905e73fd-ce95-11eb-a7b0-7c67a234f601</td>\n",
              "      <td>Port-au-Prince</td>\n",
              "      <td>West</td>\n",
              "      <td>No</td>\n",
              "      <td>23.0</td>\n",
              "      <td>1</td>\n",
              "      <td>0</td>\n",
              "      <td>7</td>\n",
              "    </tr>\n",
              "    <tr>\n",
              "      <th>6</th>\n",
              "      <td>2021-02-16</td>\n",
              "      <td>female</td>\n",
              "      <td>Masters</td>\n",
              "      <td>Ecole Supérieure d'Infotronique d'Haïti (ESIH)</td>\n",
              "      <td>Yes</td>\n",
              "      <td>Yes</td>\n",
              "      <td>Yes</td>\n",
              "      <td>Yes</td>\n",
              "      <td>WhatsApp</td>\n",
              "      <td>Improving my data analysis skills</td>\n",
              "      <td>905ec1ec-ce95-11eb-8136-7c67a234f601</td>\n",
              "      <td>Port-au-Prince</td>\n",
              "      <td>West</td>\n",
              "      <td>Yes</td>\n",
              "      <td>33.0</td>\n",
              "      <td>0</td>\n",
              "      <td>1</td>\n",
              "      <td>7</td>\n",
              "    </tr>\n",
              "  </tbody>\n",
              "</table>\n",
              "</div>"
            ],
            "text/plain": [
              "        date     Sex         education_level  ... male female week\n",
              "1 2021-02-16  female     Bachelors (bacc +4)  ...    0      1    7\n",
              "2 2021-02-16    male     Bachelors (bacc +4)  ...    1      0    7\n",
              "3 2021-02-16    male     Bachelors (bacc +4)  ...    1      0    7\n",
              "4 2021-02-16    male  High School (16 years)  ...    1      0    7\n",
              "6 2021-02-16  female                 Masters  ...    0      1    7\n",
              "\n",
              "[5 rows x 18 columns]"
            ]
          },
          "metadata": {
            "tags": []
          },
          "execution_count": 261
        }
      ]
    },
    {
      "cell_type": "code",
      "metadata": {
        "colab": {
          "base_uri": "https://localhost:8080/",
          "height": 283
        },
        "id": "DEEi-4rYfR2u",
        "outputId": "b9b0f7d0-1970-4594-f94e-4ca6403dcf6c"
      },
      "source": [
        "res[\"Age\"].hist()"
      ],
      "execution_count": 276,
      "outputs": [
        {
          "output_type": "execute_result",
          "data": {
            "text/plain": [
              "<matplotlib.axes._subplots.AxesSubplot at 0x7f91c4690f90>"
            ]
          },
          "metadata": {
            "tags": []
          },
          "execution_count": 276
        },
        {
          "output_type": "display_data",
          "data": {
            "image/png": "[encoded data removed]",
            "text/plain": [
              "<Figure size 432x288 with 1 Axes>"
            ]
          },
          "metadata": {
            "tags": [],
            "needs_background": "light"
          }
        }
      ]
    },
    {
      "cell_type": "markdown",
      "metadata": {
        "id": "P_opZr3hLPxD"
      },
      "source": [
        "### Answer 3"
      ]
    },
    {
      "cell_type": "code",
      "metadata": {
        "colab": {
          "base_uri": "https://localhost:8080/"
        },
        "id": "ZB1MYl3NprYD",
        "outputId": "b140491d-9b4a-4c74-ac0d-7dbd1da920f0"
      },
      "source": [
        "# Answer to Question 3\n",
        "student_mean = res.education_level.value_counts(normalize=False).to_frame()\n",
        "student = student_mean.mean()\n",
        "print(student)"
      ],
      "execution_count": 123,
      "outputs": [
        {
          "output_type": "stream",
          "text": [
            "education_level    49.0\n",
            "dtype: float64\n"
          ],
          "name": "stdout"
        }
      ]
    },
    {
      "cell_type": "code",
      "metadata": {
        "colab": {
          "base_uri": "https://localhost:8080/",
          "height": 702
        },
        "id": "KIQ0JnsbCXME",
        "outputId": "e2061eba-6356-4c7b-cb4e-ea561c9339f5"
      },
      "source": [
        "# Distribution of student by sex\n",
        "by_sex = prob_category(data=result5, col = \"Sex\", show_plot =True,title = \"Distribution of student by sex\")\n",
        "by_sex"
      ],
      "execution_count": 125,
      "outputs": [
        {
          "output_type": "display_data",
          "data": {
            "image/png": "[encoded data removed]",
            "text/plain": [
              "<Figure size 864x720 with 1 Axes>"
            ]
          },
          "metadata": {
            "tags": [],
            "needs_background": "light"
          }
        },
        {
          "output_type": "execute_result",
          "data": {
            "text/html": [
              "<div>\n",
              "<style scoped>\n",
              "    .dataframe tbody tr th:only-of-type {\n",
              "        vertical-align: middle;\n",
              "    }\n",
              "\n",
              "    .dataframe tbody tr th {\n",
              "        vertical-align: top;\n",
              "    }\n",
              "\n",
              "    .dataframe thead th {\n",
              "        text-align: right;\n",
              "    }\n",
              "</style>\n",
              "<table border=\"1\" class=\"dataframe\">\n",
              "  <thead>\n",
              "    <tr style=\"text-align: right;\">\n",
              "      <th></th>\n",
              "      <th>Total</th>\n",
              "      <th>Percent</th>\n",
              "    </tr>\n",
              "  </thead>\n",
              "  <tbody>\n",
              "    <tr>\n",
              "      <th>male</th>\n",
              "      <td>203</td>\n",
              "      <td>0.812</td>\n",
              "    </tr>\n",
              "    <tr>\n",
              "      <th>female</th>\n",
              "      <td>47</td>\n",
              "      <td>0.188</td>\n",
              "    </tr>\n",
              "  </tbody>\n",
              "</table>\n",
              "</div>"
            ],
            "text/plain": [
              "        Total  Percent\n",
              "male      203    0.812\n",
              "female     47    0.188"
            ]
          },
          "metadata": {
            "tags": []
          },
          "execution_count": 125
        }
      ]
    },
    {
      "cell_type": "code",
      "metadata": {
        "colab": {
          "base_uri": "https://localhost:8080/",
          "height": 702
        },
        "id": "B34RSymKdVJH",
        "outputId": "1702438e-6e49-46e8-f83a-807d1ae0f68a"
      },
      "source": [
        "by_payment = prob_category(data=result5, col = \"Payment Method\", show_plot =True,title = \"Distribution of student by Payment Method\")\n",
        "by_payment"
      ],
      "execution_count": 269,
      "outputs": [
        {
          "output_type": "display_data",
          "data": {
            "image/png": "[encoded data removed]",
            "text/plain": [
              "<Figure size 864x720 with 1 Axes>"
            ]
          },
          "metadata": {
            "tags": [],
            "needs_background": "light"
          }
        },
        {
          "output_type": "execute_result",
          "data": {
            "text/html": [
              "<div>\n",
              "<style scoped>\n",
              "    .dataframe tbody tr th:only-of-type {\n",
              "        vertical-align: middle;\n",
              "    }\n",
              "\n",
              "    .dataframe tbody tr th {\n",
              "        vertical-align: top;\n",
              "    }\n",
              "\n",
              "    .dataframe thead th {\n",
              "        text-align: right;\n",
              "    }\n",
              "</style>\n",
              "<table border=\"1\" class=\"dataframe\">\n",
              "  <thead>\n",
              "    <tr style=\"text-align: right;\">\n",
              "      <th></th>\n",
              "      <th>Total</th>\n",
              "      <th>Percent</th>\n",
              "    </tr>\n",
              "  </thead>\n",
              "  <tbody>\n",
              "    <tr>\n",
              "      <th>No</th>\n",
              "      <td>185</td>\n",
              "      <td>0.74</td>\n",
              "    </tr>\n",
              "    <tr>\n",
              "      <th>Yes</th>\n",
              "      <td>65</td>\n",
              "      <td>0.26</td>\n",
              "    </tr>\n",
              "  </tbody>\n",
              "</table>\n",
              "</div>"
            ],
            "text/plain": [
              "     Total  Percent\n",
              "No     185     0.74\n",
              "Yes     65     0.26"
            ]
          },
          "metadata": {
            "tags": []
          },
          "execution_count": 269
        }
      ]
    },
    {
      "cell_type": "code",
      "metadata": {
        "colab": {
          "base_uri": "https://localhost:8080/",
          "height": 921
        },
        "id": "3d0gIfnqd5bN",
        "outputId": "ac7d4ccd-bc6d-440b-d425-70004b724518"
      },
      "source": [
        "by_departement = prob_category(data=result5, col = \"Departement\", show_plot =True,title = \"Distribution of student by Departement\")\n",
        "by_departement"
      ],
      "execution_count": 268,
      "outputs": [
        {
          "output_type": "display_data",
          "data": {
            "image/png": "[encoded data removed]",
            "text/plain": [
              "<Figure size 864x720 with 1 Axes>"
            ]
          },
          "metadata": {
            "tags": [],
            "needs_background": "light"
          }
        },
        {
          "output_type": "execute_result",
          "data": {
            "text/html": [
              "<div>\n",
              "<style scoped>\n",
              "    .dataframe tbody tr th:only-of-type {\n",
              "        vertical-align: middle;\n",
              "    }\n",
              "\n",
              "    .dataframe tbody tr th {\n",
              "        vertical-align: top;\n",
              "    }\n",
              "\n",
              "    .dataframe thead th {\n",
              "        text-align: right;\n",
              "    }\n",
              "</style>\n",
              "<table border=\"1\" class=\"dataframe\">\n",
              "  <thead>\n",
              "    <tr style=\"text-align: right;\">\n",
              "      <th></th>\n",
              "      <th>Total</th>\n",
              "      <th>Percent</th>\n",
              "    </tr>\n",
              "  </thead>\n",
              "  <tbody>\n",
              "    <tr>\n",
              "      <th>West</th>\n",
              "      <td>212</td>\n",
              "      <td>0.854839</td>\n",
              "    </tr>\n",
              "    <tr>\n",
              "      <th>Artibonite</th>\n",
              "      <td>9</td>\n",
              "      <td>0.036290</td>\n",
              "    </tr>\n",
              "    <tr>\n",
              "      <th>North</th>\n",
              "      <td>8</td>\n",
              "      <td>0.032258</td>\n",
              "    </tr>\n",
              "    <tr>\n",
              "      <th>North-East</th>\n",
              "      <td>7</td>\n",
              "      <td>0.028226</td>\n",
              "    </tr>\n",
              "    <tr>\n",
              "      <th>Centre</th>\n",
              "      <td>4</td>\n",
              "      <td>0.016129</td>\n",
              "    </tr>\n",
              "    <tr>\n",
              "      <th>South-East</th>\n",
              "      <td>3</td>\n",
              "      <td>0.012097</td>\n",
              "    </tr>\n",
              "    <tr>\n",
              "      <th>South</th>\n",
              "      <td>3</td>\n",
              "      <td>0.012097</td>\n",
              "    </tr>\n",
              "    <tr>\n",
              "      <th>North-West</th>\n",
              "      <td>1</td>\n",
              "      <td>0.004032</td>\n",
              "    </tr>\n",
              "    <tr>\n",
              "      <th>Nippes</th>\n",
              "      <td>1</td>\n",
              "      <td>0.004032</td>\n",
              "    </tr>\n",
              "  </tbody>\n",
              "</table>\n",
              "</div>"
            ],
            "text/plain": [
              "            Total   Percent\n",
              "West          212  0.854839\n",
              "Artibonite      9  0.036290\n",
              "North           8  0.032258\n",
              "North-East      7  0.028226\n",
              "Centre          4  0.016129\n",
              "South-East      3  0.012097\n",
              "South           3  0.012097\n",
              "North-West      1  0.004032\n",
              "Nippes          1  0.004032"
            ]
          },
          "metadata": {
            "tags": []
          },
          "execution_count": 268
        }
      ]
    },
    {
      "cell_type": "markdown",
      "metadata": {
        "id": "rvvYdjeST8uN"
      },
      "source": [
        "### Pivot Function "
      ]
    },
    {
      "cell_type": "code",
      "metadata": {
        "id": "3aBF0BJ88R7s"
      },
      "source": [
        "def pivo(x):\n",
        "\n",
        "  \"\"\" This function allow us to do a Pivot Table\"\"\"\n",
        "  \n",
        "  new_pivot=pd.pivot_table(result5, values='quest_id', \n",
        "                    index=['Commune_FR'], \n",
        "                    columns=x,\n",
        "                    aggfunc='count')\n",
        "  new_pivot=new_pivot.fillna(0)\n",
        "  #new_pivot.drop([\"unkwown\", \"other\", \"Other\"],axis=1, inplace=True)\n",
        "  return new_pivot"
      ],
      "execution_count": 126,
      "outputs": []
    },
    {
      "cell_type": "code",
      "metadata": {
        "colab": {
          "base_uri": "https://localhost:8080/"
        },
        "id": "Me_7lmDmQXuc",
        "outputId": "d8c1dbcd-86b1-4192-f700-be54ec0aad46"
      },
      "source": [
        "print(result5.columns)"
      ],
      "execution_count": 127,
      "outputs": [
        {
          "output_type": "stream",
          "text": [
            "Index(['Sex', 'date', 'education_level', 'university', 'current_employed',\n",
            "       'formal_sector_job', 'have_computer_home', 'internet_at_home',\n",
            "       'Channel', 'what will you do after', 'quest_id', 'Commune_FR',\n",
            "       'Departement', 'Payment Method', 'Age'],\n",
            "      dtype='object')\n"
          ],
          "name": "stdout"
        }
      ]
    },
    {
      "cell_type": "markdown",
      "metadata": {
        "id": "IVnnFd7rsSJO"
      },
      "source": [
        "### About question 4"
      ]
    },
    {
      "cell_type": "markdown",
      "metadata": {
        "id": "92ramfkXB4St"
      },
      "source": [
        "#### Question 4. What will be the average number of applications per week that we could have"
      ]
    },
    {
      "cell_type": "code",
      "metadata": {
        "colab": {
          "base_uri": "https://localhost:8080/",
          "height": 301
        },
        "id": "tnz-TqF-YO6E",
        "outputId": "d8722d74-0fe3-41fa-fbfb-0fc2564d28de"
      },
      "source": [
        "result5.set_index(\"date\", inplace=True)\n",
        "result5.head(2)"
      ],
      "execution_count": 139,
      "outputs": [
        {
          "output_type": "execute_result",
          "data": {
            "text/html": [
              "<div>\n",
              "<style scoped>\n",
              "    .dataframe tbody tr th:only-of-type {\n",
              "        vertical-align: middle;\n",
              "    }\n",
              "\n",
              "    .dataframe tbody tr th {\n",
              "        vertical-align: top;\n",
              "    }\n",
              "\n",
              "    .dataframe thead th {\n",
              "        text-align: right;\n",
              "    }\n",
              "</style>\n",
              "<table border=\"1\" class=\"dataframe\">\n",
              "  <thead>\n",
              "    <tr style=\"text-align: right;\">\n",
              "      <th></th>\n",
              "      <th>Sex</th>\n",
              "      <th>education_level</th>\n",
              "      <th>university</th>\n",
              "      <th>current_employed</th>\n",
              "      <th>formal_sector_job</th>\n",
              "      <th>have_computer_home</th>\n",
              "      <th>internet_at_home</th>\n",
              "      <th>Channel</th>\n",
              "      <th>what will you do after</th>\n",
              "      <th>quest_id</th>\n",
              "      <th>Commune_FR</th>\n",
              "      <th>Departement</th>\n",
              "      <th>Payment Method</th>\n",
              "      <th>Age</th>\n",
              "    </tr>\n",
              "    <tr>\n",
              "      <th>date</th>\n",
              "      <th></th>\n",
              "      <th></th>\n",
              "      <th></th>\n",
              "      <th></th>\n",
              "      <th></th>\n",
              "      <th></th>\n",
              "      <th></th>\n",
              "      <th></th>\n",
              "      <th></th>\n",
              "      <th></th>\n",
              "      <th></th>\n",
              "      <th></th>\n",
              "      <th></th>\n",
              "      <th></th>\n",
              "    </tr>\n",
              "  </thead>\n",
              "  <tbody>\n",
              "    <tr>\n",
              "      <th>2021-02-14</th>\n",
              "      <td>male</td>\n",
              "      <td>unknown</td>\n",
              "      <td>unknown</td>\n",
              "      <td>unknown</td>\n",
              "      <td>unknown</td>\n",
              "      <td>unknown</td>\n",
              "      <td>unknown</td>\n",
              "      <td>unknown</td>\n",
              "      <td>unknown</td>\n",
              "      <td>905dc006-ce95-11eb-b2f9-7c67a234f601</td>\n",
              "      <td>NaN</td>\n",
              "      <td>NaN</td>\n",
              "      <td>No</td>\n",
              "      <td>22.0</td>\n",
              "    </tr>\n",
              "    <tr>\n",
              "      <th>2021-02-16</th>\n",
              "      <td>female</td>\n",
              "      <td>Bachelors (bacc +4)</td>\n",
              "      <td>other</td>\n",
              "      <td>No</td>\n",
              "      <td>unknown</td>\n",
              "      <td>Yes</td>\n",
              "      <td>Yes</td>\n",
              "      <td>Friend</td>\n",
              "      <td>Finding a job/internship</td>\n",
              "      <td>905ddcf2-ce95-11eb-9a92-7c67a234f601</td>\n",
              "      <td>Port-au-Prince</td>\n",
              "      <td>West</td>\n",
              "      <td>No</td>\n",
              "      <td>24.0</td>\n",
              "    </tr>\n",
              "  </tbody>\n",
              "</table>\n",
              "</div>"
            ],
            "text/plain": [
              "               Sex      education_level  ... Payment Method   Age\n",
              "date                                     ...                     \n",
              "2021-02-14    male              unknown  ...             No  22.0\n",
              "2021-02-16  female  Bachelors (bacc +4)  ...             No  24.0\n",
              "\n",
              "[2 rows x 14 columns]"
            ]
          },
          "metadata": {
            "tags": []
          },
          "execution_count": 139
        }
      ]
    },
    {
      "cell_type": "code",
      "metadata": {
        "colab": {
          "base_uri": "https://localhost:8080/"
        },
        "id": "TqUv_TiUMgmm",
        "outputId": "b1269e18-1e93-4220-b9db-dcef54647175"
      },
      "source": [
        "result5[\"date\"] = pd.to_datetime(result5[\"date\"])\n",
        "result5[\"date\"]"
      ],
      "execution_count": 167,
      "outputs": [
        {
          "output_type": "execute_result",
          "data": {
            "text/plain": [
              "0     2021-02-14\n",
              "1     2021-02-16\n",
              "2     2021-02-16\n",
              "3     2021-02-16\n",
              "4     2021-02-16\n",
              "         ...    \n",
              "245   2021-03-02\n",
              "246   2021-03-10\n",
              "247   2021-03-14\n",
              "248   2021-03-08\n",
              "249   2021-03-10\n",
              "Name: date, Length: 250, dtype: datetime64[ns]"
            ]
          },
          "metadata": {
            "tags": []
          },
          "execution_count": 167
        }
      ]
    },
    {
      "cell_type": "code",
      "metadata": {
        "colab": {
          "base_uri": "https://localhost:8080/"
        },
        "id": "hTGhTpS7NLdd",
        "outputId": "92ed7058-4e5d-4b77-d0d1-7b358c9bb0e4"
      },
      "source": [
        "result5[\"week\"] = result5[\"date\"].dt.week\n",
        "result5[\"week\"].unique()"
      ],
      "execution_count": 171,
      "outputs": [
        {
          "output_type": "stream",
          "text": [
            "/usr/local/lib/python3.7/dist-packages/ipykernel_launcher.py:1: FutureWarning: Series.dt.weekofyear and Series.dt.week have been deprecated.  Please use Series.dt.isocalendar().week instead.\n",
            "  \"\"\"Entry point for launching an IPython kernel.\n"
          ],
          "name": "stderr"
        },
        {
          "output_type": "execute_result",
          "data": {
            "text/plain": [
              "array([ 6,  7,  8,  9, 10])"
            ]
          },
          "metadata": {
            "tags": []
          },
          "execution_count": 171
        }
      ]
    },
    {
      "cell_type": "code",
      "metadata": {
        "colab": {
          "base_uri": "https://localhost:8080/",
          "height": 236
        },
        "id": "EHeJrXxJNsRk",
        "outputId": "91d84dba-4164-48fb-e934-7865c59f86d4"
      },
      "source": [
        "week_1 =result5.groupby(by = [\"week\"]).quest_id.count().to_frame()\n",
        "week_1"
      ],
      "execution_count": 177,
      "outputs": [
        {
          "output_type": "execute_result",
          "data": {
            "text/html": [
              "<div>\n",
              "<style scoped>\n",
              "    .dataframe tbody tr th:only-of-type {\n",
              "        vertical-align: middle;\n",
              "    }\n",
              "\n",
              "    .dataframe tbody tr th {\n",
              "        vertical-align: top;\n",
              "    }\n",
              "\n",
              "    .dataframe thead th {\n",
              "        text-align: right;\n",
              "    }\n",
              "</style>\n",
              "<table border=\"1\" class=\"dataframe\">\n",
              "  <thead>\n",
              "    <tr style=\"text-align: right;\">\n",
              "      <th></th>\n",
              "      <th>quest_id</th>\n",
              "    </tr>\n",
              "    <tr>\n",
              "      <th>week</th>\n",
              "      <th></th>\n",
              "    </tr>\n",
              "  </thead>\n",
              "  <tbody>\n",
              "    <tr>\n",
              "      <th>6</th>\n",
              "      <td>1</td>\n",
              "    </tr>\n",
              "    <tr>\n",
              "      <th>7</th>\n",
              "      <td>149</td>\n",
              "    </tr>\n",
              "    <tr>\n",
              "      <th>8</th>\n",
              "      <td>42</td>\n",
              "    </tr>\n",
              "    <tr>\n",
              "      <th>9</th>\n",
              "      <td>30</td>\n",
              "    </tr>\n",
              "    <tr>\n",
              "      <th>10</th>\n",
              "      <td>28</td>\n",
              "    </tr>\n",
              "  </tbody>\n",
              "</table>\n",
              "</div>"
            ],
            "text/plain": [
              "      quest_id\n",
              "week          \n",
              "6            1\n",
              "7          149\n",
              "8           42\n",
              "9           30\n",
              "10          28"
            ]
          },
          "metadata": {
            "tags": []
          },
          "execution_count": 177
        }
      ]
    },
    {
      "cell_type": "code",
      "metadata": {
        "colab": {
          "base_uri": "https://localhost:8080/"
        },
        "id": "bSusrMNbOb4r",
        "outputId": "408052b4-4d79-418e-d589-5615dbe27a8e"
      },
      "source": [
        "week_res1 =result5.groupby(by = [\"week\"]).date.min()\n",
        "week_res1"
      ],
      "execution_count": 190,
      "outputs": [
        {
          "output_type": "execute_result",
          "data": {
            "text/plain": [
              "week\n",
              "6    2021-02-14\n",
              "7    2021-02-16\n",
              "8    2021-02-22\n",
              "9    2021-03-01\n",
              "10   2021-03-08\n",
              "Name: date, dtype: datetime64[ns]"
            ]
          },
          "metadata": {
            "tags": []
          },
          "execution_count": 190
        }
      ]
    },
    {
      "cell_type": "code",
      "metadata": {
        "id": "tFel7gUKOj5r"
      },
      "source": [
        "week_res2 =result5.groupby(by = [\"week\"]).date.min().to_frame()\n",
        "week_res2.columns = [\"min_date\"]"
      ],
      "execution_count": 191,
      "outputs": []
    },
    {
      "cell_type": "code",
      "metadata": {
        "id": "N8XJ9EQJOx9D"
      },
      "source": [
        "week_res3 =result5.groupby(by = [\"week\"]).date.max().to_frame()\n",
        "week_res3.columns = [\"max_date\"]"
      ],
      "execution_count": 192,
      "outputs": []
    },
    {
      "cell_type": "code",
      "metadata": {
        "colab": {
          "base_uri": "https://localhost:8080/",
          "height": 236
        },
        "id": "v71PBVjpPSvk",
        "outputId": "06a3bff9-2be1-4d26-ee01-eea0fa7b0719"
      },
      "source": [
        "week_res4 =pd.pivot_table(result5,values=\"quest_id\",index =\"week\",columns=[\"Sex\"],aggfunc=\"count\",fill_value=0,)\n",
        "week_res4"
      ],
      "execution_count": 193,
      "outputs": [
        {
          "output_type": "execute_result",
          "data": {
            "text/html": [
              "<div>\n",
              "<style scoped>\n",
              "    .dataframe tbody tr th:only-of-type {\n",
              "        vertical-align: middle;\n",
              "    }\n",
              "\n",
              "    .dataframe tbody tr th {\n",
              "        vertical-align: top;\n",
              "    }\n",
              "\n",
              "    .dataframe thead th {\n",
              "        text-align: right;\n",
              "    }\n",
              "</style>\n",
              "<table border=\"1\" class=\"dataframe\">\n",
              "  <thead>\n",
              "    <tr style=\"text-align: right;\">\n",
              "      <th>Sex</th>\n",
              "      <th>female</th>\n",
              "      <th>male</th>\n",
              "    </tr>\n",
              "    <tr>\n",
              "      <th>week</th>\n",
              "      <th></th>\n",
              "      <th></th>\n",
              "    </tr>\n",
              "  </thead>\n",
              "  <tbody>\n",
              "    <tr>\n",
              "      <th>6</th>\n",
              "      <td>0</td>\n",
              "      <td>1</td>\n",
              "    </tr>\n",
              "    <tr>\n",
              "      <th>7</th>\n",
              "      <td>29</td>\n",
              "      <td>120</td>\n",
              "    </tr>\n",
              "    <tr>\n",
              "      <th>8</th>\n",
              "      <td>12</td>\n",
              "      <td>30</td>\n",
              "    </tr>\n",
              "    <tr>\n",
              "      <th>9</th>\n",
              "      <td>3</td>\n",
              "      <td>27</td>\n",
              "    </tr>\n",
              "    <tr>\n",
              "      <th>10</th>\n",
              "      <td>3</td>\n",
              "      <td>25</td>\n",
              "    </tr>\n",
              "  </tbody>\n",
              "</table>\n",
              "</div>"
            ],
            "text/plain": [
              "Sex   female  male\n",
              "week              \n",
              "6          0     1\n",
              "7         29   120\n",
              "8         12    30\n",
              "9          3    27\n",
              "10         3    25"
            ]
          },
          "metadata": {
            "tags": []
          },
          "execution_count": 193
        }
      ]
    },
    {
      "cell_type": "code",
      "metadata": {
        "colab": {
          "base_uri": "https://localhost:8080/",
          "height": 236
        },
        "id": "m7XtzCgCRum8",
        "outputId": "6cc93464-c344-4bb9-e243-e003197bf02e"
      },
      "source": [
        "week_result = pd.concat([week_res2,week_res3,week_res4,week_1],axis=1)\n",
        "week_result"
      ],
      "execution_count": 195,
      "outputs": [
        {
          "output_type": "execute_result",
          "data": {
            "text/html": [
              "<div>\n",
              "<style scoped>\n",
              "    .dataframe tbody tr th:only-of-type {\n",
              "        vertical-align: middle;\n",
              "    }\n",
              "\n",
              "    .dataframe tbody tr th {\n",
              "        vertical-align: top;\n",
              "    }\n",
              "\n",
              "    .dataframe thead th {\n",
              "        text-align: right;\n",
              "    }\n",
              "</style>\n",
              "<table border=\"1\" class=\"dataframe\">\n",
              "  <thead>\n",
              "    <tr style=\"text-align: right;\">\n",
              "      <th></th>\n",
              "      <th>min_date</th>\n",
              "      <th>max_date</th>\n",
              "      <th>female</th>\n",
              "      <th>male</th>\n",
              "      <th>quest_id</th>\n",
              "    </tr>\n",
              "    <tr>\n",
              "      <th>week</th>\n",
              "      <th></th>\n",
              "      <th></th>\n",
              "      <th></th>\n",
              "      <th></th>\n",
              "      <th></th>\n",
              "    </tr>\n",
              "  </thead>\n",
              "  <tbody>\n",
              "    <tr>\n",
              "      <th>6</th>\n",
              "      <td>2021-02-14</td>\n",
              "      <td>2021-02-14</td>\n",
              "      <td>0</td>\n",
              "      <td>1</td>\n",
              "      <td>1</td>\n",
              "    </tr>\n",
              "    <tr>\n",
              "      <th>7</th>\n",
              "      <td>2021-02-16</td>\n",
              "      <td>2021-02-21</td>\n",
              "      <td>29</td>\n",
              "      <td>120</td>\n",
              "      <td>149</td>\n",
              "    </tr>\n",
              "    <tr>\n",
              "      <th>8</th>\n",
              "      <td>2021-02-22</td>\n",
              "      <td>2021-02-28</td>\n",
              "      <td>12</td>\n",
              "      <td>30</td>\n",
              "      <td>42</td>\n",
              "    </tr>\n",
              "    <tr>\n",
              "      <th>9</th>\n",
              "      <td>2021-03-01</td>\n",
              "      <td>2021-03-07</td>\n",
              "      <td>3</td>\n",
              "      <td>27</td>\n",
              "      <td>30</td>\n",
              "    </tr>\n",
              "    <tr>\n",
              "      <th>10</th>\n",
              "      <td>2021-03-08</td>\n",
              "      <td>2021-03-14</td>\n",
              "      <td>3</td>\n",
              "      <td>25</td>\n",
              "      <td>28</td>\n",
              "    </tr>\n",
              "  </tbody>\n",
              "</table>\n",
              "</div>"
            ],
            "text/plain": [
              "       min_date   max_date  female  male  quest_id\n",
              "week                                              \n",
              "6    2021-02-14 2021-02-14       0     1         1\n",
              "7    2021-02-16 2021-02-21      29   120       149\n",
              "8    2021-02-22 2021-02-28      12    30        42\n",
              "9    2021-03-01 2021-03-07       3    27        30\n",
              "10   2021-03-08 2021-03-14       3    25        28"
            ]
          },
          "metadata": {
            "tags": []
          },
          "execution_count": 195
        }
      ]
    },
    {
      "cell_type": "code",
      "metadata": {
        "colab": {
          "base_uri": "https://localhost:8080/",
          "height": 333
        },
        "id": "CYmLk96-glau",
        "outputId": "97e7fe9d-b67f-45ae-f221-eb9d8942db29"
      },
      "source": [
        "# weekly trend by numbers of applications\n",
        "week_result.plot(x=\"max_date\", y=\"quest_id\", kind=\"line\")"
      ],
      "execution_count": 226,
      "outputs": [
        {
          "output_type": "execute_result",
          "data": {
            "text/plain": [
              "<matplotlib.axes._subplots.AxesSubplot at 0x7f91c4cb09d0>"
            ]
          },
          "metadata": {
            "tags": []
          },
          "execution_count": 226
        },
        {
          "output_type": "display_data",
          "data": {
            "image/png": "[encoded data removed]",
            "text/plain": [
              "<Figure size 432x288 with 1 Axes>"
            ]
          },
          "metadata": {
            "tags": [],
            "needs_background": "light"
          }
        }
      ]
    },
    {
      "cell_type": "code",
      "metadata": {
        "colab": {
          "base_uri": "https://localhost:8080/",
          "height": 300
        },
        "id": "gygKhcywRK9Y",
        "outputId": "ed7a191a-f1cc-411c-fcd2-04f4478347a5"
      },
      "source": [
        "# Let's create a stacked bar chat to show\n",
        "# Weekly distribution by sex  \n",
        "week_result.groupby(['female','male']).sum().unstack().plot(kind='bar', y= \"quest_id\")"
      ],
      "execution_count": 279,
      "outputs": [
        {
          "output_type": "execute_result",
          "data": {
            "text/plain": [
              "<matplotlib.axes._subplots.AxesSubplot at 0x7f91c4f2e650>"
            ]
          },
          "metadata": {
            "tags": []
          },
          "execution_count": 279
        },
        {
          "output_type": "display_data",
          "data": {
            "image/png": "[encoded data removed]",
            "text/plain": [
              "<Figure size 432x288 with 1 Axes>"
            ]
          },
          "metadata": {
            "tags": [],
            "needs_background": "light"
          }
        }
      ]
    },
    {
      "cell_type": "markdown",
      "metadata": {
        "id": "bFCAWj48xYba"
      },
      "source": [
        "### Answer 4"
      ]
    },
    {
      "cell_type": "code",
      "metadata": {
        "colab": {
          "base_uri": "https://localhost:8080/"
        },
        "id": "SWT2bJSPlshf",
        "outputId": "80f13d26-8890-4177-e5a3-4940e71a9155"
      },
      "source": [
        "week_result.mean()"
      ],
      "execution_count": 230,
      "outputs": [
        {
          "output_type": "stream",
          "text": [
            "/usr/local/lib/python3.7/dist-packages/ipykernel_launcher.py:1: FutureWarning: DataFrame.mean and DataFrame.median with numeric_only=None will include datetime64 and datetime64tz columns in a future version.\n",
            "  \"\"\"Entry point for launching an IPython kernel.\n"
          ],
          "name": "stderr"
        },
        {
          "output_type": "execute_result",
          "data": {
            "text/plain": [
              "female       9.4\n",
              "male        40.6\n",
              "quest_id    50.0\n",
              "dtype: float64"
            ]
          },
          "metadata": {
            "tags": []
          },
          "execution_count": 230
        }
      ]
    },
    {
      "cell_type": "code",
      "metadata": {
        "colab": {
          "base_uri": "https://localhost:8080/"
        },
        "id": "fkgBVT6zxd45",
        "outputId": "4d612f06-1810-4dd0-813b-41f2c3039cb0"
      },
      "source": [
        "print(\"The average of application per week :\", 50)"
      ],
      "execution_count": 278,
      "outputs": [
        {
          "output_type": "stream",
          "text": [
            "The average of application per week : 50\n"
          ],
          "name": "stdout"
        }
      ]
    },
    {
      "cell_type": "markdown",
      "metadata": {
        "id": "3257UP7EcqeH"
      },
      "source": [
        "### About question 5"
      ]
    },
    {
      "cell_type": "markdown",
      "metadata": {
        "id": "pfW9C-O0CCwb"
      },
      "source": [
        "#### Question 5. How many weeks should we extend the application process to select 60 students per commune?"
      ]
    },
    {
      "cell_type": "code",
      "metadata": {
        "id": "aAVnhL72AVE6",
        "colab": {
          "base_uri": "https://localhost:8080/",
          "height": 316
        },
        "outputId": "b3ab4918-f06a-439a-afb8-b9066faff287"
      },
      "source": [
        "week_result.groupby(['female', 'male']).sum().groupby(level=[1]).cumsum().unstack().plot(kind='bar',y='quest_id', stacked = True)\n",
        "plt.title(\"distribution of student by week\")\n",
        "plt.xlabel(\"Female student\")\n",
        "plt.ylabel(\"number of applications\")"
      ],
      "execution_count": 222,
      "outputs": [
        {
          "output_type": "execute_result",
          "data": {
            "text/plain": [
              "Text(0, 0.5, 'number of applications')"
            ]
          },
          "metadata": {
            "tags": []
          },
          "execution_count": 222
        },
        {
          "output_type": "display_data",
          "data": {
            "image/png": "[encoded data removed]",
            "text/plain": [
              "<Figure size 432x288 with 1 Axes>"
            ]
          },
          "metadata": {
            "tags": [],
            "needs_background": "light"
          }
        }
      ]
    },
    {
      "cell_type": "markdown",
      "metadata": {
        "id": "VtOx3DgJtAQd"
      },
      "source": [
        "### Answer 5 "
      ]
    },
    {
      "cell_type": "markdown",
      "metadata": {
        "id": "N_HyYPJgR3zf"
      },
      "source": [
        "As we can see here, the number of application decreases as long as the number of applications increases.\n",
        "It increases during the first week and decreases during the last four(4) weeks. \n",
        "On average, AA can realise 50 by student.\n",
        "As AA needs 313 applications to reach 30 student per commune,\n",
        "then for 60 student per commune, we apply 3-Rule program"
      ]
    },
    {
      "cell_type": "markdown",
      "metadata": {
        "id": "CYNXSdDm0C-B"
      },
      "source": [
        "For 60 Student :"
      ]
    },
    {
      "cell_type": "code",
      "metadata": {
        "colab": {
          "base_uri": "https://localhost:8080/"
        },
        "id": "iAVSg0Q70ITN",
        "outputId": "275ab2c0-20a0-44f6-b861-ed9da327e39a"
      },
      "source": [
        "print(\"If for 20 student, we have 250 applications, for 60 student we have :\", boot(30,60,313))"
      ],
      "execution_count": 283,
      "outputs": [
        {
          "output_type": "stream",
          "text": [
            "If for 20 student, we have 250 applications, for 60 student we have : 626\n"
          ],
          "name": "stdout"
        }
      ]
    },
    {
      "cell_type": "markdown",
      "metadata": {
        "id": "7E9HhgFO2JuP"
      },
      "source": [
        "During five(5) weeks, AA receive 250 student\n",
        "let's calculate the how many weeks to implement the application process to reach 60 student per commune "
      ]
    },
    {
      "cell_type": "code",
      "metadata": {
        "colab": {
          "base_uri": "https://localhost:8080/"
        },
        "id": "tFnzOzyK3dAc",
        "outputId": "a9a89b6e-041c-40dc-c3ab-f702ec93eb88"
      },
      "source": [
        "print(\"If for we have 250 applications, we realise a 5-weeks application, for 626, we have :\", boot(250,5,626))\n",
        "print(\"AA should extend the application process for at least\", 12, \"weeks\")"
      ],
      "execution_count": 287,
      "outputs": [
        {
          "output_type": "stream",
          "text": [
            "If for we have 250 applications, we realise a 5-weeks application, for 626, we have : 12\n",
            "AA should extend the application process for at least 12 weeks\n"
          ],
          "name": "stdout"
        }
      ]
    },
    {
      "cell_type": "markdown",
      "metadata": {
        "id": "8XVbkHtamtXV"
      },
      "source": [
        "### About question 6"
      ]
    },
    {
      "cell_type": "markdown",
      "metadata": {
        "id": "yzW6QsufCSXy"
      },
      "source": [
        "#### Question 6. If we were to do all the bootcamp online, who would be the best communes and how many applications would we need to select 30 student and what percentage of students would have a laptop, an internet connection, both at the same time"
      ]
    },
    {
      "cell_type": "markdown",
      "metadata": {
        "id": "sOj2Yt4NT8Fn"
      },
      "source": [
        "### About question 6 : The best three Communes"
      ]
    },
    {
      "cell_type": "code",
      "metadata": {
        "id": "Xn8RTMqEPKA9"
      },
      "source": [
        "pv_sex = pivo(\"Sex\")\n",
        "pv_edu = pivo(\"education_level\")\n",
        "pv_channel = pivo('Channel')\n",
        "pv_internet = pivo(\"internet_at_home\")\n",
        "pv_computer = pivo(\"have_computer_home\")\n",
        "pv_employ = pivo('current_employed')\n",
        "pv_payment = pivo(\"Payment Method\")\n",
        "pv_internet.rename(columns={\"No\":\"No_internet\", \"Yes\":\"Yes_internet\"}, inplace=True)\n",
        "pv_computer.rename(columns={\"No\":\"No_computer\", \"Yes\":\"Yes_computer\"}, inplace=True)\n",
        "pv_payment.rename(columns={\"No\":\"Paid\", \"Yes\":\"Unpaid\"}, inplace=True)"
      ],
      "execution_count": 128,
      "outputs": []
    },
    {
      "cell_type": "code",
      "metadata": {
        "colab": {
          "base_uri": "https://localhost:8080/",
          "height": 325
        },
        "id": "JjDYO4f6PKIe",
        "outputId": "d7059ff4-b573-4452-bc0d-cfe5acdeedf9"
      },
      "source": [
        "data_commune = pd.concat([pv_sex, pv_edu, pv_channel, pv_internet, pv_computer, pv_payment], axis=1)\n",
        "data_commune.head()"
      ],
      "execution_count": 257,
      "outputs": [
        {
          "output_type": "execute_result",
          "data": {
            "text/html": [
              "<div>\n",
              "<style scoped>\n",
              "    .dataframe tbody tr th:only-of-type {\n",
              "        vertical-align: middle;\n",
              "    }\n",
              "\n",
              "    .dataframe tbody tr th {\n",
              "        vertical-align: top;\n",
              "    }\n",
              "\n",
              "    .dataframe thead th {\n",
              "        text-align: right;\n",
              "    }\n",
              "</style>\n",
              "<table border=\"1\" class=\"dataframe\">\n",
              "  <thead>\n",
              "    <tr style=\"text-align: right;\">\n",
              "      <th></th>\n",
              "      <th>female</th>\n",
              "      <th>male</th>\n",
              "      <th>Bachelors (bacc +4)</th>\n",
              "      <th>Doctorate (PhD, MD, JD)</th>\n",
              "      <th>High School (16 years)</th>\n",
              "      <th>Masters</th>\n",
              "      <th>Other</th>\n",
              "      <th>unknown</th>\n",
              "      <th>Ayiti Analytics Website</th>\n",
              "      <th>Bootcamp Alumni</th>\n",
              "      <th>ESIH</th>\n",
              "      <th>Facebook</th>\n",
              "      <th>Friend</th>\n",
              "      <th>Instagram</th>\n",
              "      <th>LinkedIn</th>\n",
              "      <th>WhatsApp</th>\n",
              "      <th>other</th>\n",
              "      <th>No_internet</th>\n",
              "      <th>Yes_internet</th>\n",
              "      <th>unknown</th>\n",
              "      <th>No_computer</th>\n",
              "      <th>Yes_computer</th>\n",
              "      <th>Paid</th>\n",
              "      <th>Unpaid</th>\n",
              "    </tr>\n",
              "    <tr>\n",
              "      <th>Commune_FR</th>\n",
              "      <th></th>\n",
              "      <th></th>\n",
              "      <th></th>\n",
              "      <th></th>\n",
              "      <th></th>\n",
              "      <th></th>\n",
              "      <th></th>\n",
              "      <th></th>\n",
              "      <th></th>\n",
              "      <th></th>\n",
              "      <th></th>\n",
              "      <th></th>\n",
              "      <th></th>\n",
              "      <th></th>\n",
              "      <th></th>\n",
              "      <th></th>\n",
              "      <th></th>\n",
              "      <th></th>\n",
              "      <th></th>\n",
              "      <th></th>\n",
              "      <th></th>\n",
              "      <th></th>\n",
              "      <th></th>\n",
              "      <th></th>\n",
              "    </tr>\n",
              "  </thead>\n",
              "  <tbody>\n",
              "    <tr>\n",
              "      <th>Aquin</th>\n",
              "      <td>0.0</td>\n",
              "      <td>1.0</td>\n",
              "      <td>1.0</td>\n",
              "      <td>0.0</td>\n",
              "      <td>0.0</td>\n",
              "      <td>0.0</td>\n",
              "      <td>0.0</td>\n",
              "      <td>0.0</td>\n",
              "      <td>0.0</td>\n",
              "      <td>0.0</td>\n",
              "      <td>0.0</td>\n",
              "      <td>0.0</td>\n",
              "      <td>1.0</td>\n",
              "      <td>0.0</td>\n",
              "      <td>0.0</td>\n",
              "      <td>0.0</td>\n",
              "      <td>0.0</td>\n",
              "      <td>0.0</td>\n",
              "      <td>1.0</td>\n",
              "      <td>0.0</td>\n",
              "      <td>0.0</td>\n",
              "      <td>1.0</td>\n",
              "      <td>1.0</td>\n",
              "      <td>0.0</td>\n",
              "    </tr>\n",
              "    <tr>\n",
              "      <th>Cap-Haïtien</th>\n",
              "      <td>0.0</td>\n",
              "      <td>5.0</td>\n",
              "      <td>4.0</td>\n",
              "      <td>0.0</td>\n",
              "      <td>0.0</td>\n",
              "      <td>0.0</td>\n",
              "      <td>1.0</td>\n",
              "      <td>0.0</td>\n",
              "      <td>0.0</td>\n",
              "      <td>0.0</td>\n",
              "      <td>0.0</td>\n",
              "      <td>4.0</td>\n",
              "      <td>1.0</td>\n",
              "      <td>0.0</td>\n",
              "      <td>0.0</td>\n",
              "      <td>0.0</td>\n",
              "      <td>0.0</td>\n",
              "      <td>2.0</td>\n",
              "      <td>3.0</td>\n",
              "      <td>0.0</td>\n",
              "      <td>0.0</td>\n",
              "      <td>5.0</td>\n",
              "      <td>5.0</td>\n",
              "      <td>0.0</td>\n",
              "    </tr>\n",
              "    <tr>\n",
              "      <th>Caracol</th>\n",
              "      <td>0.0</td>\n",
              "      <td>1.0</td>\n",
              "      <td>1.0</td>\n",
              "      <td>0.0</td>\n",
              "      <td>0.0</td>\n",
              "      <td>0.0</td>\n",
              "      <td>0.0</td>\n",
              "      <td>0.0</td>\n",
              "      <td>0.0</td>\n",
              "      <td>0.0</td>\n",
              "      <td>0.0</td>\n",
              "      <td>0.0</td>\n",
              "      <td>0.0</td>\n",
              "      <td>0.0</td>\n",
              "      <td>0.0</td>\n",
              "      <td>1.0</td>\n",
              "      <td>0.0</td>\n",
              "      <td>0.0</td>\n",
              "      <td>1.0</td>\n",
              "      <td>0.0</td>\n",
              "      <td>0.0</td>\n",
              "      <td>1.0</td>\n",
              "      <td>1.0</td>\n",
              "      <td>0.0</td>\n",
              "    </tr>\n",
              "    <tr>\n",
              "      <th>Carrefour</th>\n",
              "      <td>6.0</td>\n",
              "      <td>17.0</td>\n",
              "      <td>17.0</td>\n",
              "      <td>0.0</td>\n",
              "      <td>3.0</td>\n",
              "      <td>1.0</td>\n",
              "      <td>2.0</td>\n",
              "      <td>0.0</td>\n",
              "      <td>2.0</td>\n",
              "      <td>4.0</td>\n",
              "      <td>0.0</td>\n",
              "      <td>5.0</td>\n",
              "      <td>7.0</td>\n",
              "      <td>0.0</td>\n",
              "      <td>0.0</td>\n",
              "      <td>4.0</td>\n",
              "      <td>1.0</td>\n",
              "      <td>5.0</td>\n",
              "      <td>18.0</td>\n",
              "      <td>0.0</td>\n",
              "      <td>2.0</td>\n",
              "      <td>21.0</td>\n",
              "      <td>19.0</td>\n",
              "      <td>4.0</td>\n",
              "    </tr>\n",
              "    <tr>\n",
              "      <th>Cité Soleil</th>\n",
              "      <td>1.0</td>\n",
              "      <td>2.0</td>\n",
              "      <td>1.0</td>\n",
              "      <td>0.0</td>\n",
              "      <td>0.0</td>\n",
              "      <td>0.0</td>\n",
              "      <td>2.0</td>\n",
              "      <td>0.0</td>\n",
              "      <td>0.0</td>\n",
              "      <td>0.0</td>\n",
              "      <td>1.0</td>\n",
              "      <td>0.0</td>\n",
              "      <td>0.0</td>\n",
              "      <td>0.0</td>\n",
              "      <td>0.0</td>\n",
              "      <td>2.0</td>\n",
              "      <td>0.0</td>\n",
              "      <td>0.0</td>\n",
              "      <td>3.0</td>\n",
              "      <td>0.0</td>\n",
              "      <td>0.0</td>\n",
              "      <td>3.0</td>\n",
              "      <td>3.0</td>\n",
              "      <td>0.0</td>\n",
              "    </tr>\n",
              "  </tbody>\n",
              "</table>\n",
              "</div>"
            ],
            "text/plain": [
              "             female  male  Bachelors (bacc +4)  ...  Yes_computer  Paid  Unpaid\n",
              "Commune_FR                                      ...                            \n",
              "Aquin           0.0   1.0                  1.0  ...           1.0   1.0     0.0\n",
              "Cap-Haïtien     0.0   5.0                  4.0  ...           5.0   5.0     0.0\n",
              "Caracol         0.0   1.0                  1.0  ...           1.0   1.0     0.0\n",
              "Carrefour       6.0  17.0                 17.0  ...          21.0  19.0     4.0\n",
              "Cité Soleil     1.0   2.0                  1.0  ...           3.0   3.0     0.0\n",
              "\n",
              "[5 rows x 24 columns]"
            ]
          },
          "metadata": {
            "tags": []
          },
          "execution_count": 257
        }
      ]
    },
    {
      "cell_type": "code",
      "metadata": {
        "colab": {
          "base_uri": "https://localhost:8080/",
          "height": 312
        },
        "id": "YW2DyQkXU-KZ",
        "outputId": "e01ef40a-bce8-4bdf-a245-da48efe592ef"
      },
      "source": [
        "data_by_commune = pd.concat([data_commune, persent_commune], axis=1)\n",
        "data_by_commune = data_by_commune.sort_values(by=(\"Total\"), ascending = False)\n",
        "data_by_commune = data_by_commune.head(5)\n",
        "data_by_commune"
      ],
      "execution_count": 130,
      "outputs": [
        {
          "output_type": "execute_result",
          "data": {
            "text/html": [
              "<div>\n",
              "<style scoped>\n",
              "    .dataframe tbody tr th:only-of-type {\n",
              "        vertical-align: middle;\n",
              "    }\n",
              "\n",
              "    .dataframe tbody tr th {\n",
              "        vertical-align: top;\n",
              "    }\n",
              "\n",
              "    .dataframe thead th {\n",
              "        text-align: right;\n",
              "    }\n",
              "</style>\n",
              "<table border=\"1\" class=\"dataframe\">\n",
              "  <thead>\n",
              "    <tr style=\"text-align: right;\">\n",
              "      <th></th>\n",
              "      <th>female</th>\n",
              "      <th>male</th>\n",
              "      <th>Bachelors (bacc +4)</th>\n",
              "      <th>Doctorate (PhD, MD, JD)</th>\n",
              "      <th>High School (16 years)</th>\n",
              "      <th>Masters</th>\n",
              "      <th>Other</th>\n",
              "      <th>unknown</th>\n",
              "      <th>Ayiti Analytics Website</th>\n",
              "      <th>Bootcamp Alumni</th>\n",
              "      <th>ESIH</th>\n",
              "      <th>Facebook</th>\n",
              "      <th>Friend</th>\n",
              "      <th>Instagram</th>\n",
              "      <th>LinkedIn</th>\n",
              "      <th>WhatsApp</th>\n",
              "      <th>other</th>\n",
              "      <th>No_internet</th>\n",
              "      <th>Yes_internet</th>\n",
              "      <th>unknown</th>\n",
              "      <th>No_computer</th>\n",
              "      <th>Yes_computer</th>\n",
              "      <th>Paid</th>\n",
              "      <th>Unpaid</th>\n",
              "      <th>Total</th>\n",
              "      <th>Percent</th>\n",
              "    </tr>\n",
              "  </thead>\n",
              "  <tbody>\n",
              "    <tr>\n",
              "      <th>Delmas</th>\n",
              "      <td>12.0</td>\n",
              "      <td>59.0</td>\n",
              "      <td>41.0</td>\n",
              "      <td>1.0</td>\n",
              "      <td>8.0</td>\n",
              "      <td>5.0</td>\n",
              "      <td>16.0</td>\n",
              "      <td>0.0</td>\n",
              "      <td>5.0</td>\n",
              "      <td>6.0</td>\n",
              "      <td>7.0</td>\n",
              "      <td>4.0</td>\n",
              "      <td>25.0</td>\n",
              "      <td>3.0</td>\n",
              "      <td>6.0</td>\n",
              "      <td>14.0</td>\n",
              "      <td>1.0</td>\n",
              "      <td>10.0</td>\n",
              "      <td>61.0</td>\n",
              "      <td>0.0</td>\n",
              "      <td>5.0</td>\n",
              "      <td>66.0</td>\n",
              "      <td>49.0</td>\n",
              "      <td>22.0</td>\n",
              "      <td>71</td>\n",
              "      <td>0.286290</td>\n",
              "    </tr>\n",
              "    <tr>\n",
              "      <th>Port-au-Prince</th>\n",
              "      <td>19.0</td>\n",
              "      <td>38.0</td>\n",
              "      <td>28.0</td>\n",
              "      <td>0.0</td>\n",
              "      <td>9.0</td>\n",
              "      <td>4.0</td>\n",
              "      <td>14.0</td>\n",
              "      <td>2.0</td>\n",
              "      <td>2.0</td>\n",
              "      <td>4.0</td>\n",
              "      <td>6.0</td>\n",
              "      <td>9.0</td>\n",
              "      <td>11.0</td>\n",
              "      <td>0.0</td>\n",
              "      <td>5.0</td>\n",
              "      <td>17.0</td>\n",
              "      <td>3.0</td>\n",
              "      <td>6.0</td>\n",
              "      <td>51.0</td>\n",
              "      <td>0.0</td>\n",
              "      <td>1.0</td>\n",
              "      <td>56.0</td>\n",
              "      <td>39.0</td>\n",
              "      <td>18.0</td>\n",
              "      <td>57</td>\n",
              "      <td>0.229839</td>\n",
              "    </tr>\n",
              "    <tr>\n",
              "      <th>Pétion-Ville</th>\n",
              "      <td>4.0</td>\n",
              "      <td>25.0</td>\n",
              "      <td>20.0</td>\n",
              "      <td>0.0</td>\n",
              "      <td>3.0</td>\n",
              "      <td>1.0</td>\n",
              "      <td>5.0</td>\n",
              "      <td>0.0</td>\n",
              "      <td>3.0</td>\n",
              "      <td>0.0</td>\n",
              "      <td>2.0</td>\n",
              "      <td>5.0</td>\n",
              "      <td>8.0</td>\n",
              "      <td>1.0</td>\n",
              "      <td>0.0</td>\n",
              "      <td>9.0</td>\n",
              "      <td>1.0</td>\n",
              "      <td>3.0</td>\n",
              "      <td>25.0</td>\n",
              "      <td>1.0</td>\n",
              "      <td>4.0</td>\n",
              "      <td>25.0</td>\n",
              "      <td>24.0</td>\n",
              "      <td>5.0</td>\n",
              "      <td>29</td>\n",
              "      <td>0.116935</td>\n",
              "    </tr>\n",
              "    <tr>\n",
              "      <th>Carrefour</th>\n",
              "      <td>6.0</td>\n",
              "      <td>17.0</td>\n",
              "      <td>17.0</td>\n",
              "      <td>0.0</td>\n",
              "      <td>3.0</td>\n",
              "      <td>1.0</td>\n",
              "      <td>2.0</td>\n",
              "      <td>0.0</td>\n",
              "      <td>2.0</td>\n",
              "      <td>4.0</td>\n",
              "      <td>0.0</td>\n",
              "      <td>5.0</td>\n",
              "      <td>7.0</td>\n",
              "      <td>0.0</td>\n",
              "      <td>0.0</td>\n",
              "      <td>4.0</td>\n",
              "      <td>1.0</td>\n",
              "      <td>5.0</td>\n",
              "      <td>18.0</td>\n",
              "      <td>0.0</td>\n",
              "      <td>2.0</td>\n",
              "      <td>21.0</td>\n",
              "      <td>19.0</td>\n",
              "      <td>4.0</td>\n",
              "      <td>23</td>\n",
              "      <td>0.092742</td>\n",
              "    </tr>\n",
              "    <tr>\n",
              "      <th>Tabarre</th>\n",
              "      <td>3.0</td>\n",
              "      <td>8.0</td>\n",
              "      <td>7.0</td>\n",
              "      <td>0.0</td>\n",
              "      <td>2.0</td>\n",
              "      <td>1.0</td>\n",
              "      <td>1.0</td>\n",
              "      <td>0.0</td>\n",
              "      <td>1.0</td>\n",
              "      <td>0.0</td>\n",
              "      <td>1.0</td>\n",
              "      <td>1.0</td>\n",
              "      <td>2.0</td>\n",
              "      <td>0.0</td>\n",
              "      <td>2.0</td>\n",
              "      <td>3.0</td>\n",
              "      <td>1.0</td>\n",
              "      <td>2.0</td>\n",
              "      <td>9.0</td>\n",
              "      <td>0.0</td>\n",
              "      <td>0.0</td>\n",
              "      <td>11.0</td>\n",
              "      <td>7.0</td>\n",
              "      <td>4.0</td>\n",
              "      <td>11</td>\n",
              "      <td>0.044355</td>\n",
              "    </tr>\n",
              "  </tbody>\n",
              "</table>\n",
              "</div>"
            ],
            "text/plain": [
              "                female  male  Bachelors (bacc +4)  ...  Unpaid  Total   Percent\n",
              "Delmas            12.0  59.0                 41.0  ...    22.0     71  0.286290\n",
              "Port-au-Prince    19.0  38.0                 28.0  ...    18.0     57  0.229839\n",
              "Pétion-Ville       4.0  25.0                 20.0  ...     5.0     29  0.116935\n",
              "Carrefour          6.0  17.0                 17.0  ...     4.0     23  0.092742\n",
              "Tabarre            3.0   8.0                  7.0  ...     4.0     11  0.044355\n",
              "\n",
              "[5 rows x 26 columns]"
            ]
          },
          "metadata": {
            "tags": []
          },
          "execution_count": 130
        }
      ]
    },
    {
      "cell_type": "code",
      "metadata": {
        "id": "0ZzAel7AL5qN"
      },
      "source": [
        "#data_by_commune.groupby(by=[\"female\", \"male\"]).sum()"
      ],
      "execution_count": null,
      "outputs": []
    },
    {
      "cell_type": "code",
      "metadata": {
        "colab": {
          "base_uri": "https://localhost:8080/"
        },
        "id": "D7N4TXAj1-Pi",
        "outputId": "c39afd9e-8ff2-4bba-d313-60b58ad97f4d"
      },
      "source": [
        "a = data_by_commune['Yes_internet']\n",
        "a"
      ],
      "execution_count": 131,
      "outputs": [
        {
          "output_type": "execute_result",
          "data": {
            "text/plain": [
              "Delmas            61.0\n",
              "Port-au-Prince    51.0\n",
              "Pétion-Ville      25.0\n",
              "Carrefour         18.0\n",
              "Tabarre            9.0\n",
              "Name: Yes_internet, dtype: float64"
            ]
          },
          "metadata": {
            "tags": []
          },
          "execution_count": 131
        }
      ]
    },
    {
      "cell_type": "code",
      "metadata": {
        "colab": {
          "base_uri": "https://localhost:8080/"
        },
        "id": "q63PfJQkXncu",
        "outputId": "61f8a381-ea90-4257-aa14-ce4bdec242f0"
      },
      "source": [
        "b = data_by_commune['Yes_computer']\n",
        "b"
      ],
      "execution_count": 132,
      "outputs": [
        {
          "output_type": "execute_result",
          "data": {
            "text/plain": [
              "Delmas            66.0\n",
              "Port-au-Prince    56.0\n",
              "Pétion-Ville      25.0\n",
              "Carrefour         21.0\n",
              "Tabarre           11.0\n",
              "Name: Yes_computer, dtype: float64"
            ]
          },
          "metadata": {
            "tags": []
          },
          "execution_count": 132
        }
      ]
    },
    {
      "cell_type": "code",
      "metadata": {
        "colab": {
          "base_uri": "https://localhost:8080/"
        },
        "id": "R-7NNWCvYj1b",
        "outputId": "87899919-2d56-4a66-f5f0-e18d9e7bab66"
      },
      "source": [
        "c = data_by_commune['Yes_computer'] + data_by_commune['Yes_internet']\n",
        "c"
      ],
      "execution_count": 134,
      "outputs": [
        {
          "output_type": "execute_result",
          "data": {
            "text/plain": [
              "Delmas            127.0\n",
              "Port-au-Prince    107.0\n",
              "Pétion-Ville       50.0\n",
              "Carrefour          39.0\n",
              "Tabarre            20.0\n",
              "dtype: float64"
            ]
          },
          "metadata": {
            "tags": []
          },
          "execution_count": 134
        }
      ]
    },
    {
      "cell_type": "code",
      "metadata": {
        "colab": {
          "base_uri": "https://localhost:8080/",
          "height": 494
        },
        "id": "YwnulqsA9Lef",
        "outputId": "878ee8b5-8485-44cc-c98d-b1cc90989bec"
      },
      "source": [
        "# Heatmap of student who have computer and internet\n",
        "from matplotlib.colors import ListedColormap\n",
        "c =pivo(\"internet_at_home\")\n",
        "plt.figure(figsize=(20,10))\n",
        "#We have done a heat map so that we could see the commune in which the number of applicants who have internet at home is high\n",
        "sns.heatmap(data=data_by_commune[[\"Yes_internet\", \"Yes_computer\"]].T,cmap =ListedColormap(sns.color_palette(\"YlOrRd\", 10)),vmin =c.min().min(),vmax =c.max().max(),annot=True,linecolor=\"white\",linewidths=3)"
      ],
      "execution_count": 292,
      "outputs": [
        {
          "output_type": "execute_result",
          "data": {
            "text/plain": [
              "<matplotlib.axes._subplots.AxesSubplot at 0x7f91c49a53d0>"
            ]
          },
          "metadata": {
            "tags": []
          },
          "execution_count": 292
        },
        {
          "output_type": "display_data",
          "data": {
            "image/png": "[encoded data removed]",
            "text/plain": [
              "<Figure size 1440x720 with 2 Axes>"
            ]
          },
          "metadata": {
            "tags": [],
            "needs_background": "light"
          }
        }
      ]
    },
    {
      "cell_type": "markdown",
      "metadata": {
        "id": "Jt4RqoseXczX"
      },
      "source": [
        "### Answer 6"
      ]
    },
    {
      "cell_type": "markdown",
      "metadata": {
        "id": "iQ85k5UzZk1J"
      },
      "source": [
        "Generally speaking, considering the three criterias mentionned (Internet-holder, Computer-holder then both), we can assume that :"
      ]
    },
    {
      "cell_type": "code",
      "metadata": {
        "colab": {
          "base_uri": "https://localhost:8080/"
        },
        "id": "NX9dfa_G-rvk",
        "outputId": "7364add8-3d03-471d-946a-825e70929161"
      },
      "source": [
        "a = [\"Delmas\", \"Petion-Ville\", \"Carrefour\"]\n",
        "print(\"The best three communes are:\")\n",
        "for x in range(len(a)):\n",
        "    print(a[x],)\n"
      ],
      "execution_count": 135,
      "outputs": [
        {
          "output_type": "stream",
          "text": [
            "The best three communes are:\n",
            "Delmas\n",
            "Petion-Ville\n",
            "Carrefour\n"
          ],
          "name": "stdout"
        }
      ]
    },
    {
      "cell_type": "markdown",
      "metadata": {
        "id": "dWLbohV3mVKx"
      },
      "source": [
        "### About question 6 : Number of Applications for 30 students"
      ]
    },
    {
      "cell_type": "markdown",
      "metadata": {
        "id": "e_yNV0Wj0clE"
      },
      "source": [
        "4 female student  has been selected this year to to go foward with the bootcamp over a total of 250 applications\n",
        "that's mean we have 20% of woman in the 2021 cohort.\n",
        "They need to achieve 25% for next cohort.\n",
        "for 20 female for 250, then for 25 we have 313 applications.\n",
        "we apply the 3-Rule python program"
      ]
    },
    {
      "cell_type": "code",
      "metadata": {
        "colab": {
          "base_uri": "https://localhost:8080/"
        },
        "id": "KkOHGkS3o-8z",
        "outputId": "1803f96b-18b7-4d15-d633-7c9ffaba65a1"
      },
      "source": [
        "boot(20, 30, 250)"
      ],
      "execution_count": 270,
      "outputs": [
        {
          "output_type": "execute_result",
          "data": {
            "text/plain": [
              "375"
            ]
          },
          "metadata": {
            "tags": []
          },
          "execution_count": 270
        }
      ]
    },
    {
      "cell_type": "markdown",
      "metadata": {
        "id": "jM3R15gQ40_j"
      },
      "source": [
        "They need at least 375 applications to achive the 30\n",
        "30% female student goal for each communes on average"
      ]
    },
    {
      "cell_type": "markdown",
      "metadata": {
        "id": "eiihF_556YA_"
      },
      "source": [
        "### About question 7"
      ]
    },
    {
      "cell_type": "markdown",
      "metadata": {
        "id": "yeUjg0TeCZ3r"
      },
      "source": [
        "#### question 7. What are the most effective communication channels (Alumni, Facebook, WhatsApp, Friend ...) that will allow a women to be susceptible to selection"
      ]
    },
    {
      "cell_type": "code",
      "metadata": {
        "colab": {
          "base_uri": "https://localhost:8080/",
          "height": 393
        },
        "id": "tkeR2u5f-ux4",
        "outputId": "d44e5096-126a-49b1-828c-9fffe850a91d"
      },
      "source": [
        "channel_female= pd.pivot_table(result5, values=\"quest_id\",index=\"Sex\",columns=\"Channel\",aggfunc=\"count\")\n",
        "channel_female.T"
      ],
      "execution_count": 325,
      "outputs": [
        {
          "output_type": "execute_result",
          "data": {
            "text/html": [
              "<div>\n",
              "<style scoped>\n",
              "    .dataframe tbody tr th:only-of-type {\n",
              "        vertical-align: middle;\n",
              "    }\n",
              "\n",
              "    .dataframe tbody tr th {\n",
              "        vertical-align: top;\n",
              "    }\n",
              "\n",
              "    .dataframe thead th {\n",
              "        text-align: right;\n",
              "    }\n",
              "</style>\n",
              "<table border=\"1\" class=\"dataframe\">\n",
              "  <thead>\n",
              "    <tr style=\"text-align: right;\">\n",
              "      <th>Sex</th>\n",
              "      <th>female</th>\n",
              "      <th>male</th>\n",
              "    </tr>\n",
              "    <tr>\n",
              "      <th>Channel</th>\n",
              "      <th></th>\n",
              "      <th></th>\n",
              "    </tr>\n",
              "  </thead>\n",
              "  <tbody>\n",
              "    <tr>\n",
              "      <th>Ayiti Analytics Website</th>\n",
              "      <td>4.0</td>\n",
              "      <td>11.0</td>\n",
              "    </tr>\n",
              "    <tr>\n",
              "      <th>Bootcamp Alumni</th>\n",
              "      <td>8.0</td>\n",
              "      <td>6.0</td>\n",
              "    </tr>\n",
              "    <tr>\n",
              "      <th>ESIH</th>\n",
              "      <td>5.0</td>\n",
              "      <td>13.0</td>\n",
              "    </tr>\n",
              "    <tr>\n",
              "      <th>Facebook</th>\n",
              "      <td>6.0</td>\n",
              "      <td>34.0</td>\n",
              "    </tr>\n",
              "    <tr>\n",
              "      <th>Friend</th>\n",
              "      <td>11.0</td>\n",
              "      <td>56.0</td>\n",
              "    </tr>\n",
              "    <tr>\n",
              "      <th>Instagram</th>\n",
              "      <td>1.0</td>\n",
              "      <td>4.0</td>\n",
              "    </tr>\n",
              "    <tr>\n",
              "      <th>LinkedIn</th>\n",
              "      <td>1.0</td>\n",
              "      <td>14.0</td>\n",
              "    </tr>\n",
              "    <tr>\n",
              "      <th>WhatsApp</th>\n",
              "      <td>9.0</td>\n",
              "      <td>57.0</td>\n",
              "    </tr>\n",
              "    <tr>\n",
              "      <th>other</th>\n",
              "      <td>2.0</td>\n",
              "      <td>7.0</td>\n",
              "    </tr>\n",
              "    <tr>\n",
              "      <th>unknown</th>\n",
              "      <td>NaN</td>\n",
              "      <td>1.0</td>\n",
              "    </tr>\n",
              "  </tbody>\n",
              "</table>\n",
              "</div>"
            ],
            "text/plain": [
              "Sex                      female  male\n",
              "Channel                              \n",
              "Ayiti Analytics Website     4.0  11.0\n",
              "Bootcamp Alumni             8.0   6.0\n",
              "ESIH                        5.0  13.0\n",
              "Facebook                    6.0  34.0\n",
              "Friend                     11.0  56.0\n",
              "Instagram                   1.0   4.0\n",
              "LinkedIn                    1.0  14.0\n",
              "WhatsApp                    9.0  57.0\n",
              "other                       2.0   7.0\n",
              "unknown                     NaN   1.0"
            ]
          },
          "metadata": {
            "tags": []
          },
          "execution_count": 325
        }
      ]
    },
    {
      "cell_type": "code",
      "metadata": {
        "colab": {
          "base_uri": "https://localhost:8080/",
          "height": 459
        },
        "id": "kfIMqo4z_tvf",
        "outputId": "be6b8da0-7d1d-4af8-878f-27a8a51626a8"
      },
      "source": [
        "figure_1 = channel_female.iloc[0,:].plot(kind=\"bar\")\n",
        "# Get a Matplotlib figure from the axes object for formatting purposes\n",
        "fig = figure_1.get_figure()\n",
        "# Change the plot dimensions (width, height)\n",
        "fig.set_size_inches(6,6)\n",
        "# Change the axes labels\n",
        "figure_1.set_xlabel(\"Channel\",fontsize=12)\n",
        "figure_1.set_ylabel(\"Sex\",fontsize=12)\n",
        "figure_1.set_title(\"Distribution of female by the communication channel\",fontsize=12)\n",
        "# to put a font size to the graph\n",
        "plt.rcParams.update({'font.size': 10})\n",
        "#add legend\n",
        "figure_1.legend()\n",
        "plt.tight_layout()\n",
        "#plt.show()\n",
        "figure_1"
      ],
      "execution_count": 302,
      "outputs": [
        {
          "output_type": "execute_result",
          "data": {
            "text/plain": [
              "<matplotlib.axes._subplots.AxesSubplot at 0x7f91c49421d0>"
            ]
          },
          "metadata": {
            "tags": []
          },
          "execution_count": 302
        },
        {
          "output_type": "display_data",
          "data": {
            "image/png": "[encoded data removed]",
            "text/plain": [
              "<Figure size 432x432 with 1 Axes>"
            ]
          },
          "metadata": {
            "tags": [],
            "needs_background": "light"
          }
        }
      ]
    },
    {
      "cell_type": "markdown",
      "metadata": {
        "id": "hIgGqlWMCJEq"
      },
      "source": [
        "## Answer"
      ]
    },
    {
      "cell_type": "markdown",
      "metadata": {
        "id": "qoaw1BPRECHY"
      },
      "source": [
        "Ayiti Analytics, Bootcamp Alumni, Friend, Facebook, Whatsapp are ythe must effective communication channels that will allow a woman to be susceptible to selection"
      ]
    },
    {
      "cell_type": "code",
      "metadata": {
        "colab": {
          "base_uri": "https://localhost:8080/",
          "height": 299
        },
        "id": "DZar_6nZBClQ",
        "outputId": "df89dc80-5115-48cd-9045-7738784bf0bf"
      },
      "source": [
        "marketing_female= pd.pivot_table(result5, values=\"quest_id\",index=\"Sex\",columns=\"what will you do after\",aggfunc=\"count\")\n",
        "marketing_female.T"
      ],
      "execution_count": 308,
      "outputs": [
        {
          "output_type": "execute_result",
          "data": {
            "text/html": [
              "<div>\n",
              "<style scoped>\n",
              "    .dataframe tbody tr th:only-of-type {\n",
              "        vertical-align: middle;\n",
              "    }\n",
              "\n",
              "    .dataframe tbody tr th {\n",
              "        vertical-align: top;\n",
              "    }\n",
              "\n",
              "    .dataframe thead th {\n",
              "        text-align: right;\n",
              "    }\n",
              "</style>\n",
              "<table border=\"1\" class=\"dataframe\">\n",
              "  <thead>\n",
              "    <tr style=\"text-align: right;\">\n",
              "      <th>Sex</th>\n",
              "      <th>female</th>\n",
              "      <th>male</th>\n",
              "    </tr>\n",
              "    <tr>\n",
              "      <th>what will you do after</th>\n",
              "      <th></th>\n",
              "      <th></th>\n",
              "    </tr>\n",
              "  </thead>\n",
              "  <tbody>\n",
              "    <tr>\n",
              "      <th>Finding a job/internship</th>\n",
              "      <td>10.0</td>\n",
              "      <td>33.0</td>\n",
              "    </tr>\n",
              "    <tr>\n",
              "      <th>Improving my data analysis skills</th>\n",
              "      <td>24.0</td>\n",
              "      <td>106.0</td>\n",
              "    </tr>\n",
              "    <tr>\n",
              "      <th>Mentorship</th>\n",
              "      <td>4.0</td>\n",
              "      <td>9.0</td>\n",
              "    </tr>\n",
              "    <tr>\n",
              "      <th>Switching careers</th>\n",
              "      <td>3.0</td>\n",
              "      <td>17.0</td>\n",
              "    </tr>\n",
              "    <tr>\n",
              "      <th>Training to start my own company</th>\n",
              "      <td>6.0</td>\n",
              "      <td>33.0</td>\n",
              "    </tr>\n",
              "    <tr>\n",
              "      <th>other</th>\n",
              "      <td>NaN</td>\n",
              "      <td>3.0</td>\n",
              "    </tr>\n",
              "    <tr>\n",
              "      <th>unknown</th>\n",
              "      <td>NaN</td>\n",
              "      <td>2.0</td>\n",
              "    </tr>\n",
              "  </tbody>\n",
              "</table>\n",
              "</div>"
            ],
            "text/plain": [
              "Sex                                female   male\n",
              "what will you do after                          \n",
              "Finding a job/internship             10.0   33.0\n",
              "Improving my data analysis skills    24.0  106.0\n",
              "Mentorship                            4.0    9.0\n",
              "Switching careers                     3.0   17.0\n",
              "Training to start my own company      6.0   33.0\n",
              "other                                 NaN    3.0\n",
              "unknown                               NaN    2.0"
            ]
          },
          "metadata": {
            "tags": []
          },
          "execution_count": 308
        }
      ]
    },
    {
      "cell_type": "code",
      "metadata": {
        "colab": {
          "base_uri": "https://localhost:8080/",
          "height": 459
        },
        "id": "QY6DyG7DBWlX",
        "outputId": "04e7b613-e25e-4f3f-9466-04c898c785ce"
      },
      "source": [
        "figure_1 = marketing_female.iloc[0,:].plot(kind=\"barh\")\n",
        "# Get a Matplotlib figure from the axes object for formatting purposes\n",
        "fig = figure_1.get_figure()\n",
        "# Change the plot dimensions (width, height)\n",
        "fig.set_size_inches(6,6)\n",
        "# Change the axes labels\n",
        "figure_1.set_xlabel(\"Expectation\",fontsize=12)\n",
        "figure_1.set_ylabel(\"Sex\",fontsize=12)\n",
        "figure_1.set_title(\"Distribution of female by what they expect from the bootcamp\",fontsize=12)\n",
        "# to put a font size to the graph\n",
        "plt.rcParams.update({'font.size': 10})\n",
        "#add legend\n",
        "figure_1.legend()\n",
        "plt.tight_layout()\n",
        "#plt.show()\n",
        "figure_1"
      ],
      "execution_count": 316,
      "outputs": [
        {
          "output_type": "execute_result",
          "data": {
            "text/plain": [
              "<matplotlib.axes._subplots.AxesSubplot at 0x7f91bb826f10>"
            ]
          },
          "metadata": {
            "tags": []
          },
          "execution_count": 316
        },
        {
          "output_type": "display_data",
          "data": {
            "image/png": "[encoded data removed]",
            "text/plain": [
              "<Figure size 432x432 with 1 Axes>"
            ]
          },
          "metadata": {
            "tags": [],
            "needs_background": "light"
          }
        }
      ]
    },
    {
      "cell_type": "markdown",
      "metadata": {
        "id": "ada8Su_UC8mP"
      },
      "source": []
    }
  ]
}