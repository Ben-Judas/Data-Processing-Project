{
  "nbformat": 4,
  "nbformat_minor": 0,
  "metadata": {
    "colab": {
      "name": "Python project II.ipynb",
      "provenance": [],
      "collapsed_sections": [],
      "toc_visible": true
    },
    "kernelspec": {
      "name": "python3",
      "display_name": "Python 3"
    },
    "language_info": {
      "name": "python"
    }
  },
  "cells": [
    {
      "cell_type": "markdown",
      "metadata": {
        "id": "eQhcR72SEmgH"
      },
      "source": [
        "# A. BUSINESS PROBLEM"
      ]
    },
    {
      "cell_type": "markdown",
      "metadata": {
        "id": "GOGIqYRtEz7A"
      },
      "source": [
        "Ayiti Analytics Data Processing Bootcamp\n",
        "Ayiti Analytics Data wants to expand its training centers throughout all the communes of the country. Your role as a data analyst is to help them realize this dream.\n",
        "\n",
        "Its objective is to know which three communes of the country will be the most likely to expand its training centers.\n",
        "\n",
        "Knowing that each cohort must have 30 students\n",
        "\n",
        "How many applications must be made to select 25% women for each on average\n",
        "\n",
        "What are the most effective communication channels (Alumni, Facebook, WhatsApp, Friend ...) that will allow a student to be susceptible to selection\n",
        "\n",
        "What is the average number of university students who should participate in this program\n",
        "\n",
        "What will be the average number of applications per week that we could have\n",
        "How many weeks should we extend the application process to select 60 students per commune?\n",
        "If we were to do all the bootcamp online, who would be the best communes and how many applications would we need to select 30 student and what percentage of students would have a laptop, an internet connection, both at the same time\n",
        "What are the most effective communication channels (Alumni, Facebook, WhatsApp, Friend ...) that will allow a women to be susceptible to selection\n",
        "NB\n",
        "Use the same framework of the BA project to complete this project"
      ]
    },
    {
      "cell_type": "markdown",
      "metadata": {
        "id": "fKeDey3hiMSY"
      },
      "source": [
        "# B. DATA CLEANING"
      ]
    },
    {
      "cell_type": "markdown",
      "metadata": {
        "id": "stHI5xMsgiOm"
      },
      "source": [
        "## STEP 1 : IMPORTING THE REQUIRED LIBRARIES"
      ]
    },
    {
      "cell_type": "code",
      "metadata": {
        "id": "9LYO_lPPslxv"
      },
      "source": [
        "import pandas as pd\n",
        "import numpy as np\n",
        "from matplotlib import pyplot as plt\n",
        "import re as re\n",
        "import seaborn as sns\n",
        "import datetime as dt\n"
      ],
      "execution_count": 332,
      "outputs": []
    },
    {
      "cell_type": "markdown",
      "metadata": {
        "id": "uNmKoFQOh756"
      },
      "source": [
        "##STEP 2 : LOADING DATA FILES"
      ]
    },
    {
      "cell_type": "code",
      "metadata": {
        "id": "EzTbvb6_XEyB"
      },
      "source": [
        "from google.colab import files"
      ],
      "execution_count": 333,
      "outputs": []
    },
    {
      "cell_type": "code",
      "metadata": {
        "colab": {
          "resources": {
            "http://localhost:8080/nbextensions/google.colab/files.js": {
              "data": "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",
              "ok": true,
              "headers": [
                [
                  "content-type",
                  "application/javascript"
                ]
              ],
              "status": 200,
              "status_text": ""
            }
          },
          "base_uri": "https://localhost:8080/",
          "height": 378
        },
        "id": "7wKI4c7ddwjg",
        "outputId": "8a8f9896-0049-458f-db6d-ee15bc082984"
      },
      "source": [
        "uploaded = files.upload()"
      ],
      "execution_count": 334,
      "outputs": [
        {
          "output_type": "display_data",
          "data": {
            "text/html": [
              "\n",
              "     <input type=\"file\" id=\"files-efdfb04a-93f5-4b6f-9393-9ed4a15af72a\" name=\"files[]\" multiple disabled\n",
              "        style=\"border:none\" />\n",
              "     <output id=\"result-efdfb04a-93f5-4b6f-9393-9ed4a15af72a\">\n",
              "      Upload widget is only available when the cell has been executed in the\n",
              "      current browser session. Please rerun this cell to enable.\n",
              "      </output>\n",
              "      <script src=\"/nbextensions/google.colab/files.js\"></script> "
            ],
            "text/plain": [
              "<IPython.core.display.HTML object>"
            ]
          },
          "metadata": {
            "tags": []
          }
        },
        {
          "output_type": "stream",
          "text": [
            "Saving commune.xlsx to commune (4).xlsx\n",
            "Saving data.ipynb to data (4).ipynb\n",
            "Saving Dictionnaire.xlsx to Dictionnaire (4).xlsx\n",
            "Saving enroll.csv to enroll (4).csv\n",
            "Saving industry.csv to industry (4).csv\n",
            "Saving ord.csv to ord (4).csv\n",
            "Saving quest.csv to quest (4).csv\n",
            "Saving study_domain.csv to study_domain (4).csv\n",
            "Saving technology.csv to technology (4).csv\n",
            "Saving transaction.csv to transaction (4).csv\n"
          ],
          "name": "stdout"
        }
      ]
    },
    {
      "cell_type": "markdown",
      "metadata": {
        "id": "GB-iAM73mII-"
      },
      "source": [
        "## STEP 3 : READING FILES"
      ]
    },
    {
      "cell_type": "code",
      "metadata": {
        "id": "F7YbSCrcd3M2"
      },
      "source": [
        "enroll = pd.read_csv(r\"enroll.csv\")\n",
        "quest = pd.read_csv(r\"quest.csv\")\n",
        "industry = pd.read_csv(r\"industry.csv\")\n",
        "ord = pd.read_csv(r\"ord.csv\")\n",
        "study_domain = pd.read_csv(r\"study_domain.csv\")\n",
        "transaction = pd.read_csv(r\"transaction.csv\")\n",
        "technology = pd.read_csv(r\"technology.csv\")\n",
        "commune=pd.read_excel(r\"commune.xlsx\")"
      ],
      "execution_count": 335,
      "outputs": []
    },
    {
      "cell_type": "markdown",
      "metadata": {
        "id": "uD1trDNqiorH"
      },
      "source": [
        "## STEP 4 : CONVERT INTO DUMMIES & GROUP BY COMMON COLUMN"
      ]
    },
    {
      "cell_type": "code",
      "metadata": {
        "id": "OM2ZCoSx2K0L"
      },
      "source": [
        "def dummies_create(data, value):\n",
        "  x=pd.get_dummies(data=data, columns=value, prefix=\"\", prefix_sep=\"\")\n",
        "  y=x.groupby(\"quest_id\").sum()\n",
        "  return y"
      ],
      "execution_count": 336,
      "outputs": []
    },
    {
      "cell_type": "code",
      "metadata": {
        "id": "5GT2XoTL30qr"
      },
      "source": [
        "study_domain2 = dummies_create(study_domain[[\"key\", \"quest_id\", \"values\"]], [\"values\"])\n",
        "technology2 = dummies_create(technology[[\"key\", \"quest_id\", \"values\"]], ['values'])\n",
        "industry2 = dummies_create(industry[[\"key\", \"quest_id\", \"values\"]], ['values'])"
      ],
      "execution_count": 337,
      "outputs": []
    },
    {
      "cell_type": "code",
      "metadata": {
        "colab": {
          "base_uri": "https://localhost:8080/",
          "height": 332
        },
        "id": "zXjM8dcf32Ox",
        "outputId": "f55683b4-7106-4558-b2ae-2ef56e34180e"
      },
      "source": [
        "industry2.head(2)"
      ],
      "execution_count": 338,
      "outputs": [
        {
          "output_type": "execute_result",
          "data": {
            "text/html": [
              "<div>\n",
              "<style scoped>\n",
              "    .dataframe tbody tr th:only-of-type {\n",
              "        vertical-align: middle;\n",
              "    }\n",
              "\n",
              "    .dataframe tbody tr th {\n",
              "        vertical-align: top;\n",
              "    }\n",
              "\n",
              "    .dataframe thead th {\n",
              "        text-align: right;\n",
              "    }\n",
              "</style>\n",
              "<table border=\"1\" class=\"dataframe\">\n",
              "  <thead>\n",
              "    <tr style=\"text-align: right;\">\n",
              "      <th></th>\n",
              "      <th>Communications</th>\n",
              "      <th>Consulting</th>\n",
              "      <th>Education</th>\n",
              "      <th>Energy</th>\n",
              "      <th>Finance</th>\n",
              "      <th>Healthcare</th>\n",
              "      <th>Insurance</th>\n",
              "      <th>Manufacturing</th>\n",
              "      <th>Marketing</th>\n",
              "      <th>Public Sector/ Non-Profit Agencies</th>\n",
              "      <th>Retail/ E-Commerce</th>\n",
              "      <th>Technology (Software/ Internet)</th>\n",
              "      <th>Transportation</th>\n",
              "      <th>other</th>\n",
              "    </tr>\n",
              "    <tr>\n",
              "      <th>quest_id</th>\n",
              "      <th></th>\n",
              "      <th></th>\n",
              "      <th></th>\n",
              "      <th></th>\n",
              "      <th></th>\n",
              "      <th></th>\n",
              "      <th></th>\n",
              "      <th></th>\n",
              "      <th></th>\n",
              "      <th></th>\n",
              "      <th></th>\n",
              "      <th></th>\n",
              "      <th></th>\n",
              "      <th></th>\n",
              "    </tr>\n",
              "  </thead>\n",
              "  <tbody>\n",
              "    <tr>\n",
              "      <th>905ddcf2-ce95-11eb-9a92-7c67a234f601</th>\n",
              "      <td>0</td>\n",
              "      <td>0</td>\n",
              "      <td>0</td>\n",
              "      <td>0</td>\n",
              "      <td>1</td>\n",
              "      <td>0</td>\n",
              "      <td>0</td>\n",
              "      <td>0</td>\n",
              "      <td>0</td>\n",
              "      <td>0</td>\n",
              "      <td>0</td>\n",
              "      <td>0</td>\n",
              "      <td>0</td>\n",
              "      <td>0</td>\n",
              "    </tr>\n",
              "    <tr>\n",
              "      <th>905e2608-ce95-11eb-809f-7c67a234f601</th>\n",
              "      <td>0</td>\n",
              "      <td>1</td>\n",
              "      <td>1</td>\n",
              "      <td>1</td>\n",
              "      <td>0</td>\n",
              "      <td>0</td>\n",
              "      <td>0</td>\n",
              "      <td>0</td>\n",
              "      <td>1</td>\n",
              "      <td>0</td>\n",
              "      <td>0</td>\n",
              "      <td>1</td>\n",
              "      <td>0</td>\n",
              "      <td>0</td>\n",
              "    </tr>\n",
              "  </tbody>\n",
              "</table>\n",
              "</div>"
            ],
            "text/plain": [
              "                                      Communications  ...  other\n",
              "quest_id                                              ...       \n",
              "905ddcf2-ce95-11eb-9a92-7c67a234f601               0  ...      0\n",
              "905e2608-ce95-11eb-809f-7c67a234f601               0  ...      0\n",
              "\n",
              "[2 rows x 14 columns]"
            ]
          },
          "metadata": {
            "tags": []
          },
          "execution_count": 338
        }
      ]
    },
    {
      "cell_type": "markdown",
      "metadata": {
        "id": "jUaRLgyK3WCK"
      },
      "source": [
        "## STEP 5 : MERGE DATAFRAMES BY COMMON COLUMN"
      ]
    },
    {
      "cell_type": "code",
      "metadata": {
        "colab": {
          "base_uri": "https://localhost:8080/",
          "height": 419
        },
        "id": "RLX6wqlwN5zT",
        "outputId": "56b0c2c5-471f-4995-cece-b744d332e646"
      },
      "source": [
        "#Transform \"Commune_Id\" Values in lower Character before Merge\n",
        "quest['department'] = quest['department'].apply(lambda x  : str(x))\n",
        "quest['department']= quest['department'].apply(lambda x : x.upper())\n",
        "quest['commune']= quest['commune'].apply(lambda x : x.upper())\n",
        "#commune[\"Commune_Id\"] = commune[\"Commune_Id\"].str.lower()\n",
        "#commune['id'] = commune[\"Commune_Id\"].apply(lambda x : x[2:])\n",
        "#commune['commune'] = (commune[\"Commune_Id\"].apply(lambda x : x[0:2].lower())+ commune[\"Commune_Id\"].apply(lambda x : x[2:]))\n",
        "#Rename \"Commune_Id\" in \"commune\"\n",
        "commune.rename(columns = {\"Commune_Id\": \"commune\"}, inplace = True)\n",
        "commune"
      ],
      "execution_count": 339,
      "outputs": [
        {
          "output_type": "execute_result",
          "data": {
            "text/html": [
              "<div>\n",
              "<style scoped>\n",
              "    .dataframe tbody tr th:only-of-type {\n",
              "        vertical-align: middle;\n",
              "    }\n",
              "\n",
              "    .dataframe tbody tr th {\n",
              "        vertical-align: top;\n",
              "    }\n",
              "\n",
              "    .dataframe thead th {\n",
              "        text-align: right;\n",
              "    }\n",
              "</style>\n",
              "<table border=\"1\" class=\"dataframe\">\n",
              "  <thead>\n",
              "    <tr style=\"text-align: right;\">\n",
              "      <th></th>\n",
              "      <th>Commune_en</th>\n",
              "      <th>Commune_FR</th>\n",
              "      <th>commune</th>\n",
              "      <th>Departement</th>\n",
              "      <th>ADM1_PCODE</th>\n",
              "    </tr>\n",
              "  </thead>\n",
              "  <tbody>\n",
              "    <tr>\n",
              "      <th>0</th>\n",
              "      <td>Abricots</td>\n",
              "      <td>Abricots</td>\n",
              "      <td>HT0812</td>\n",
              "      <td>Grande'Anse</td>\n",
              "      <td>HT08</td>\n",
              "    </tr>\n",
              "    <tr>\n",
              "      <th>1</th>\n",
              "      <td>Acul du Nord</td>\n",
              "      <td>Acul du Nord</td>\n",
              "      <td>HT0321</td>\n",
              "      <td>North</td>\n",
              "      <td>HT03</td>\n",
              "    </tr>\n",
              "    <tr>\n",
              "      <th>2</th>\n",
              "      <td>Anse-a-Foleur</td>\n",
              "      <td>Anse-à-Foleur</td>\n",
              "      <td>HT0922</td>\n",
              "      <td>North-West</td>\n",
              "      <td>HT09</td>\n",
              "    </tr>\n",
              "    <tr>\n",
              "      <th>3</th>\n",
              "      <td>Anse-a-Pitre</td>\n",
              "      <td>Anse-à-Pître</td>\n",
              "      <td>HT0234</td>\n",
              "      <td>South-East</td>\n",
              "      <td>HT02</td>\n",
              "    </tr>\n",
              "    <tr>\n",
              "      <th>4</th>\n",
              "      <td>Anse-a-Veau</td>\n",
              "      <td>Anse-à-Veau</td>\n",
              "      <td>HT1021</td>\n",
              "      <td>Nippes</td>\n",
              "      <td>HT10</td>\n",
              "    </tr>\n",
              "    <tr>\n",
              "      <th>...</th>\n",
              "      <td>...</td>\n",
              "      <td>...</td>\n",
              "      <td>...</td>\n",
              "      <td>...</td>\n",
              "      <td>...</td>\n",
              "    </tr>\n",
              "    <tr>\n",
              "      <th>135</th>\n",
              "      <td>Tiburon</td>\n",
              "      <td>Tiburon</td>\n",
              "      <td>HT0753</td>\n",
              "      <td>South</td>\n",
              "      <td>HT07</td>\n",
              "    </tr>\n",
              "    <tr>\n",
              "      <th>136</th>\n",
              "      <td>Torbeck</td>\n",
              "      <td>Torbeck</td>\n",
              "      <td>HT0712</td>\n",
              "      <td>South</td>\n",
              "      <td>HT07</td>\n",
              "    </tr>\n",
              "    <tr>\n",
              "      <th>137</th>\n",
              "      <td>Trou du Nord</td>\n",
              "      <td>Trou du Nord</td>\n",
              "      <td>HT0431</td>\n",
              "      <td>North-East</td>\n",
              "      <td>HT04</td>\n",
              "    </tr>\n",
              "    <tr>\n",
              "      <th>138</th>\n",
              "      <td>Vallieres</td>\n",
              "      <td>Vallières</td>\n",
              "      <td>HT0441</td>\n",
              "      <td>North-East</td>\n",
              "      <td>HT04</td>\n",
              "    </tr>\n",
              "    <tr>\n",
              "      <th>139</th>\n",
              "      <td>Verrettes</td>\n",
              "      <td>Verrettes</td>\n",
              "      <td>HT0532</td>\n",
              "      <td>Artibonite</td>\n",
              "      <td>HT05</td>\n",
              "    </tr>\n",
              "  </tbody>\n",
              "</table>\n",
              "<p>140 rows × 5 columns</p>\n",
              "</div>"
            ],
            "text/plain": [
              "        Commune_en     Commune_FR commune  Departement ADM1_PCODE\n",
              "0         Abricots       Abricots  HT0812  Grande'Anse       HT08\n",
              "1     Acul du Nord   Acul du Nord  HT0321        North       HT03\n",
              "2    Anse-a-Foleur  Anse-à-Foleur  HT0922   North-West       HT09\n",
              "3     Anse-a-Pitre   Anse-à-Pître  HT0234   South-East       HT02\n",
              "4      Anse-a-Veau    Anse-à-Veau  HT1021       Nippes       HT10\n",
              "..             ...            ...     ...          ...        ...\n",
              "135        Tiburon        Tiburon  HT0753        South       HT07\n",
              "136        Torbeck        Torbeck  HT0712        South       HT07\n",
              "137   Trou du Nord   Trou du Nord  HT0431   North-East       HT04\n",
              "138      Vallieres      Vallières  HT0441   North-East       HT04\n",
              "139      Verrettes      Verrettes  HT0532   Artibonite       HT05\n",
              "\n",
              "[140 rows x 5 columns]"
            ]
          },
          "metadata": {
            "tags": []
          },
          "execution_count": 339
        }
      ]
    },
    {
      "cell_type": "code",
      "metadata": {
        "colab": {
          "base_uri": "https://localhost:8080/",
          "height": 1000
        },
        "id": "PK2Kbb_A0hYB",
        "outputId": "63a87da7-1e8e-4a08-cf90-313fc38ea194"
      },
      "source": [
        "#quest['department'] = quest['department'].apply(lambda x  : str(x))\n",
        "#quest['department']= quest['department'].apply(lambda x : x.upper())\n",
        "#quest['commune']= quest['commune'].apply(lambda x : x.upper())\n",
        "#commune[\"Commune_Id\"] = commune[\"Commune_Id\"].str.lower()\n",
        "#commune.rename(columns = {\"Commune_en\": \"commune_FR\"}, inplace = True)\n",
        "#quest\n",
        "result1=pd.merge(quest,commune, how = 'left', left_on=['department','commune'], right_on=['ADM1_PCODE','commune'])\n",
        "result1"
      ],
      "execution_count": 340,
      "outputs": [
        {
          "output_type": "execute_result",
          "data": {
            "text/html": [
              "<div>\n",
              "<style scoped>\n",
              "    .dataframe tbody tr th:only-of-type {\n",
              "        vertical-align: middle;\n",
              "    }\n",
              "\n",
              "    .dataframe tbody tr th {\n",
              "        vertical-align: top;\n",
              "    }\n",
              "\n",
              "    .dataframe thead th {\n",
              "        text-align: right;\n",
              "    }\n",
              "</style>\n",
              "<table border=\"1\" class=\"dataframe\">\n",
              "  <thead>\n",
              "    <tr style=\"text-align: right;\">\n",
              "      <th></th>\n",
              "      <th>Unnamed: 0</th>\n",
              "      <th>gender</th>\n",
              "      <th>dob</th>\n",
              "      <th>commune</th>\n",
              "      <th>created_at</th>\n",
              "      <th>modified_at</th>\n",
              "      <th>department</th>\n",
              "      <th>education_level</th>\n",
              "      <th>university</th>\n",
              "      <th>study_domain</th>\n",
              "      <th>current_employed</th>\n",
              "      <th>formal_sector_job</th>\n",
              "      <th>have_computer_home</th>\n",
              "      <th>internet_at_home</th>\n",
              "      <th>hear_AA_1</th>\n",
              "      <th>after_AA</th>\n",
              "      <th>quest_id</th>\n",
              "      <th>Commune_en</th>\n",
              "      <th>Commune_FR</th>\n",
              "      <th>Departement</th>\n",
              "      <th>ADM1_PCODE</th>\n",
              "    </tr>\n",
              "  </thead>\n",
              "  <tbody>\n",
              "    <tr>\n",
              "      <th>0</th>\n",
              "      <td>0</td>\n",
              "      <td>male</td>\n",
              "      <td>25/08/1998</td>\n",
              "      <td>HT0111</td>\n",
              "      <td>2021-02-14T23:03:52.768400Z</td>\n",
              "      <td>2021-02-14T23:03:52.768462Z</td>\n",
              "      <td>NAN</td>\n",
              "      <td>unknown</td>\n",
              "      <td>unknown</td>\n",
              "      <td>[]</td>\n",
              "      <td>unknown</td>\n",
              "      <td>unknown</td>\n",
              "      <td>unknown</td>\n",
              "      <td>unknown</td>\n",
              "      <td>unknown</td>\n",
              "      <td>unknown</td>\n",
              "      <td>905dc006-ce95-11eb-b2f9-7c67a234f601</td>\n",
              "      <td>NaN</td>\n",
              "      <td>NaN</td>\n",
              "      <td>NaN</td>\n",
              "      <td>NaN</td>\n",
              "    </tr>\n",
              "    <tr>\n",
              "      <th>1</th>\n",
              "      <td>1</td>\n",
              "      <td>female</td>\n",
              "      <td>29/09/1996</td>\n",
              "      <td>HT0111</td>\n",
              "      <td>2021-02-16T16:01:10.861844Z</td>\n",
              "      <td>2021-02-16T16:01:10.861899Z</td>\n",
              "      <td>HT01</td>\n",
              "      <td>Bachelors (bacc +4)</td>\n",
              "      <td>other</td>\n",
              "      <td>['other']</td>\n",
              "      <td>No</td>\n",
              "      <td>unknown</td>\n",
              "      <td>Yes</td>\n",
              "      <td>Yes</td>\n",
              "      <td>Friend</td>\n",
              "      <td>Finding a job/internship</td>\n",
              "      <td>905ddcf2-ce95-11eb-9a92-7c67a234f601</td>\n",
              "      <td>Port-au-Prince</td>\n",
              "      <td>Port-au-Prince</td>\n",
              "      <td>West</td>\n",
              "      <td>HT01</td>\n",
              "    </tr>\n",
              "    <tr>\n",
              "      <th>2</th>\n",
              "      <td>2</td>\n",
              "      <td>male</td>\n",
              "      <td>17/05/1996</td>\n",
              "      <td>HT0111</td>\n",
              "      <td>2021-02-16T16:56:30.579504Z</td>\n",
              "      <td>2021-02-16T16:56:30.579563Z</td>\n",
              "      <td>HT01</td>\n",
              "      <td>Bachelors (bacc +4)</td>\n",
              "      <td>Université d'Etat d'Haïti (UEH)</td>\n",
              "      <td>[]</td>\n",
              "      <td>No</td>\n",
              "      <td>unknown</td>\n",
              "      <td>Yes</td>\n",
              "      <td>Yes</td>\n",
              "      <td>Friend</td>\n",
              "      <td>Improving my data analysis skills</td>\n",
              "      <td>905e2608-ce95-11eb-809f-7c67a234f601</td>\n",
              "      <td>Port-au-Prince</td>\n",
              "      <td>Port-au-Prince</td>\n",
              "      <td>West</td>\n",
              "      <td>HT01</td>\n",
              "    </tr>\n",
              "    <tr>\n",
              "      <th>3</th>\n",
              "      <td>3</td>\n",
              "      <td>male</td>\n",
              "      <td>24/11/1996</td>\n",
              "      <td>HT0111</td>\n",
              "      <td>2021-02-16T16:57:55.754541Z</td>\n",
              "      <td>2021-02-16T16:57:55.754582Z</td>\n",
              "      <td>HT01</td>\n",
              "      <td>Bachelors (bacc +4)</td>\n",
              "      <td>Ecole Supérieure d'Infotronique d'Haïti (ESIH)</td>\n",
              "      <td>['item1', 'item6']</td>\n",
              "      <td>No</td>\n",
              "      <td>unknown</td>\n",
              "      <td>Yes</td>\n",
              "      <td>Yes</td>\n",
              "      <td>ESIH</td>\n",
              "      <td>Improving my data analysis skills</td>\n",
              "      <td>905e4cf5-ce95-11eb-96a9-7c67a234f601</td>\n",
              "      <td>Port-au-Prince</td>\n",
              "      <td>Port-au-Prince</td>\n",
              "      <td>West</td>\n",
              "      <td>HT01</td>\n",
              "    </tr>\n",
              "    <tr>\n",
              "      <th>4</th>\n",
              "      <td>4</td>\n",
              "      <td>male</td>\n",
              "      <td>20/07/1997</td>\n",
              "      <td>HT0111</td>\n",
              "      <td>2021-02-16T17:05:40.907948Z</td>\n",
              "      <td>2021-02-16T17:05:40.907982Z</td>\n",
              "      <td>HT01</td>\n",
              "      <td>High School (16 years)</td>\n",
              "      <td>unknown</td>\n",
              "      <td>['other']</td>\n",
              "      <td>No</td>\n",
              "      <td>unknown</td>\n",
              "      <td>Yes</td>\n",
              "      <td>Yes</td>\n",
              "      <td>WhatsApp</td>\n",
              "      <td>Mentorship</td>\n",
              "      <td>905e73fd-ce95-11eb-a7b0-7c67a234f601</td>\n",
              "      <td>Port-au-Prince</td>\n",
              "      <td>Port-au-Prince</td>\n",
              "      <td>West</td>\n",
              "      <td>HT01</td>\n",
              "    </tr>\n",
              "    <tr>\n",
              "      <th>...</th>\n",
              "      <td>...</td>\n",
              "      <td>...</td>\n",
              "      <td>...</td>\n",
              "      <td>...</td>\n",
              "      <td>...</td>\n",
              "      <td>...</td>\n",
              "      <td>...</td>\n",
              "      <td>...</td>\n",
              "      <td>...</td>\n",
              "      <td>...</td>\n",
              "      <td>...</td>\n",
              "      <td>...</td>\n",
              "      <td>...</td>\n",
              "      <td>...</td>\n",
              "      <td>...</td>\n",
              "      <td>...</td>\n",
              "      <td>...</td>\n",
              "      <td>...</td>\n",
              "      <td>...</td>\n",
              "      <td>...</td>\n",
              "      <td>...</td>\n",
              "    </tr>\n",
              "    <tr>\n",
              "      <th>245</th>\n",
              "      <td>245</td>\n",
              "      <td>male</td>\n",
              "      <td>15/02/1994</td>\n",
              "      <td>HT0621</td>\n",
              "      <td>2021-03-02T18:39:19.873194Z</td>\n",
              "      <td>2021-03-02T18:39:19.873237Z</td>\n",
              "      <td>HT06</td>\n",
              "      <td>Bachelors (bacc +4)</td>\n",
              "      <td>other</td>\n",
              "      <td>['other']</td>\n",
              "      <td>Yes</td>\n",
              "      <td>Yes</td>\n",
              "      <td>Yes</td>\n",
              "      <td>Yes</td>\n",
              "      <td>Facebook</td>\n",
              "      <td>Improving my data analysis skills</td>\n",
              "      <td>906b3c84-ce95-11eb-8c2a-7c67a234f601</td>\n",
              "      <td>Mirebalais</td>\n",
              "      <td>Mirebalais</td>\n",
              "      <td>Centre</td>\n",
              "      <td>HT06</td>\n",
              "    </tr>\n",
              "    <tr>\n",
              "      <th>246</th>\n",
              "      <td>246</td>\n",
              "      <td>male</td>\n",
              "      <td>8/10/1990</td>\n",
              "      <td>HT0621</td>\n",
              "      <td>2021-03-10T04:12:49.436154Z</td>\n",
              "      <td>2021-03-10T04:12:49.436213Z</td>\n",
              "      <td>HT06</td>\n",
              "      <td>Bachelors (bacc +4)</td>\n",
              "      <td>Université d'Etat d'Haïti (UEH)</td>\n",
              "      <td>['item8']</td>\n",
              "      <td>Yes</td>\n",
              "      <td>Yes</td>\n",
              "      <td>Yes</td>\n",
              "      <td>Yes</td>\n",
              "      <td>Friend</td>\n",
              "      <td>Improving my data analysis skills</td>\n",
              "      <td>906b3c85-ce95-11eb-9b87-7c67a234f601</td>\n",
              "      <td>Mirebalais</td>\n",
              "      <td>Mirebalais</td>\n",
              "      <td>Centre</td>\n",
              "      <td>HT06</td>\n",
              "    </tr>\n",
              "    <tr>\n",
              "      <th>247</th>\n",
              "      <td>247</td>\n",
              "      <td>male</td>\n",
              "      <td>28/12/1993</td>\n",
              "      <td>HT0621</td>\n",
              "      <td>2021-03-14T15:29:32.474015Z</td>\n",
              "      <td>2021-03-14T15:29:32.474055Z</td>\n",
              "      <td>HT06</td>\n",
              "      <td>Bachelors (bacc +4)</td>\n",
              "      <td>Centre de Techniques de Planification et d'Eco...</td>\n",
              "      <td>['item2']</td>\n",
              "      <td>Yes</td>\n",
              "      <td>Yes</td>\n",
              "      <td>Yes</td>\n",
              "      <td>Yes</td>\n",
              "      <td>Friend</td>\n",
              "      <td>Improving my data analysis skills</td>\n",
              "      <td>906b3c86-ce95-11eb-b6a7-7c67a234f601</td>\n",
              "      <td>Mirebalais</td>\n",
              "      <td>Mirebalais</td>\n",
              "      <td>Centre</td>\n",
              "      <td>HT06</td>\n",
              "    </tr>\n",
              "    <tr>\n",
              "      <th>248</th>\n",
              "      <td>248</td>\n",
              "      <td>male</td>\n",
              "      <td>17/04/1992</td>\n",
              "      <td>HT0412</td>\n",
              "      <td>2021-03-08T16:35:07.806100Z</td>\n",
              "      <td>2021-03-08T16:35:07.806161Z</td>\n",
              "      <td>HT04</td>\n",
              "      <td>Bachelors (bacc +4)</td>\n",
              "      <td>other</td>\n",
              "      <td>['item1']</td>\n",
              "      <td>No</td>\n",
              "      <td>unknown</td>\n",
              "      <td>Yes</td>\n",
              "      <td>Yes</td>\n",
              "      <td>Facebook</td>\n",
              "      <td>Improving my data analysis skills</td>\n",
              "      <td>906b65e2-ce95-11eb-8b5c-7c67a234f601</td>\n",
              "      <td>Ferrier</td>\n",
              "      <td>Ferrier</td>\n",
              "      <td>North-East</td>\n",
              "      <td>HT04</td>\n",
              "    </tr>\n",
              "    <tr>\n",
              "      <th>249</th>\n",
              "      <td>249</td>\n",
              "      <td>male</td>\n",
              "      <td>22/07/1993</td>\n",
              "      <td>HT1012</td>\n",
              "      <td>2021-03-10T21:41:05.708748Z</td>\n",
              "      <td>2021-03-10T21:41:05.708787Z</td>\n",
              "      <td>HT10</td>\n",
              "      <td>Masters</td>\n",
              "      <td>other</td>\n",
              "      <td>['other']</td>\n",
              "      <td>No</td>\n",
              "      <td>unknown</td>\n",
              "      <td>Yes</td>\n",
              "      <td>Yes</td>\n",
              "      <td>Facebook</td>\n",
              "      <td>Improving my data analysis skills</td>\n",
              "      <td>906b65e3-ce95-11eb-a294-7c67a234f601</td>\n",
              "      <td>Petite Riviere de Nippes</td>\n",
              "      <td>Petite Rivière de Nippes</td>\n",
              "      <td>Nippes</td>\n",
              "      <td>HT10</td>\n",
              "    </tr>\n",
              "  </tbody>\n",
              "</table>\n",
              "<p>250 rows × 21 columns</p>\n",
              "</div>"
            ],
            "text/plain": [
              "     Unnamed: 0  gender  ... Departement ADM1_PCODE\n",
              "0             0    male  ...         NaN        NaN\n",
              "1             1  female  ...        West       HT01\n",
              "2             2    male  ...        West       HT01\n",
              "3             3    male  ...        West       HT01\n",
              "4             4    male  ...        West       HT01\n",
              "..          ...     ...  ...         ...        ...\n",
              "245         245    male  ...      Centre       HT06\n",
              "246         246    male  ...      Centre       HT06\n",
              "247         247    male  ...      Centre       HT06\n",
              "248         248    male  ...  North-East       HT04\n",
              "249         249    male  ...      Nippes       HT10\n",
              "\n",
              "[250 rows x 21 columns]"
            ]
          },
          "metadata": {
            "tags": []
          },
          "execution_count": 340
        }
      ]
    },
    {
      "cell_type": "code",
      "metadata": {
        "colab": {
          "base_uri": "https://localhost:8080/",
          "height": 250
        },
        "id": "HUcl_8kKV1vb",
        "outputId": "6c8187d8-2205-4d6e-b46b-4324dc7b1e85"
      },
      "source": [
        "result2=pd.merge(left=result, right=study_domain2, how = 'left',on='quest_id')\n",
        "result2.head(2)"
      ],
      "execution_count": 341,
      "outputs": [
        {
          "output_type": "execute_result",
          "data": {
            "text/html": [
              "<div>\n",
              "<style scoped>\n",
              "    .dataframe tbody tr th:only-of-type {\n",
              "        vertical-align: middle;\n",
              "    }\n",
              "\n",
              "    .dataframe tbody tr th {\n",
              "        vertical-align: top;\n",
              "    }\n",
              "\n",
              "    .dataframe thead th {\n",
              "        text-align: right;\n",
              "    }\n",
              "</style>\n",
              "<table border=\"1\" class=\"dataframe\">\n",
              "  <thead>\n",
              "    <tr style=\"text-align: right;\">\n",
              "      <th></th>\n",
              "      <th>Unnamed: 0</th>\n",
              "      <th>gender</th>\n",
              "      <th>dob</th>\n",
              "      <th>commune</th>\n",
              "      <th>created_at</th>\n",
              "      <th>modified_at</th>\n",
              "      <th>department</th>\n",
              "      <th>education_level</th>\n",
              "      <th>university</th>\n",
              "      <th>study_domain</th>\n",
              "      <th>current_employed</th>\n",
              "      <th>formal_sector_job</th>\n",
              "      <th>have_computer_home</th>\n",
              "      <th>internet_at_home</th>\n",
              "      <th>hear_AA_1</th>\n",
              "      <th>after_AA</th>\n",
              "      <th>quest_id</th>\n",
              "      <th>Commune_en</th>\n",
              "      <th>Commune_FR</th>\n",
              "      <th>Departement</th>\n",
              "      <th>ADM1_PCODE</th>\n",
              "      <th>Accounting</th>\n",
              "      <th>Computer Science</th>\n",
              "      <th>Economics</th>\n",
              "      <th>Electrical Engineering</th>\n",
              "      <th>Law</th>\n",
              "      <th>Management</th>\n",
              "      <th>Medicine</th>\n",
              "      <th>Statistics</th>\n",
              "      <th>other</th>\n",
              "    </tr>\n",
              "  </thead>\n",
              "  <tbody>\n",
              "    <tr>\n",
              "      <th>0</th>\n",
              "      <td>0</td>\n",
              "      <td>male</td>\n",
              "      <td>25/08/1998</td>\n",
              "      <td>HT0111</td>\n",
              "      <td>2021-02-14T23:03:52.768400Z</td>\n",
              "      <td>2021-02-14T23:03:52.768462Z</td>\n",
              "      <td>NAN</td>\n",
              "      <td>unknown</td>\n",
              "      <td>unknown</td>\n",
              "      <td>[]</td>\n",
              "      <td>unknown</td>\n",
              "      <td>unknown</td>\n",
              "      <td>unknown</td>\n",
              "      <td>unknown</td>\n",
              "      <td>unknown</td>\n",
              "      <td>unknown</td>\n",
              "      <td>905dc006-ce95-11eb-b2f9-7c67a234f601</td>\n",
              "      <td>NaN</td>\n",
              "      <td>NaN</td>\n",
              "      <td>NaN</td>\n",
              "      <td>NaN</td>\n",
              "      <td>NaN</td>\n",
              "      <td>NaN</td>\n",
              "      <td>NaN</td>\n",
              "      <td>NaN</td>\n",
              "      <td>NaN</td>\n",
              "      <td>NaN</td>\n",
              "      <td>NaN</td>\n",
              "      <td>NaN</td>\n",
              "      <td>NaN</td>\n",
              "    </tr>\n",
              "    <tr>\n",
              "      <th>1</th>\n",
              "      <td>1</td>\n",
              "      <td>female</td>\n",
              "      <td>29/09/1996</td>\n",
              "      <td>HT0111</td>\n",
              "      <td>2021-02-16T16:01:10.861844Z</td>\n",
              "      <td>2021-02-16T16:01:10.861899Z</td>\n",
              "      <td>HT01</td>\n",
              "      <td>Bachelors (bacc +4)</td>\n",
              "      <td>other</td>\n",
              "      <td>['other']</td>\n",
              "      <td>No</td>\n",
              "      <td>unknown</td>\n",
              "      <td>Yes</td>\n",
              "      <td>Yes</td>\n",
              "      <td>Friend</td>\n",
              "      <td>Finding a job/internship</td>\n",
              "      <td>905ddcf2-ce95-11eb-9a92-7c67a234f601</td>\n",
              "      <td>Port-au-Prince</td>\n",
              "      <td>Port-au-Prince</td>\n",
              "      <td>West</td>\n",
              "      <td>HT01</td>\n",
              "      <td>0.0</td>\n",
              "      <td>0.0</td>\n",
              "      <td>0.0</td>\n",
              "      <td>0.0</td>\n",
              "      <td>0.0</td>\n",
              "      <td>0.0</td>\n",
              "      <td>0.0</td>\n",
              "      <td>0.0</td>\n",
              "      <td>1.0</td>\n",
              "    </tr>\n",
              "  </tbody>\n",
              "</table>\n",
              "</div>"
            ],
            "text/plain": [
              "   Unnamed: 0  gender         dob  ... Medicine Statistics other\n",
              "0           0    male  25/08/1998  ...      NaN        NaN   NaN\n",
              "1           1  female  29/09/1996  ...      0.0        0.0   1.0\n",
              "\n",
              "[2 rows x 30 columns]"
            ]
          },
          "metadata": {
            "tags": []
          },
          "execution_count": 341
        }
      ]
    },
    {
      "cell_type": "code",
      "metadata": {
        "id": "b3Mm5YPFOu1D"
      },
      "source": [
        "#table1 = pd.merge(quest,commune, how = 'left',left_on =['department','commune'],right_on = ['ADM1_PCODE','Commune_Id'])\n",
        "#table1"
      ],
      "execution_count": 342,
      "outputs": []
    },
    {
      "cell_type": "code",
      "metadata": {
        "id": "gfyQ7NIS4iDl"
      },
      "source": [
        "#table2=pd.merge(left=table1, right=study_domain2, how = 'left',on='quest_id')\n",
        "#table2\n",
        "#table2 = pd.merge(table1,study_domain, how = 'left',left_on =['quest_id'],right_on = ['quest_id'] )\n",
        "#display(table2)\n",
        "result3=pd.merge(enroll,transaction, how = 'right',left_on =['user_id'],right_on = ['user_id'])"
      ],
      "execution_count": 343,
      "outputs": []
    },
    {
      "cell_type": "code",
      "metadata": {
        "colab": {
          "base_uri": "https://localhost:8080/",
          "height": 250
        },
        "id": "GrfVDcrIUUFD",
        "outputId": "bb83302d-700e-4a33-8771-76ee545c9899"
      },
      "source": [
        "result3.head(2)"
      ],
      "execution_count": 344,
      "outputs": [
        {
          "output_type": "execute_result",
          "data": {
            "text/html": [
              "<div>\n",
              "<style scoped>\n",
              "    .dataframe tbody tr th:only-of-type {\n",
              "        vertical-align: middle;\n",
              "    }\n",
              "\n",
              "    .dataframe tbody tr th {\n",
              "        vertical-align: top;\n",
              "    }\n",
              "\n",
              "    .dataframe thead th {\n",
              "        text-align: right;\n",
              "    }\n",
              "</style>\n",
              "<table border=\"1\" class=\"dataframe\">\n",
              "  <thead>\n",
              "    <tr style=\"text-align: right;\">\n",
              "      <th></th>\n",
              "      <th>Unnamed: 0_x</th>\n",
              "      <th>created_at_x</th>\n",
              "      <th>expiry_date</th>\n",
              "      <th>user_id</th>\n",
              "      <th>course_name</th>\n",
              "      <th>course_id_x</th>\n",
              "      <th>percentage_completed</th>\n",
              "      <th>completed_at</th>\n",
              "      <th>expired</th>\n",
              "      <th>is_free_trial</th>\n",
              "      <th>completed</th>\n",
              "      <th>started_at</th>\n",
              "      <th>activated_at</th>\n",
              "      <th>updated_at</th>\n",
              "      <th>quest_id</th>\n",
              "      <th>Unnamed: 0_y</th>\n",
              "      <th>created_at_y</th>\n",
              "      <th>modified_at</th>\n",
              "      <th>course_id_y</th>\n",
              "      <th>transaction_id</th>\n",
              "    </tr>\n",
              "  </thead>\n",
              "  <tbody>\n",
              "    <tr>\n",
              "      <th>0</th>\n",
              "      <td>129</td>\n",
              "      <td>2021-03-08T05:08:50.684Z</td>\n",
              "      <td>2071-02-24T05:09:12.000Z</td>\n",
              "      <td>40976440</td>\n",
              "      <td>Entwodiksyon Nan Syans Done</td>\n",
              "      <td>1047613</td>\n",
              "      <td>0.697674</td>\n",
              "      <td>NaN</td>\n",
              "      <td>False</td>\n",
              "      <td>False</td>\n",
              "      <td>False</td>\n",
              "      <td>2021-03-09T00:27:53.844Z</td>\n",
              "      <td>2021-03-08T05:08:50.000Z</td>\n",
              "      <td>2021-03-14T20:59:58.974Z</td>\n",
              "      <td>90659b00-ce95-11eb-9e8f-7c67a234f601</td>\n",
              "      <td>0</td>\n",
              "      <td>2021-03-08T05:08:50.832Z</td>\n",
              "      <td>2021-03-08T05:08:50.832Z</td>\n",
              "      <td>1047613</td>\n",
              "      <td>4641281952</td>\n",
              "    </tr>\n",
              "    <tr>\n",
              "      <th>1</th>\n",
              "      <td>130</td>\n",
              "      <td>2021-03-08T17:26:35.715Z</td>\n",
              "      <td>2071-02-24T17:26:38.000Z</td>\n",
              "      <td>41179271</td>\n",
              "      <td>Entwodiksyon Nan Syans Done</td>\n",
              "      <td>1047613</td>\n",
              "      <td>0.348837</td>\n",
              "      <td>NaN</td>\n",
              "      <td>False</td>\n",
              "      <td>False</td>\n",
              "      <td>False</td>\n",
              "      <td>2021-03-08T17:28:47.207Z</td>\n",
              "      <td>2021-03-08T17:26:35.000Z</td>\n",
              "      <td>2021-03-09T18:27:55.012Z</td>\n",
              "      <td>9064c428-ce95-11eb-a021-7c67a234f601</td>\n",
              "      <td>1</td>\n",
              "      <td>2021-03-08T17:26:35.841Z</td>\n",
              "      <td>2021-03-08T17:26:35.841Z</td>\n",
              "      <td>1047613</td>\n",
              "      <td>4644270160</td>\n",
              "    </tr>\n",
              "  </tbody>\n",
              "</table>\n",
              "</div>"
            ],
            "text/plain": [
              "   Unnamed: 0_x              created_at_x  ... course_id_y  transaction_id\n",
              "0           129  2021-03-08T05:08:50.684Z  ...     1047613      4641281952\n",
              "1           130  2021-03-08T17:26:35.715Z  ...     1047613      4644270160\n",
              "\n",
              "[2 rows x 20 columns]"
            ]
          },
          "metadata": {
            "tags": []
          },
          "execution_count": 344
        }
      ]
    },
    {
      "cell_type": "code",
      "metadata": {
        "id": "fVShFhfD4YlT"
      },
      "source": [
        "#table3=pd.merge(enroll,transaction, how = 'right',left_on =['user_id'],right_on = ['user_id'] )\n",
        "#table3=pd.merge(enroll,transaction, how = 'right', on =['user_id'])\n",
        "#table3\n"
      ],
      "execution_count": 345,
      "outputs": []
    },
    {
      "cell_type": "code",
      "metadata": {
        "colab": {
          "base_uri": "https://localhost:8080/",
          "height": 250
        },
        "id": "0C9W3a_x4Yn7",
        "outputId": "b42ce5d0-b7f3-441c-b454-e95fa7cf5240"
      },
      "source": [
        "result4 =pd.merge(enroll,ord, how = 'right',left_on =['user_id'],right_on = ['user_id'] )\n",
        "result4.head(2)"
      ],
      "execution_count": 346,
      "outputs": [
        {
          "output_type": "execute_result",
          "data": {
            "text/html": [
              "<div>\n",
              "<style scoped>\n",
              "    .dataframe tbody tr th:only-of-type {\n",
              "        vertical-align: middle;\n",
              "    }\n",
              "\n",
              "    .dataframe tbody tr th {\n",
              "        vertical-align: top;\n",
              "    }\n",
              "\n",
              "    .dataframe thead th {\n",
              "        text-align: right;\n",
              "    }\n",
              "</style>\n",
              "<table border=\"1\" class=\"dataframe\">\n",
              "  <thead>\n",
              "    <tr style=\"text-align: right;\">\n",
              "      <th></th>\n",
              "      <th>Unnamed: 0_x</th>\n",
              "      <th>created_at_x</th>\n",
              "      <th>expiry_date</th>\n",
              "      <th>user_id</th>\n",
              "      <th>course_name</th>\n",
              "      <th>course_id</th>\n",
              "      <th>percentage_completed</th>\n",
              "      <th>completed_at</th>\n",
              "      <th>expired</th>\n",
              "      <th>is_free_trial</th>\n",
              "      <th>completed</th>\n",
              "      <th>started_at</th>\n",
              "      <th>activated_at</th>\n",
              "      <th>updated_at</th>\n",
              "      <th>quest_id_x</th>\n",
              "      <th>Unnamed: 0_y</th>\n",
              "      <th>created_at_y</th>\n",
              "      <th>product_name</th>\n",
              "      <th>product_id</th>\n",
              "      <th>amount_dollars</th>\n",
              "      <th>amount_cents</th>\n",
              "      <th>subscription</th>\n",
              "      <th>coupon_code</th>\n",
              "      <th>coupon_id</th>\n",
              "      <th>affiliate_referral_code</th>\n",
              "      <th>status</th>\n",
              "      <th>quest_id_y</th>\n",
              "    </tr>\n",
              "  </thead>\n",
              "  <tbody>\n",
              "    <tr>\n",
              "      <th>0</th>\n",
              "      <td>146.0</td>\n",
              "      <td>2021-03-14T15:34:39.800Z</td>\n",
              "      <td>NaN</td>\n",
              "      <td>41587952</td>\n",
              "      <td>Entwodiksyon Nan Syans Done</td>\n",
              "      <td>1047613.0</td>\n",
              "      <td>0.325581</td>\n",
              "      <td>NaN</td>\n",
              "      <td>False</td>\n",
              "      <td>False</td>\n",
              "      <td>False</td>\n",
              "      <td>2021-03-14T15:34:56.007Z</td>\n",
              "      <td>2021-03-14T15:34:39.768Z</td>\n",
              "      <td>2021-03-14T17:30:53.379Z</td>\n",
              "      <td>906b3c86-ce95-11eb-b6a7-7c67a234f601</td>\n",
              "      <td>0</td>\n",
              "      <td>2021-03-14T15:34:35.014Z</td>\n",
              "      <td>Entwodiksyon Nan Syans Done</td>\n",
              "      <td>1100636</td>\n",
              "      <td>20</td>\n",
              "      <td>2000</td>\n",
              "      <td>False</td>\n",
              "      <td>NaN</td>\n",
              "      <td>NaN</td>\n",
              "      <td>NaN</td>\n",
              "      <td>Complete</td>\n",
              "      <td>906b3c86-ce95-11eb-b6a7-7c67a234f601</td>\n",
              "    </tr>\n",
              "    <tr>\n",
              "      <th>1</th>\n",
              "      <td>144.0</td>\n",
              "      <td>2021-03-14T04:20:30.803Z</td>\n",
              "      <td>NaN</td>\n",
              "      <td>41564742</td>\n",
              "      <td>Entwodiksyon Nan Syans Done</td>\n",
              "      <td>1047613.0</td>\n",
              "      <td>0.023256</td>\n",
              "      <td>NaN</td>\n",
              "      <td>False</td>\n",
              "      <td>False</td>\n",
              "      <td>False</td>\n",
              "      <td>2021-03-14T04:22:12.626Z</td>\n",
              "      <td>2021-03-14T04:20:30.786Z</td>\n",
              "      <td>2021-03-14T04:48:39.798Z</td>\n",
              "      <td>906636cf-ce95-11eb-8679-7c67a234f601</td>\n",
              "      <td>1</td>\n",
              "      <td>2021-03-14T04:20:23.483Z</td>\n",
              "      <td>Entwodiksyon Nan Syans Done</td>\n",
              "      <td>1100636</td>\n",
              "      <td>20</td>\n",
              "      <td>2000</td>\n",
              "      <td>False</td>\n",
              "      <td>NaN</td>\n",
              "      <td>NaN</td>\n",
              "      <td>NaN</td>\n",
              "      <td>Complete</td>\n",
              "      <td>906636cf-ce95-11eb-8679-7c67a234f601</td>\n",
              "    </tr>\n",
              "  </tbody>\n",
              "</table>\n",
              "</div>"
            ],
            "text/plain": [
              "   Unnamed: 0_x  ...                            quest_id_y\n",
              "0         146.0  ...  906b3c86-ce95-11eb-b6a7-7c67a234f601\n",
              "1         144.0  ...  906636cf-ce95-11eb-8679-7c67a234f601\n",
              "\n",
              "[2 rows x 27 columns]"
            ]
          },
          "metadata": {
            "tags": []
          },
          "execution_count": 346
        }
      ]
    },
    {
      "cell_type": "code",
      "metadata": {
        "colab": {
          "base_uri": "https://localhost:8080/",
          "height": 419
        },
        "id": "Tied3Eqs4Yqi",
        "outputId": "e8a86854-e641-4813-bb29-fed50758da07"
      },
      "source": [
        "result3['Payment Method'] = 'Yes'\n",
        "result4['Payment Method'] = 'Yes'\n",
        "x = result4.loc[:,['Payment Method','quest_id_y']]\n",
        "y = result3.loc[:,['Payment Method','quest_id']]\n",
        "x=x.rename(columns = {'quest_id_y': 'quest_id'})\n",
        "z = pd.concat([x,y],axis = 0)\n",
        "display(z)\n"
      ],
      "execution_count": 347,
      "outputs": [
        {
          "output_type": "display_data",
          "data": {
            "text/html": [
              "<div>\n",
              "<style scoped>\n",
              "    .dataframe tbody tr th:only-of-type {\n",
              "        vertical-align: middle;\n",
              "    }\n",
              "\n",
              "    .dataframe tbody tr th {\n",
              "        vertical-align: top;\n",
              "    }\n",
              "\n",
              "    .dataframe thead th {\n",
              "        text-align: right;\n",
              "    }\n",
              "</style>\n",
              "<table border=\"1\" class=\"dataframe\">\n",
              "  <thead>\n",
              "    <tr style=\"text-align: right;\">\n",
              "      <th></th>\n",
              "      <th>Payment Method</th>\n",
              "      <th>quest_id</th>\n",
              "    </tr>\n",
              "  </thead>\n",
              "  <tbody>\n",
              "    <tr>\n",
              "      <th>0</th>\n",
              "      <td>Yes</td>\n",
              "      <td>906b3c86-ce95-11eb-b6a7-7c67a234f601</td>\n",
              "    </tr>\n",
              "    <tr>\n",
              "      <th>1</th>\n",
              "      <td>Yes</td>\n",
              "      <td>906636cf-ce95-11eb-8679-7c67a234f601</td>\n",
              "    </tr>\n",
              "    <tr>\n",
              "      <th>2</th>\n",
              "      <td>Yes</td>\n",
              "      <td>906968f5-ce95-11eb-9e1a-7c67a234f601</td>\n",
              "    </tr>\n",
              "    <tr>\n",
              "      <th>3</th>\n",
              "      <td>Yes</td>\n",
              "      <td>9060477c-ce95-11eb-ace3-7c67a234f601</td>\n",
              "    </tr>\n",
              "    <tr>\n",
              "      <th>4</th>\n",
              "      <td>Yes</td>\n",
              "      <td>9064ff29-ce95-11eb-a3d3-7c67a234f601</td>\n",
              "    </tr>\n",
              "    <tr>\n",
              "      <th>...</th>\n",
              "      <td>...</td>\n",
              "      <td>...</td>\n",
              "    </tr>\n",
              "    <tr>\n",
              "      <th>55</th>\n",
              "      <td>Yes</td>\n",
              "      <td>NaN</td>\n",
              "    </tr>\n",
              "    <tr>\n",
              "      <th>56</th>\n",
              "      <td>Yes</td>\n",
              "      <td>90691afb-ce95-11eb-a4c3-7c67a234f601</td>\n",
              "    </tr>\n",
              "    <tr>\n",
              "      <th>57</th>\n",
              "      <td>Yes</td>\n",
              "      <td>906b65e3-ce95-11eb-a294-7c67a234f601</td>\n",
              "    </tr>\n",
              "    <tr>\n",
              "      <th>58</th>\n",
              "      <td>Yes</td>\n",
              "      <td>906241d5-ce95-11eb-9850-7c67a234f601</td>\n",
              "    </tr>\n",
              "    <tr>\n",
              "      <th>59</th>\n",
              "      <td>Yes</td>\n",
              "      <td>NaN</td>\n",
              "    </tr>\n",
              "  </tbody>\n",
              "</table>\n",
              "<p>78 rows × 2 columns</p>\n",
              "</div>"
            ],
            "text/plain": [
              "   Payment Method                              quest_id\n",
              "0             Yes  906b3c86-ce95-11eb-b6a7-7c67a234f601\n",
              "1             Yes  906636cf-ce95-11eb-8679-7c67a234f601\n",
              "2             Yes  906968f5-ce95-11eb-9e1a-7c67a234f601\n",
              "3             Yes  9060477c-ce95-11eb-ace3-7c67a234f601\n",
              "4             Yes  9064ff29-ce95-11eb-a3d3-7c67a234f601\n",
              "..            ...                                   ...\n",
              "55            Yes                                   NaN\n",
              "56            Yes  90691afb-ce95-11eb-a4c3-7c67a234f601\n",
              "57            Yes  906b65e3-ce95-11eb-a294-7c67a234f601\n",
              "58            Yes  906241d5-ce95-11eb-9850-7c67a234f601\n",
              "59            Yes                                   NaN\n",
              "\n",
              "[78 rows x 2 columns]"
            ]
          },
          "metadata": {
            "tags": []
          }
        }
      ]
    },
    {
      "cell_type": "markdown",
      "metadata": {
        "id": "urLe54qq42Gm"
      },
      "source": [
        "### Forme Finale du dataset"
      ]
    },
    {
      "cell_type": "code",
      "metadata": {
        "colab": {
          "base_uri": "https://localhost:8080/",
          "height": 1000
        },
        "id": "IbbELS6W4YvT",
        "outputId": "28bac504-ff0b-4f6e-872a-54508d96926b"
      },
      "source": [
        "result5 = pd.merge(result1,z,how = 'left', left_on = 'quest_id', right_on= 'quest_id')\n",
        "result5"
      ],
      "execution_count": 348,
      "outputs": [
        {
          "output_type": "execute_result",
          "data": {
            "text/html": [
              "<div>\n",
              "<style scoped>\n",
              "    .dataframe tbody tr th:only-of-type {\n",
              "        vertical-align: middle;\n",
              "    }\n",
              "\n",
              "    .dataframe tbody tr th {\n",
              "        vertical-align: top;\n",
              "    }\n",
              "\n",
              "    .dataframe thead th {\n",
              "        text-align: right;\n",
              "    }\n",
              "</style>\n",
              "<table border=\"1\" class=\"dataframe\">\n",
              "  <thead>\n",
              "    <tr style=\"text-align: right;\">\n",
              "      <th></th>\n",
              "      <th>Unnamed: 0</th>\n",
              "      <th>gender</th>\n",
              "      <th>dob</th>\n",
              "      <th>commune</th>\n",
              "      <th>created_at</th>\n",
              "      <th>modified_at</th>\n",
              "      <th>department</th>\n",
              "      <th>education_level</th>\n",
              "      <th>university</th>\n",
              "      <th>study_domain</th>\n",
              "      <th>current_employed</th>\n",
              "      <th>formal_sector_job</th>\n",
              "      <th>have_computer_home</th>\n",
              "      <th>internet_at_home</th>\n",
              "      <th>hear_AA_1</th>\n",
              "      <th>after_AA</th>\n",
              "      <th>quest_id</th>\n",
              "      <th>Commune_en</th>\n",
              "      <th>Commune_FR</th>\n",
              "      <th>Departement</th>\n",
              "      <th>ADM1_PCODE</th>\n",
              "      <th>Payment Method</th>\n",
              "    </tr>\n",
              "  </thead>\n",
              "  <tbody>\n",
              "    <tr>\n",
              "      <th>0</th>\n",
              "      <td>0</td>\n",
              "      <td>male</td>\n",
              "      <td>25/08/1998</td>\n",
              "      <td>HT0111</td>\n",
              "      <td>2021-02-14T23:03:52.768400Z</td>\n",
              "      <td>2021-02-14T23:03:52.768462Z</td>\n",
              "      <td>NAN</td>\n",
              "      <td>unknown</td>\n",
              "      <td>unknown</td>\n",
              "      <td>[]</td>\n",
              "      <td>unknown</td>\n",
              "      <td>unknown</td>\n",
              "      <td>unknown</td>\n",
              "      <td>unknown</td>\n",
              "      <td>unknown</td>\n",
              "      <td>unknown</td>\n",
              "      <td>905dc006-ce95-11eb-b2f9-7c67a234f601</td>\n",
              "      <td>NaN</td>\n",
              "      <td>NaN</td>\n",
              "      <td>NaN</td>\n",
              "      <td>NaN</td>\n",
              "      <td>NaN</td>\n",
              "    </tr>\n",
              "    <tr>\n",
              "      <th>1</th>\n",
              "      <td>1</td>\n",
              "      <td>female</td>\n",
              "      <td>29/09/1996</td>\n",
              "      <td>HT0111</td>\n",
              "      <td>2021-02-16T16:01:10.861844Z</td>\n",
              "      <td>2021-02-16T16:01:10.861899Z</td>\n",
              "      <td>HT01</td>\n",
              "      <td>Bachelors (bacc +4)</td>\n",
              "      <td>other</td>\n",
              "      <td>['other']</td>\n",
              "      <td>No</td>\n",
              "      <td>unknown</td>\n",
              "      <td>Yes</td>\n",
              "      <td>Yes</td>\n",
              "      <td>Friend</td>\n",
              "      <td>Finding a job/internship</td>\n",
              "      <td>905ddcf2-ce95-11eb-9a92-7c67a234f601</td>\n",
              "      <td>Port-au-Prince</td>\n",
              "      <td>Port-au-Prince</td>\n",
              "      <td>West</td>\n",
              "      <td>HT01</td>\n",
              "      <td>NaN</td>\n",
              "    </tr>\n",
              "    <tr>\n",
              "      <th>2</th>\n",
              "      <td>2</td>\n",
              "      <td>male</td>\n",
              "      <td>17/05/1996</td>\n",
              "      <td>HT0111</td>\n",
              "      <td>2021-02-16T16:56:30.579504Z</td>\n",
              "      <td>2021-02-16T16:56:30.579563Z</td>\n",
              "      <td>HT01</td>\n",
              "      <td>Bachelors (bacc +4)</td>\n",
              "      <td>Université d'Etat d'Haïti (UEH)</td>\n",
              "      <td>[]</td>\n",
              "      <td>No</td>\n",
              "      <td>unknown</td>\n",
              "      <td>Yes</td>\n",
              "      <td>Yes</td>\n",
              "      <td>Friend</td>\n",
              "      <td>Improving my data analysis skills</td>\n",
              "      <td>905e2608-ce95-11eb-809f-7c67a234f601</td>\n",
              "      <td>Port-au-Prince</td>\n",
              "      <td>Port-au-Prince</td>\n",
              "      <td>West</td>\n",
              "      <td>HT01</td>\n",
              "      <td>Yes</td>\n",
              "    </tr>\n",
              "    <tr>\n",
              "      <th>3</th>\n",
              "      <td>3</td>\n",
              "      <td>male</td>\n",
              "      <td>24/11/1996</td>\n",
              "      <td>HT0111</td>\n",
              "      <td>2021-02-16T16:57:55.754541Z</td>\n",
              "      <td>2021-02-16T16:57:55.754582Z</td>\n",
              "      <td>HT01</td>\n",
              "      <td>Bachelors (bacc +4)</td>\n",
              "      <td>Ecole Supérieure d'Infotronique d'Haïti (ESIH)</td>\n",
              "      <td>['item1', 'item6']</td>\n",
              "      <td>No</td>\n",
              "      <td>unknown</td>\n",
              "      <td>Yes</td>\n",
              "      <td>Yes</td>\n",
              "      <td>ESIH</td>\n",
              "      <td>Improving my data analysis skills</td>\n",
              "      <td>905e4cf5-ce95-11eb-96a9-7c67a234f601</td>\n",
              "      <td>Port-au-Prince</td>\n",
              "      <td>Port-au-Prince</td>\n",
              "      <td>West</td>\n",
              "      <td>HT01</td>\n",
              "      <td>NaN</td>\n",
              "    </tr>\n",
              "    <tr>\n",
              "      <th>4</th>\n",
              "      <td>4</td>\n",
              "      <td>male</td>\n",
              "      <td>20/07/1997</td>\n",
              "      <td>HT0111</td>\n",
              "      <td>2021-02-16T17:05:40.907948Z</td>\n",
              "      <td>2021-02-16T17:05:40.907982Z</td>\n",
              "      <td>HT01</td>\n",
              "      <td>High School (16 years)</td>\n",
              "      <td>unknown</td>\n",
              "      <td>['other']</td>\n",
              "      <td>No</td>\n",
              "      <td>unknown</td>\n",
              "      <td>Yes</td>\n",
              "      <td>Yes</td>\n",
              "      <td>WhatsApp</td>\n",
              "      <td>Mentorship</td>\n",
              "      <td>905e73fd-ce95-11eb-a7b0-7c67a234f601</td>\n",
              "      <td>Port-au-Prince</td>\n",
              "      <td>Port-au-Prince</td>\n",
              "      <td>West</td>\n",
              "      <td>HT01</td>\n",
              "      <td>NaN</td>\n",
              "    </tr>\n",
              "    <tr>\n",
              "      <th>...</th>\n",
              "      <td>...</td>\n",
              "      <td>...</td>\n",
              "      <td>...</td>\n",
              "      <td>...</td>\n",
              "      <td>...</td>\n",
              "      <td>...</td>\n",
              "      <td>...</td>\n",
              "      <td>...</td>\n",
              "      <td>...</td>\n",
              "      <td>...</td>\n",
              "      <td>...</td>\n",
              "      <td>...</td>\n",
              "      <td>...</td>\n",
              "      <td>...</td>\n",
              "      <td>...</td>\n",
              "      <td>...</td>\n",
              "      <td>...</td>\n",
              "      <td>...</td>\n",
              "      <td>...</td>\n",
              "      <td>...</td>\n",
              "      <td>...</td>\n",
              "      <td>...</td>\n",
              "    </tr>\n",
              "    <tr>\n",
              "      <th>245</th>\n",
              "      <td>245</td>\n",
              "      <td>male</td>\n",
              "      <td>15/02/1994</td>\n",
              "      <td>HT0621</td>\n",
              "      <td>2021-03-02T18:39:19.873194Z</td>\n",
              "      <td>2021-03-02T18:39:19.873237Z</td>\n",
              "      <td>HT06</td>\n",
              "      <td>Bachelors (bacc +4)</td>\n",
              "      <td>other</td>\n",
              "      <td>['other']</td>\n",
              "      <td>Yes</td>\n",
              "      <td>Yes</td>\n",
              "      <td>Yes</td>\n",
              "      <td>Yes</td>\n",
              "      <td>Facebook</td>\n",
              "      <td>Improving my data analysis skills</td>\n",
              "      <td>906b3c84-ce95-11eb-8c2a-7c67a234f601</td>\n",
              "      <td>Mirebalais</td>\n",
              "      <td>Mirebalais</td>\n",
              "      <td>Centre</td>\n",
              "      <td>HT06</td>\n",
              "      <td>Yes</td>\n",
              "    </tr>\n",
              "    <tr>\n",
              "      <th>246</th>\n",
              "      <td>246</td>\n",
              "      <td>male</td>\n",
              "      <td>8/10/1990</td>\n",
              "      <td>HT0621</td>\n",
              "      <td>2021-03-10T04:12:49.436154Z</td>\n",
              "      <td>2021-03-10T04:12:49.436213Z</td>\n",
              "      <td>HT06</td>\n",
              "      <td>Bachelors (bacc +4)</td>\n",
              "      <td>Université d'Etat d'Haïti (UEH)</td>\n",
              "      <td>['item8']</td>\n",
              "      <td>Yes</td>\n",
              "      <td>Yes</td>\n",
              "      <td>Yes</td>\n",
              "      <td>Yes</td>\n",
              "      <td>Friend</td>\n",
              "      <td>Improving my data analysis skills</td>\n",
              "      <td>906b3c85-ce95-11eb-9b87-7c67a234f601</td>\n",
              "      <td>Mirebalais</td>\n",
              "      <td>Mirebalais</td>\n",
              "      <td>Centre</td>\n",
              "      <td>HT06</td>\n",
              "      <td>NaN</td>\n",
              "    </tr>\n",
              "    <tr>\n",
              "      <th>247</th>\n",
              "      <td>247</td>\n",
              "      <td>male</td>\n",
              "      <td>28/12/1993</td>\n",
              "      <td>HT0621</td>\n",
              "      <td>2021-03-14T15:29:32.474015Z</td>\n",
              "      <td>2021-03-14T15:29:32.474055Z</td>\n",
              "      <td>HT06</td>\n",
              "      <td>Bachelors (bacc +4)</td>\n",
              "      <td>Centre de Techniques de Planification et d'Eco...</td>\n",
              "      <td>['item2']</td>\n",
              "      <td>Yes</td>\n",
              "      <td>Yes</td>\n",
              "      <td>Yes</td>\n",
              "      <td>Yes</td>\n",
              "      <td>Friend</td>\n",
              "      <td>Improving my data analysis skills</td>\n",
              "      <td>906b3c86-ce95-11eb-b6a7-7c67a234f601</td>\n",
              "      <td>Mirebalais</td>\n",
              "      <td>Mirebalais</td>\n",
              "      <td>Centre</td>\n",
              "      <td>HT06</td>\n",
              "      <td>Yes</td>\n",
              "    </tr>\n",
              "    <tr>\n",
              "      <th>248</th>\n",
              "      <td>248</td>\n",
              "      <td>male</td>\n",
              "      <td>17/04/1992</td>\n",
              "      <td>HT0412</td>\n",
              "      <td>2021-03-08T16:35:07.806100Z</td>\n",
              "      <td>2021-03-08T16:35:07.806161Z</td>\n",
              "      <td>HT04</td>\n",
              "      <td>Bachelors (bacc +4)</td>\n",
              "      <td>other</td>\n",
              "      <td>['item1']</td>\n",
              "      <td>No</td>\n",
              "      <td>unknown</td>\n",
              "      <td>Yes</td>\n",
              "      <td>Yes</td>\n",
              "      <td>Facebook</td>\n",
              "      <td>Improving my data analysis skills</td>\n",
              "      <td>906b65e2-ce95-11eb-8b5c-7c67a234f601</td>\n",
              "      <td>Ferrier</td>\n",
              "      <td>Ferrier</td>\n",
              "      <td>North-East</td>\n",
              "      <td>HT04</td>\n",
              "      <td>Yes</td>\n",
              "    </tr>\n",
              "    <tr>\n",
              "      <th>249</th>\n",
              "      <td>249</td>\n",
              "      <td>male</td>\n",
              "      <td>22/07/1993</td>\n",
              "      <td>HT1012</td>\n",
              "      <td>2021-03-10T21:41:05.708748Z</td>\n",
              "      <td>2021-03-10T21:41:05.708787Z</td>\n",
              "      <td>HT10</td>\n",
              "      <td>Masters</td>\n",
              "      <td>other</td>\n",
              "      <td>['other']</td>\n",
              "      <td>No</td>\n",
              "      <td>unknown</td>\n",
              "      <td>Yes</td>\n",
              "      <td>Yes</td>\n",
              "      <td>Facebook</td>\n",
              "      <td>Improving my data analysis skills</td>\n",
              "      <td>906b65e3-ce95-11eb-a294-7c67a234f601</td>\n",
              "      <td>Petite Riviere de Nippes</td>\n",
              "      <td>Petite Rivière de Nippes</td>\n",
              "      <td>Nippes</td>\n",
              "      <td>HT10</td>\n",
              "      <td>Yes</td>\n",
              "    </tr>\n",
              "  </tbody>\n",
              "</table>\n",
              "<p>250 rows × 22 columns</p>\n",
              "</div>"
            ],
            "text/plain": [
              "     Unnamed: 0  gender         dob  ... Departement ADM1_PCODE Payment Method\n",
              "0             0    male  25/08/1998  ...         NaN        NaN            NaN\n",
              "1             1  female  29/09/1996  ...        West       HT01            NaN\n",
              "2             2    male  17/05/1996  ...        West       HT01            Yes\n",
              "3             3    male  24/11/1996  ...        West       HT01            NaN\n",
              "4             4    male  20/07/1997  ...        West       HT01            NaN\n",
              "..          ...     ...         ...  ...         ...        ...            ...\n",
              "245         245    male  15/02/1994  ...      Centre       HT06            Yes\n",
              "246         246    male   8/10/1990  ...      Centre       HT06            NaN\n",
              "247         247    male  28/12/1993  ...      Centre       HT06            Yes\n",
              "248         248    male  17/04/1992  ...  North-East       HT04            Yes\n",
              "249         249    male  22/07/1993  ...      Nippes       HT10            Yes\n",
              "\n",
              "[250 rows x 22 columns]"
            ]
          },
          "metadata": {
            "tags": []
          },
          "execution_count": 348
        }
      ]
    },
    {
      "cell_type": "code",
      "metadata": {
        "colab": {
          "base_uri": "https://localhost:8080/"
        },
        "id": "nY69gFKK89if",
        "outputId": "3f8b98c2-135c-4850-a1c6-c2ed3c4c297e"
      },
      "source": [
        "result5.columns"
      ],
      "execution_count": 349,
      "outputs": [
        {
          "output_type": "execute_result",
          "data": {
            "text/plain": [
              "Index(['Unnamed: 0', 'gender', 'dob', 'commune', 'created_at', 'modified_at',\n",
              "       'department', 'education_level', 'university', 'study_domain',\n",
              "       'current_employed', 'formal_sector_job', 'have_computer_home',\n",
              "       'internet_at_home', 'hear_AA_1', 'after_AA', 'quest_id', 'Commune_en',\n",
              "       'Commune_FR', 'Departement', 'ADM1_PCODE', 'Payment Method'],\n",
              "      dtype='object')"
            ]
          },
          "metadata": {
            "tags": []
          },
          "execution_count": 349
        }
      ]
    },
    {
      "cell_type": "code",
      "metadata": {
        "id": "ho6coBO6j1eJ"
      },
      "source": [
        "selected = ['gender', \"commune\",'dob','created_at','department','education_level','university','current_employed','formal_sector_job','have_computer_home','internet_at_home','hear_AA_1','after_AA','quest_id', 'Commune_FR','Departement','Payment Method']"
      ],
      "execution_count": 350,
      "outputs": []
    },
    {
      "cell_type": "code",
      "metadata": {
        "id": "i1u2FSvn_js5",
        "colab": {
          "base_uri": "https://localhost:8080/",
          "height": 250
        },
        "outputId": "290d278a-edfe-418b-9aad-d6d9b9a6a416"
      },
      "source": [
        "result5 = result5.loc[:, ['gender','dob','created_at','education_level','university','current_employed','formal_sector_job','have_computer_home','internet_at_home','hear_AA_1','after_AA','quest_id', 'Commune_FR','Departement','Payment Method']]\n",
        "result5.head(2)"
      ],
      "execution_count": 351,
      "outputs": [
        {
          "output_type": "execute_result",
          "data": {
            "text/html": [
              "<div>\n",
              "<style scoped>\n",
              "    .dataframe tbody tr th:only-of-type {\n",
              "        vertical-align: middle;\n",
              "    }\n",
              "\n",
              "    .dataframe tbody tr th {\n",
              "        vertical-align: top;\n",
              "    }\n",
              "\n",
              "    .dataframe thead th {\n",
              "        text-align: right;\n",
              "    }\n",
              "</style>\n",
              "<table border=\"1\" class=\"dataframe\">\n",
              "  <thead>\n",
              "    <tr style=\"text-align: right;\">\n",
              "      <th></th>\n",
              "      <th>gender</th>\n",
              "      <th>dob</th>\n",
              "      <th>created_at</th>\n",
              "      <th>education_level</th>\n",
              "      <th>university</th>\n",
              "      <th>current_employed</th>\n",
              "      <th>formal_sector_job</th>\n",
              "      <th>have_computer_home</th>\n",
              "      <th>internet_at_home</th>\n",
              "      <th>hear_AA_1</th>\n",
              "      <th>after_AA</th>\n",
              "      <th>quest_id</th>\n",
              "      <th>Commune_FR</th>\n",
              "      <th>Departement</th>\n",
              "      <th>Payment Method</th>\n",
              "    </tr>\n",
              "  </thead>\n",
              "  <tbody>\n",
              "    <tr>\n",
              "      <th>0</th>\n",
              "      <td>male</td>\n",
              "      <td>25/08/1998</td>\n",
              "      <td>2021-02-14T23:03:52.768400Z</td>\n",
              "      <td>unknown</td>\n",
              "      <td>unknown</td>\n",
              "      <td>unknown</td>\n",
              "      <td>unknown</td>\n",
              "      <td>unknown</td>\n",
              "      <td>unknown</td>\n",
              "      <td>unknown</td>\n",
              "      <td>unknown</td>\n",
              "      <td>905dc006-ce95-11eb-b2f9-7c67a234f601</td>\n",
              "      <td>NaN</td>\n",
              "      <td>NaN</td>\n",
              "      <td>NaN</td>\n",
              "    </tr>\n",
              "    <tr>\n",
              "      <th>1</th>\n",
              "      <td>female</td>\n",
              "      <td>29/09/1996</td>\n",
              "      <td>2021-02-16T16:01:10.861844Z</td>\n",
              "      <td>Bachelors (bacc +4)</td>\n",
              "      <td>other</td>\n",
              "      <td>No</td>\n",
              "      <td>unknown</td>\n",
              "      <td>Yes</td>\n",
              "      <td>Yes</td>\n",
              "      <td>Friend</td>\n",
              "      <td>Finding a job/internship</td>\n",
              "      <td>905ddcf2-ce95-11eb-9a92-7c67a234f601</td>\n",
              "      <td>Port-au-Prince</td>\n",
              "      <td>West</td>\n",
              "      <td>NaN</td>\n",
              "    </tr>\n",
              "  </tbody>\n",
              "</table>\n",
              "</div>"
            ],
            "text/plain": [
              "   gender         dob  ... Departement Payment Method\n",
              "0    male  25/08/1998  ...         NaN            NaN\n",
              "1  female  29/09/1996  ...        West            NaN\n",
              "\n",
              "[2 rows x 15 columns]"
            ]
          },
          "metadata": {
            "tags": []
          },
          "execution_count": 351
        }
      ]
    },
    {
      "cell_type": "code",
      "metadata": {
        "id": "xwgeUuG0mRXb",
        "colab": {
          "base_uri": "https://localhost:8080/",
          "height": 448
        },
        "outputId": "bc52317e-ed6d-4cbd-ce28-2ae1e3030de1"
      },
      "source": [
        "dict = {'gender':'Sex','created_at':'date','hear_AA_1':'Channel','after_AA':'what will you do after'}\n",
        "result5.rename(columns=dict, inplace=True)\n",
        "display(result5.head(4))"
      ],
      "execution_count": 352,
      "outputs": [
        {
          "output_type": "display_data",
          "data": {
            "text/html": [
              "<div>\n",
              "<style scoped>\n",
              "    .dataframe tbody tr th:only-of-type {\n",
              "        vertical-align: middle;\n",
              "    }\n",
              "\n",
              "    .dataframe tbody tr th {\n",
              "        vertical-align: top;\n",
              "    }\n",
              "\n",
              "    .dataframe thead th {\n",
              "        text-align: right;\n",
              "    }\n",
              "</style>\n",
              "<table border=\"1\" class=\"dataframe\">\n",
              "  <thead>\n",
              "    <tr style=\"text-align: right;\">\n",
              "      <th></th>\n",
              "      <th>Sex</th>\n",
              "      <th>dob</th>\n",
              "      <th>date</th>\n",
              "      <th>education_level</th>\n",
              "      <th>university</th>\n",
              "      <th>current_employed</th>\n",
              "      <th>formal_sector_job</th>\n",
              "      <th>have_computer_home</th>\n",
              "      <th>internet_at_home</th>\n",
              "      <th>Channel</th>\n",
              "      <th>what will you do after</th>\n",
              "      <th>quest_id</th>\n",
              "      <th>Commune_FR</th>\n",
              "      <th>Departement</th>\n",
              "      <th>Payment Method</th>\n",
              "    </tr>\n",
              "  </thead>\n",
              "  <tbody>\n",
              "    <tr>\n",
              "      <th>0</th>\n",
              "      <td>male</td>\n",
              "      <td>25/08/1998</td>\n",
              "      <td>2021-02-14T23:03:52.768400Z</td>\n",
              "      <td>unknown</td>\n",
              "      <td>unknown</td>\n",
              "      <td>unknown</td>\n",
              "      <td>unknown</td>\n",
              "      <td>unknown</td>\n",
              "      <td>unknown</td>\n",
              "      <td>unknown</td>\n",
              "      <td>unknown</td>\n",
              "      <td>905dc006-ce95-11eb-b2f9-7c67a234f601</td>\n",
              "      <td>NaN</td>\n",
              "      <td>NaN</td>\n",
              "      <td>NaN</td>\n",
              "    </tr>\n",
              "    <tr>\n",
              "      <th>1</th>\n",
              "      <td>female</td>\n",
              "      <td>29/09/1996</td>\n",
              "      <td>2021-02-16T16:01:10.861844Z</td>\n",
              "      <td>Bachelors (bacc +4)</td>\n",
              "      <td>other</td>\n",
              "      <td>No</td>\n",
              "      <td>unknown</td>\n",
              "      <td>Yes</td>\n",
              "      <td>Yes</td>\n",
              "      <td>Friend</td>\n",
              "      <td>Finding a job/internship</td>\n",
              "      <td>905ddcf2-ce95-11eb-9a92-7c67a234f601</td>\n",
              "      <td>Port-au-Prince</td>\n",
              "      <td>West</td>\n",
              "      <td>NaN</td>\n",
              "    </tr>\n",
              "    <tr>\n",
              "      <th>2</th>\n",
              "      <td>male</td>\n",
              "      <td>17/05/1996</td>\n",
              "      <td>2021-02-16T16:56:30.579504Z</td>\n",
              "      <td>Bachelors (bacc +4)</td>\n",
              "      <td>Université d'Etat d'Haïti (UEH)</td>\n",
              "      <td>No</td>\n",
              "      <td>unknown</td>\n",
              "      <td>Yes</td>\n",
              "      <td>Yes</td>\n",
              "      <td>Friend</td>\n",
              "      <td>Improving my data analysis skills</td>\n",
              "      <td>905e2608-ce95-11eb-809f-7c67a234f601</td>\n",
              "      <td>Port-au-Prince</td>\n",
              "      <td>West</td>\n",
              "      <td>Yes</td>\n",
              "    </tr>\n",
              "    <tr>\n",
              "      <th>3</th>\n",
              "      <td>male</td>\n",
              "      <td>24/11/1996</td>\n",
              "      <td>2021-02-16T16:57:55.754541Z</td>\n",
              "      <td>Bachelors (bacc +4)</td>\n",
              "      <td>Ecole Supérieure d'Infotronique d'Haïti (ESIH)</td>\n",
              "      <td>No</td>\n",
              "      <td>unknown</td>\n",
              "      <td>Yes</td>\n",
              "      <td>Yes</td>\n",
              "      <td>ESIH</td>\n",
              "      <td>Improving my data analysis skills</td>\n",
              "      <td>905e4cf5-ce95-11eb-96a9-7c67a234f601</td>\n",
              "      <td>Port-au-Prince</td>\n",
              "      <td>West</td>\n",
              "      <td>NaN</td>\n",
              "    </tr>\n",
              "  </tbody>\n",
              "</table>\n",
              "</div>"
            ],
            "text/plain": [
              "      Sex         dob  ... Departement Payment Method\n",
              "0    male  25/08/1998  ...         NaN            NaN\n",
              "1  female  29/09/1996  ...        West            NaN\n",
              "2    male  17/05/1996  ...        West            Yes\n",
              "3    male  24/11/1996  ...        West            NaN\n",
              "\n",
              "[4 rows x 15 columns]"
            ]
          },
          "metadata": {
            "tags": []
          }
        }
      ]
    },
    {
      "cell_type": "code",
      "metadata": {
        "id": "ohTErNMzp9zw",
        "colab": {
          "base_uri": "https://localhost:8080/"
        },
        "outputId": "42f43806-14aa-4253-db65-dcca8d2e764a"
      },
      "source": [
        "result5[\"date\"]= pd.to_datetime(result5[\"date\"])\n",
        "result5[\"date\"] = result5[\"date\"].apply(lambda x: str(x)[:10])\n",
        "result5[\"date\"].head(6)"
      ],
      "execution_count": 353,
      "outputs": [
        {
          "output_type": "execute_result",
          "data": {
            "text/plain": [
              "0    2021-02-14\n",
              "1    2021-02-16\n",
              "2    2021-02-16\n",
              "3    2021-02-16\n",
              "4    2021-02-16\n",
              "5    2021-02-16\n",
              "Name: date, dtype: object"
            ]
          },
          "metadata": {
            "tags": []
          },
          "execution_count": 353
        }
      ]
    },
    {
      "cell_type": "code",
      "metadata": {
        "id": "cFlURCsZ_j5c",
        "colab": {
          "base_uri": "https://localhost:8080/"
        },
        "outputId": "c9f81506-dc8e-4b57-e522-dd85f8475e78"
      },
      "source": [
        "print(result5.loc[result5[\"dob\"]==\"3 aout 1977\",:])"
      ],
      "execution_count": 354,
      "outputs": [
        {
          "output_type": "stream",
          "text": [
            "       Sex          dob        date  ...      Commune_FR Departement Payment Method\n",
            "13  female  3 aout 1977  2021-02-17  ...  Port-au-Prince        West            NaN\n",
            "\n",
            "[1 rows x 15 columns]\n"
          ],
          "name": "stdout"
        }
      ]
    },
    {
      "cell_type": "code",
      "metadata": {
        "id": "ucrbS5TQ_j8C",
        "colab": {
          "base_uri": "https://localhost:8080/"
        },
        "outputId": "13f46ce8-2ff9-4516-e508-daef4f484020"
      },
      "source": [
        "result5[\"dob\"].replace({\"3 aout 1977\": \"3/08/1977\"}, inplace=True)\n",
        "result5[\"dob\"]= pd.to_datetime(result5[\"dob\"])\n",
        "result5[\"dob\"]"
      ],
      "execution_count": 355,
      "outputs": [
        {
          "output_type": "execute_result",
          "data": {
            "text/plain": [
              "0     1998-08-25\n",
              "1     1996-09-29\n",
              "2     1996-05-17\n",
              "3     1996-11-24\n",
              "4     1997-07-20\n",
              "         ...    \n",
              "245   1994-02-15\n",
              "246   1990-08-10\n",
              "247   1993-12-28\n",
              "248   1992-04-17\n",
              "249   1993-07-22\n",
              "Name: dob, Length: 250, dtype: datetime64[ns]"
            ]
          },
          "metadata": {
            "tags": []
          },
          "execution_count": 355
        }
      ]
    },
    {
      "cell_type": "code",
      "metadata": {
        "id": "L0kEShVV2p0z",
        "colab": {
          "base_uri": "https://localhost:8080/"
        },
        "outputId": "66394887-4a21-45e2-f07e-b3b3942f2c61"
      },
      "source": [
        "result5['Payment Method'] = result5['Payment Method'].fillna('No')\n",
        "result5['Payment Method']"
      ],
      "execution_count": 356,
      "outputs": [
        {
          "output_type": "execute_result",
          "data": {
            "text/plain": [
              "0       No\n",
              "1       No\n",
              "2      Yes\n",
              "3       No\n",
              "4       No\n",
              "      ... \n",
              "245    Yes\n",
              "246     No\n",
              "247    Yes\n",
              "248    Yes\n",
              "249    Yes\n",
              "Name: Payment Method, Length: 250, dtype: object"
            ]
          },
          "metadata": {
            "tags": []
          },
          "execution_count": 356
        }
      ]
    },
    {
      "cell_type": "code",
      "metadata": {
        "id": "5k1W-ZAi6cv6",
        "colab": {
          "base_uri": "https://localhost:8080/"
        },
        "outputId": "e5fab208-c406-4331-88a2-8f8d4b266d51"
      },
      "source": [
        "result5.isna().value_counts()"
      ],
      "execution_count": 357,
      "outputs": [
        {
          "output_type": "execute_result",
          "data": {
            "text/plain": [
              "Sex    dob    date   education_level  university  current_employed  formal_sector_job  have_computer_home  internet_at_home  Channel  what will you do after  quest_id  Commune_FR  Departement  Payment Method\n",
              "False  False  False  False            False       False             False              False               False             False    False                   False     False       False        False             242\n",
              "       True   False  False            False       False             False              False               False             False    False                   False     False       False        False               6\n",
              "       False  False  False            False       False             False              False               False             False    False                   False     True        True         False               2\n",
              "dtype: int64"
            ]
          },
          "metadata": {
            "tags": []
          },
          "execution_count": 357
        }
      ]
    },
    {
      "cell_type": "code",
      "metadata": {
        "colab": {
          "base_uri": "https://localhost:8080/"
        },
        "id": "FXe3sefPD39O",
        "outputId": "2bb02d26-6f99-444a-e6f6-41b1d2022ee6"
      },
      "source": [
        "result5.dropna()\n",
        "result5.shape"
      ],
      "execution_count": 358,
      "outputs": [
        {
          "output_type": "execute_result",
          "data": {
            "text/plain": [
              "(250, 15)"
            ]
          },
          "metadata": {
            "tags": []
          },
          "execution_count": 358
        }
      ]
    },
    {
      "cell_type": "code",
      "metadata": {
        "colab": {
          "base_uri": "https://localhost:8080/"
        },
        "id": "x6q3x7-2FSJV",
        "outputId": "b86f4b1d-e19d-432c-880d-742c58d1018d"
      },
      "source": [
        "result5.columns.T"
      ],
      "execution_count": 359,
      "outputs": [
        {
          "output_type": "execute_result",
          "data": {
            "text/plain": [
              "Index(['Sex', 'dob', 'date', 'education_level', 'university',\n",
              "       'current_employed', 'formal_sector_job', 'have_computer_home',\n",
              "       'internet_at_home', 'Channel', 'what will you do after', 'quest_id',\n",
              "       'Commune_FR', 'Departement', 'Payment Method'],\n",
              "      dtype='object')"
            ]
          },
          "metadata": {
            "tags": []
          },
          "execution_count": 359
        }
      ]
    },
    {
      "cell_type": "code",
      "metadata": {
        "colab": {
          "base_uri": "https://localhost:8080/",
          "height": 267
        },
        "id": "4If2iu4OKMv1",
        "outputId": "b8d3915b-5c80-4842-c15a-3e2393cd8194"
      },
      "source": [
        "result5.head(2)"
      ],
      "execution_count": 360,
      "outputs": [
        {
          "output_type": "execute_result",
          "data": {
            "text/html": [
              "<div>\n",
              "<style scoped>\n",
              "    .dataframe tbody tr th:only-of-type {\n",
              "        vertical-align: middle;\n",
              "    }\n",
              "\n",
              "    .dataframe tbody tr th {\n",
              "        vertical-align: top;\n",
              "    }\n",
              "\n",
              "    .dataframe thead th {\n",
              "        text-align: right;\n",
              "    }\n",
              "</style>\n",
              "<table border=\"1\" class=\"dataframe\">\n",
              "  <thead>\n",
              "    <tr style=\"text-align: right;\">\n",
              "      <th></th>\n",
              "      <th>Sex</th>\n",
              "      <th>dob</th>\n",
              "      <th>date</th>\n",
              "      <th>education_level</th>\n",
              "      <th>university</th>\n",
              "      <th>current_employed</th>\n",
              "      <th>formal_sector_job</th>\n",
              "      <th>have_computer_home</th>\n",
              "      <th>internet_at_home</th>\n",
              "      <th>Channel</th>\n",
              "      <th>what will you do after</th>\n",
              "      <th>quest_id</th>\n",
              "      <th>Commune_FR</th>\n",
              "      <th>Departement</th>\n",
              "      <th>Payment Method</th>\n",
              "    </tr>\n",
              "  </thead>\n",
              "  <tbody>\n",
              "    <tr>\n",
              "      <th>0</th>\n",
              "      <td>male</td>\n",
              "      <td>1998-08-25</td>\n",
              "      <td>2021-02-14</td>\n",
              "      <td>unknown</td>\n",
              "      <td>unknown</td>\n",
              "      <td>unknown</td>\n",
              "      <td>unknown</td>\n",
              "      <td>unknown</td>\n",
              "      <td>unknown</td>\n",
              "      <td>unknown</td>\n",
              "      <td>unknown</td>\n",
              "      <td>905dc006-ce95-11eb-b2f9-7c67a234f601</td>\n",
              "      <td>NaN</td>\n",
              "      <td>NaN</td>\n",
              "      <td>No</td>\n",
              "    </tr>\n",
              "    <tr>\n",
              "      <th>1</th>\n",
              "      <td>female</td>\n",
              "      <td>1996-09-29</td>\n",
              "      <td>2021-02-16</td>\n",
              "      <td>Bachelors (bacc +4)</td>\n",
              "      <td>other</td>\n",
              "      <td>No</td>\n",
              "      <td>unknown</td>\n",
              "      <td>Yes</td>\n",
              "      <td>Yes</td>\n",
              "      <td>Friend</td>\n",
              "      <td>Finding a job/internship</td>\n",
              "      <td>905ddcf2-ce95-11eb-9a92-7c67a234f601</td>\n",
              "      <td>Port-au-Prince</td>\n",
              "      <td>West</td>\n",
              "      <td>No</td>\n",
              "    </tr>\n",
              "  </tbody>\n",
              "</table>\n",
              "</div>"
            ],
            "text/plain": [
              "      Sex        dob        date  ...      Commune_FR Departement Payment Method\n",
              "0    male 1998-08-25  2021-02-14  ...             NaN         NaN             No\n",
              "1  female 1996-09-29  2021-02-16  ...  Port-au-Prince        West             No\n",
              "\n",
              "[2 rows x 15 columns]"
            ]
          },
          "metadata": {
            "tags": []
          },
          "execution_count": 360
        }
      ]
    },
    {
      "cell_type": "code",
      "metadata": {
        "id": "9aqgglvsGEpk"
      },
      "source": [
        "#result5[\"Sex\"] = result5[\"Sex\"].apply( lambda x : 1 if x == \"female\" else 0)"
      ],
      "execution_count": 361,
      "outputs": []
    },
    {
      "cell_type": "code",
      "metadata": {
        "id": "zm7s8JAlGYLM"
      },
      "source": [
        "#result5[\"Sex\"].value_counts()"
      ],
      "execution_count": 362,
      "outputs": []
    },
    {
      "cell_type": "code",
      "metadata": {
        "colab": {
          "base_uri": "https://localhost:8080/"
        },
        "id": "zN9wd2cgNRJz",
        "outputId": "4d1b92ab-51b4-4aa6-8c9e-e93852cbbc43"
      },
      "source": [
        "result5.dtypes"
      ],
      "execution_count": 363,
      "outputs": [
        {
          "output_type": "execute_result",
          "data": {
            "text/plain": [
              "Sex                               object\n",
              "dob                       datetime64[ns]\n",
              "date                              object\n",
              "education_level                   object\n",
              "university                        object\n",
              "current_employed                  object\n",
              "formal_sector_job                 object\n",
              "have_computer_home                object\n",
              "internet_at_home                  object\n",
              "Channel                           object\n",
              "what will you do after            object\n",
              "quest_id                          object\n",
              "Commune_FR                        object\n",
              "Departement                       object\n",
              "Payment Method                    object\n",
              "dtype: object"
            ]
          },
          "metadata": {
            "tags": []
          },
          "execution_count": 363
        }
      ]
    },
    {
      "cell_type": "code",
      "metadata": {
        "id": "tZhmNDYhB3Ma"
      },
      "source": [
        "from datetime import date\n",
        "def Calculate_Age(born) :\n",
        "    \"\"\"\n",
        "    This function will allow us to calcute the age of all the applicants by the end of the application process\n",
        "    \"\"\"\n",
        "    today = date(2021,6,18)\n",
        "    return today.year - born.year - ((today.month,today.day)< (born.month,born.day))"
      ],
      "execution_count": 364,
      "outputs": []
    },
    {
      "cell_type": "code",
      "metadata": {
        "id": "ArDRxvCmB3QA",
        "colab": {
          "base_uri": "https://localhost:8080/"
        },
        "outputId": "c1dd7a81-7e01-4dca-9bad-7e4884b2e4d7"
      },
      "source": [
        "result5['Age'] = result5['dob'].apply(Calculate_Age)\n",
        "result5['Age']\n",
        "#for col in float_col.columns.values:\n",
        "  #df[col] = df[col].astype('int64')"
      ],
      "execution_count": 365,
      "outputs": [
        {
          "output_type": "execute_result",
          "data": {
            "text/plain": [
              "0      22.0\n",
              "1      24.0\n",
              "2      25.0\n",
              "3      24.0\n",
              "4      23.0\n",
              "       ... \n",
              "245    27.0\n",
              "246    30.0\n",
              "247    27.0\n",
              "248    29.0\n",
              "249    27.0\n",
              "Name: Age, Length: 250, dtype: float64"
            ]
          },
          "metadata": {
            "tags": []
          },
          "execution_count": 365
        }
      ]
    },
    {
      "cell_type": "code",
      "metadata": {
        "id": "g3PcSiGJF3Ix",
        "colab": {
          "base_uri": "https://localhost:8080/"
        },
        "outputId": "cfa90866-5cb7-42a1-fbff-4b39d036f513"
      },
      "source": [
        "numb_na = result5.isna().sum()\n",
        "numb_na.sort_values()\n",
        "numb_na[numb_na>0].count"
      ],
      "execution_count": 366,
      "outputs": [
        {
          "output_type": "execute_result",
          "data": {
            "text/plain": [
              "<bound method Series.count of dob            6\n",
              "Commune_FR     2\n",
              "Departement    2\n",
              "Age            6\n",
              "dtype: int64>"
            ]
          },
          "metadata": {
            "tags": []
          },
          "execution_count": 366
        }
      ]
    },
    {
      "cell_type": "code",
      "metadata": {
        "colab": {
          "base_uri": "https://localhost:8080/",
          "height": 1000
        },
        "id": "Rm6aKo5Z4uB5",
        "outputId": "55619570-5811-4f38-e835-e454636e4c19"
      },
      "source": [
        "result5 = result5.drop([\"dob\"], axis=1)\n",
        "result5"
      ],
      "execution_count": 367,
      "outputs": [
        {
          "output_type": "execute_result",
          "data": {
            "text/html": [
              "<div>\n",
              "<style scoped>\n",
              "    .dataframe tbody tr th:only-of-type {\n",
              "        vertical-align: middle;\n",
              "    }\n",
              "\n",
              "    .dataframe tbody tr th {\n",
              "        vertical-align: top;\n",
              "    }\n",
              "\n",
              "    .dataframe thead th {\n",
              "        text-align: right;\n",
              "    }\n",
              "</style>\n",
              "<table border=\"1\" class=\"dataframe\">\n",
              "  <thead>\n",
              "    <tr style=\"text-align: right;\">\n",
              "      <th></th>\n",
              "      <th>Sex</th>\n",
              "      <th>date</th>\n",
              "      <th>education_level</th>\n",
              "      <th>university</th>\n",
              "      <th>current_employed</th>\n",
              "      <th>formal_sector_job</th>\n",
              "      <th>have_computer_home</th>\n",
              "      <th>internet_at_home</th>\n",
              "      <th>Channel</th>\n",
              "      <th>what will you do after</th>\n",
              "      <th>quest_id</th>\n",
              "      <th>Commune_FR</th>\n",
              "      <th>Departement</th>\n",
              "      <th>Payment Method</th>\n",
              "      <th>Age</th>\n",
              "    </tr>\n",
              "  </thead>\n",
              "  <tbody>\n",
              "    <tr>\n",
              "      <th>0</th>\n",
              "      <td>male</td>\n",
              "      <td>2021-02-14</td>\n",
              "      <td>unknown</td>\n",
              "      <td>unknown</td>\n",
              "      <td>unknown</td>\n",
              "      <td>unknown</td>\n",
              "      <td>unknown</td>\n",
              "      <td>unknown</td>\n",
              "      <td>unknown</td>\n",
              "      <td>unknown</td>\n",
              "      <td>905dc006-ce95-11eb-b2f9-7c67a234f601</td>\n",
              "      <td>NaN</td>\n",
              "      <td>NaN</td>\n",
              "      <td>No</td>\n",
              "      <td>22.0</td>\n",
              "    </tr>\n",
              "    <tr>\n",
              "      <th>1</th>\n",
              "      <td>female</td>\n",
              "      <td>2021-02-16</td>\n",
              "      <td>Bachelors (bacc +4)</td>\n",
              "      <td>other</td>\n",
              "      <td>No</td>\n",
              "      <td>unknown</td>\n",
              "      <td>Yes</td>\n",
              "      <td>Yes</td>\n",
              "      <td>Friend</td>\n",
              "      <td>Finding a job/internship</td>\n",
              "      <td>905ddcf2-ce95-11eb-9a92-7c67a234f601</td>\n",
              "      <td>Port-au-Prince</td>\n",
              "      <td>West</td>\n",
              "      <td>No</td>\n",
              "      <td>24.0</td>\n",
              "    </tr>\n",
              "    <tr>\n",
              "      <th>2</th>\n",
              "      <td>male</td>\n",
              "      <td>2021-02-16</td>\n",
              "      <td>Bachelors (bacc +4)</td>\n",
              "      <td>Université d'Etat d'Haïti (UEH)</td>\n",
              "      <td>No</td>\n",
              "      <td>unknown</td>\n",
              "      <td>Yes</td>\n",
              "      <td>Yes</td>\n",
              "      <td>Friend</td>\n",
              "      <td>Improving my data analysis skills</td>\n",
              "      <td>905e2608-ce95-11eb-809f-7c67a234f601</td>\n",
              "      <td>Port-au-Prince</td>\n",
              "      <td>West</td>\n",
              "      <td>Yes</td>\n",
              "      <td>25.0</td>\n",
              "    </tr>\n",
              "    <tr>\n",
              "      <th>3</th>\n",
              "      <td>male</td>\n",
              "      <td>2021-02-16</td>\n",
              "      <td>Bachelors (bacc +4)</td>\n",
              "      <td>Ecole Supérieure d'Infotronique d'Haïti (ESIH)</td>\n",
              "      <td>No</td>\n",
              "      <td>unknown</td>\n",
              "      <td>Yes</td>\n",
              "      <td>Yes</td>\n",
              "      <td>ESIH</td>\n",
              "      <td>Improving my data analysis skills</td>\n",
              "      <td>905e4cf5-ce95-11eb-96a9-7c67a234f601</td>\n",
              "      <td>Port-au-Prince</td>\n",
              "      <td>West</td>\n",
              "      <td>No</td>\n",
              "      <td>24.0</td>\n",
              "    </tr>\n",
              "    <tr>\n",
              "      <th>4</th>\n",
              "      <td>male</td>\n",
              "      <td>2021-02-16</td>\n",
              "      <td>High School (16 years)</td>\n",
              "      <td>unknown</td>\n",
              "      <td>No</td>\n",
              "      <td>unknown</td>\n",
              "      <td>Yes</td>\n",
              "      <td>Yes</td>\n",
              "      <td>WhatsApp</td>\n",
              "      <td>Mentorship</td>\n",
              "      <td>905e73fd-ce95-11eb-a7b0-7c67a234f601</td>\n",
              "      <td>Port-au-Prince</td>\n",
              "      <td>West</td>\n",
              "      <td>No</td>\n",
              "      <td>23.0</td>\n",
              "    </tr>\n",
              "    <tr>\n",
              "      <th>...</th>\n",
              "      <td>...</td>\n",
              "      <td>...</td>\n",
              "      <td>...</td>\n",
              "      <td>...</td>\n",
              "      <td>...</td>\n",
              "      <td>...</td>\n",
              "      <td>...</td>\n",
              "      <td>...</td>\n",
              "      <td>...</td>\n",
              "      <td>...</td>\n",
              "      <td>...</td>\n",
              "      <td>...</td>\n",
              "      <td>...</td>\n",
              "      <td>...</td>\n",
              "      <td>...</td>\n",
              "    </tr>\n",
              "    <tr>\n",
              "      <th>245</th>\n",
              "      <td>male</td>\n",
              "      <td>2021-03-02</td>\n",
              "      <td>Bachelors (bacc +4)</td>\n",
              "      <td>other</td>\n",
              "      <td>Yes</td>\n",
              "      <td>Yes</td>\n",
              "      <td>Yes</td>\n",
              "      <td>Yes</td>\n",
              "      <td>Facebook</td>\n",
              "      <td>Improving my data analysis skills</td>\n",
              "      <td>906b3c84-ce95-11eb-8c2a-7c67a234f601</td>\n",
              "      <td>Mirebalais</td>\n",
              "      <td>Centre</td>\n",
              "      <td>Yes</td>\n",
              "      <td>27.0</td>\n",
              "    </tr>\n",
              "    <tr>\n",
              "      <th>246</th>\n",
              "      <td>male</td>\n",
              "      <td>2021-03-10</td>\n",
              "      <td>Bachelors (bacc +4)</td>\n",
              "      <td>Université d'Etat d'Haïti (UEH)</td>\n",
              "      <td>Yes</td>\n",
              "      <td>Yes</td>\n",
              "      <td>Yes</td>\n",
              "      <td>Yes</td>\n",
              "      <td>Friend</td>\n",
              "      <td>Improving my data analysis skills</td>\n",
              "      <td>906b3c85-ce95-11eb-9b87-7c67a234f601</td>\n",
              "      <td>Mirebalais</td>\n",
              "      <td>Centre</td>\n",
              "      <td>No</td>\n",
              "      <td>30.0</td>\n",
              "    </tr>\n",
              "    <tr>\n",
              "      <th>247</th>\n",
              "      <td>male</td>\n",
              "      <td>2021-03-14</td>\n",
              "      <td>Bachelors (bacc +4)</td>\n",
              "      <td>Centre de Techniques de Planification et d'Eco...</td>\n",
              "      <td>Yes</td>\n",
              "      <td>Yes</td>\n",
              "      <td>Yes</td>\n",
              "      <td>Yes</td>\n",
              "      <td>Friend</td>\n",
              "      <td>Improving my data analysis skills</td>\n",
              "      <td>906b3c86-ce95-11eb-b6a7-7c67a234f601</td>\n",
              "      <td>Mirebalais</td>\n",
              "      <td>Centre</td>\n",
              "      <td>Yes</td>\n",
              "      <td>27.0</td>\n",
              "    </tr>\n",
              "    <tr>\n",
              "      <th>248</th>\n",
              "      <td>male</td>\n",
              "      <td>2021-03-08</td>\n",
              "      <td>Bachelors (bacc +4)</td>\n",
              "      <td>other</td>\n",
              "      <td>No</td>\n",
              "      <td>unknown</td>\n",
              "      <td>Yes</td>\n",
              "      <td>Yes</td>\n",
              "      <td>Facebook</td>\n",
              "      <td>Improving my data analysis skills</td>\n",
              "      <td>906b65e2-ce95-11eb-8b5c-7c67a234f601</td>\n",
              "      <td>Ferrier</td>\n",
              "      <td>North-East</td>\n",
              "      <td>Yes</td>\n",
              "      <td>29.0</td>\n",
              "    </tr>\n",
              "    <tr>\n",
              "      <th>249</th>\n",
              "      <td>male</td>\n",
              "      <td>2021-03-10</td>\n",
              "      <td>Masters</td>\n",
              "      <td>other</td>\n",
              "      <td>No</td>\n",
              "      <td>unknown</td>\n",
              "      <td>Yes</td>\n",
              "      <td>Yes</td>\n",
              "      <td>Facebook</td>\n",
              "      <td>Improving my data analysis skills</td>\n",
              "      <td>906b65e3-ce95-11eb-a294-7c67a234f601</td>\n",
              "      <td>Petite Rivière de Nippes</td>\n",
              "      <td>Nippes</td>\n",
              "      <td>Yes</td>\n",
              "      <td>27.0</td>\n",
              "    </tr>\n",
              "  </tbody>\n",
              "</table>\n",
              "<p>250 rows × 15 columns</p>\n",
              "</div>"
            ],
            "text/plain": [
              "        Sex        date  ... Payment Method   Age\n",
              "0      male  2021-02-14  ...             No  22.0\n",
              "1    female  2021-02-16  ...             No  24.0\n",
              "2      male  2021-02-16  ...            Yes  25.0\n",
              "3      male  2021-02-16  ...             No  24.0\n",
              "4      male  2021-02-16  ...             No  23.0\n",
              "..      ...         ...  ...            ...   ...\n",
              "245    male  2021-03-02  ...            Yes  27.0\n",
              "246    male  2021-03-10  ...             No  30.0\n",
              "247    male  2021-03-14  ...            Yes  27.0\n",
              "248    male  2021-03-08  ...            Yes  29.0\n",
              "249    male  2021-03-10  ...            Yes  27.0\n",
              "\n",
              "[250 rows x 15 columns]"
            ]
          },
          "metadata": {
            "tags": []
          },
          "execution_count": 367
        }
      ]
    },
    {
      "cell_type": "code",
      "metadata": {
        "colab": {
          "base_uri": "https://localhost:8080/"
        },
        "id": "wP32YyAiFOWk",
        "outputId": "754b4150-368e-4df3-aa5b-3090753edeb1"
      },
      "source": [
        "result5.columns"
      ],
      "execution_count": 368,
      "outputs": [
        {
          "output_type": "execute_result",
          "data": {
            "text/plain": [
              "Index(['Sex', 'date', 'education_level', 'university', 'current_employed',\n",
              "       'formal_sector_job', 'have_computer_home', 'internet_at_home',\n",
              "       'Channel', 'what will you do after', 'quest_id', 'Commune_FR',\n",
              "       'Departement', 'Payment Method', 'Age'],\n",
              "      dtype='object')"
            ]
          },
          "metadata": {
            "tags": []
          },
          "execution_count": 368
        }
      ]
    },
    {
      "cell_type": "code",
      "metadata": {
        "id": "Ho6kEMufEyf0"
      },
      "source": [
        "def pivotabl(x):\n",
        "  new_pivot=pd.pivot_table(result5, values='Commune_FR', \n",
        "                    index=['quest_id'], \n",
        "                    columns=x,\n",
        "                    aggfunc='count')\n",
        "  new_pivot=new_pivot.fillna(0)\n",
        "  #new_pivot.drop([\"unkwown\", \"other\", \"Other\"],axis=1, inplace=True)\n",
        "  return new_pivot"
      ],
      "execution_count": 369,
      "outputs": []
    },
    {
      "cell_type": "code",
      "metadata": {
        "id": "CUXEoBtqEtNe"
      },
      "source": [
        "pv_edulevel = pivotabl(\"education_level\")\n",
        "Channel = pivotabl('Channel')\n",
        "pv_internet = pivotabl(\"internet_at_home\")\n",
        "pv_computer = pivotabl(\"have_computer_home\")\n",
        "pv_employed = pivotabl('current_employed')\n",
        "pv_payed = pivotabl(\"Payment Method\")\n",
        "pv_internet.rename(columns={\"No\":\"Don't have internet\", \"Yes\":\"Have internet\"}, inplace=True)\n",
        "pv_computer.rename(columns={\"No\":\"Don't have computer\", \"Yes\":\"Have computer\"}, inplace=True)\n",
        "pv_employed.rename(columns={\"No\":\"Don't be employed\", \"Yes\":\"Employed\"}, inplace=True)\n",
        "pv_payed.rename(columns={\"No\":\"Don't have payed\", \"Yes\":\"Have payed\"}, inplace=True)"
      ],
      "execution_count": 373,
      "outputs": []
    },
    {
      "cell_type": "code",
      "metadata": {
        "colab": {
          "base_uri": "https://localhost:8080/",
          "height": 180
        },
        "id": "B-aoL730PrKa",
        "outputId": "b3449eb2-322a-4a93-fb40-8f9a4721ba14"
      },
      "source": [
        "data_commune = pd.concat([Sex, education_level, Channel, pv_internet, pv_computer, pv_employed, pv_payed], axis=1)\n",
        "data_commune"
      ],
      "execution_count": 375,
      "outputs": [
        {
          "output_type": "error",
          "ename": "NameError",
          "evalue": "ignored",
          "traceback": [
            "\u001b[0;31m---------------------------------------------------------------------------\u001b[0m",
            "\u001b[0;31mNameError\u001b[0m                                 Traceback (most recent call last)",
            "\u001b[0;32m<ipython-input-375-4b785abf3081>\u001b[0m in \u001b[0;36m<module>\u001b[0;34m()\u001b[0m\n\u001b[0;32m----> 1\u001b[0;31m \u001b[0mdata_commune\u001b[0m \u001b[0;34m=\u001b[0m \u001b[0mpd\u001b[0m\u001b[0;34m.\u001b[0m\u001b[0mconcat\u001b[0m\u001b[0;34m(\u001b[0m\u001b[0;34m[\u001b[0m\u001b[0mSex\u001b[0m\u001b[0;34m,\u001b[0m \u001b[0meducation_level\u001b[0m\u001b[0;34m,\u001b[0m \u001b[0mChannel\u001b[0m\u001b[0;34m,\u001b[0m \u001b[0mpv_internet\u001b[0m\u001b[0;34m,\u001b[0m \u001b[0mpv_computer\u001b[0m\u001b[0;34m,\u001b[0m \u001b[0mpv_employed\u001b[0m\u001b[0;34m,\u001b[0m \u001b[0mpv_payed\u001b[0m\u001b[0;34m]\u001b[0m\u001b[0;34m,\u001b[0m \u001b[0maxis\u001b[0m\u001b[0;34m=\u001b[0m\u001b[0;36m1\u001b[0m\u001b[0;34m)\u001b[0m\u001b[0;34m\u001b[0m\u001b[0;34m\u001b[0m\u001b[0m\n\u001b[0m\u001b[1;32m      2\u001b[0m \u001b[0mdata_commune\u001b[0m\u001b[0;34m\u001b[0m\u001b[0;34m\u001b[0m\u001b[0m\n",
            "\u001b[0;31mNameError\u001b[0m: name 'Sex' is not defined"
          ]
        }
      ]
    },
    {
      "cell_type": "code",
      "metadata": {
        "id": "39MqDqfHCByy"
      },
      "source": [
        "def pivotabl(x):\n",
        "  new_pivot=pd.pivot_table(result5, values='Commune_FR', \n",
        "                    index=['quest_id'], \n",
        "                    columns=x,\n",
        "                    aggfunc='count')\n",
        "  new_pivot=new_pivot.fillna(0)\n",
        "  #new_pivot.drop([\"unkwown\", \"other\", \"Other\"],axis=1, inplace=True)\n",
        "  return new_pivot"
      ],
      "execution_count": 381,
      "outputs": []
    },
    {
      "cell_type": "code",
      "metadata": {
        "colab": {
          "base_uri": "https://localhost:8080/",
          "height": 450
        },
        "id": "C-vnYDmGSfzT",
        "outputId": "3aaa2f64-ee72-467f-f153-1dbf106faa5b"
      },
      "source": [
        "pivotabl(\"Sex\")"
      ],
      "execution_count": 382,
      "outputs": [
        {
          "output_type": "execute_result",
          "data": {
            "text/html": [
              "<div>\n",
              "<style scoped>\n",
              "    .dataframe tbody tr th:only-of-type {\n",
              "        vertical-align: middle;\n",
              "    }\n",
              "\n",
              "    .dataframe tbody tr th {\n",
              "        vertical-align: top;\n",
              "    }\n",
              "\n",
              "    .dataframe thead th {\n",
              "        text-align: right;\n",
              "    }\n",
              "</style>\n",
              "<table border=\"1\" class=\"dataframe\">\n",
              "  <thead>\n",
              "    <tr style=\"text-align: right;\">\n",
              "      <th>Sex</th>\n",
              "      <th>female</th>\n",
              "      <th>male</th>\n",
              "    </tr>\n",
              "    <tr>\n",
              "      <th>quest_id</th>\n",
              "      <th></th>\n",
              "      <th></th>\n",
              "    </tr>\n",
              "  </thead>\n",
              "  <tbody>\n",
              "    <tr>\n",
              "      <th>905dc006-ce95-11eb-b2f9-7c67a234f601</th>\n",
              "      <td>0.0</td>\n",
              "      <td>0.0</td>\n",
              "    </tr>\n",
              "    <tr>\n",
              "      <th>905ddcf2-ce95-11eb-9a92-7c67a234f601</th>\n",
              "      <td>1.0</td>\n",
              "      <td>0.0</td>\n",
              "    </tr>\n",
              "    <tr>\n",
              "      <th>905e2608-ce95-11eb-809f-7c67a234f601</th>\n",
              "      <td>0.0</td>\n",
              "      <td>1.0</td>\n",
              "    </tr>\n",
              "    <tr>\n",
              "      <th>905e4cf5-ce95-11eb-96a9-7c67a234f601</th>\n",
              "      <td>0.0</td>\n",
              "      <td>1.0</td>\n",
              "    </tr>\n",
              "    <tr>\n",
              "      <th>905e73fd-ce95-11eb-a7b0-7c67a234f601</th>\n",
              "      <td>0.0</td>\n",
              "      <td>1.0</td>\n",
              "    </tr>\n",
              "    <tr>\n",
              "      <th>...</th>\n",
              "      <td>...</td>\n",
              "      <td>...</td>\n",
              "    </tr>\n",
              "    <tr>\n",
              "      <th>906b3c84-ce95-11eb-8c2a-7c67a234f601</th>\n",
              "      <td>0.0</td>\n",
              "      <td>1.0</td>\n",
              "    </tr>\n",
              "    <tr>\n",
              "      <th>906b3c85-ce95-11eb-9b87-7c67a234f601</th>\n",
              "      <td>0.0</td>\n",
              "      <td>1.0</td>\n",
              "    </tr>\n",
              "    <tr>\n",
              "      <th>906b3c86-ce95-11eb-b6a7-7c67a234f601</th>\n",
              "      <td>0.0</td>\n",
              "      <td>1.0</td>\n",
              "    </tr>\n",
              "    <tr>\n",
              "      <th>906b65e2-ce95-11eb-8b5c-7c67a234f601</th>\n",
              "      <td>0.0</td>\n",
              "      <td>1.0</td>\n",
              "    </tr>\n",
              "    <tr>\n",
              "      <th>906b65e3-ce95-11eb-a294-7c67a234f601</th>\n",
              "      <td>0.0</td>\n",
              "      <td>1.0</td>\n",
              "    </tr>\n",
              "  </tbody>\n",
              "</table>\n",
              "<p>250 rows × 2 columns</p>\n",
              "</div>"
            ],
            "text/plain": [
              "Sex                                   female  male\n",
              "quest_id                                          \n",
              "905dc006-ce95-11eb-b2f9-7c67a234f601     0.0   0.0\n",
              "905ddcf2-ce95-11eb-9a92-7c67a234f601     1.0   0.0\n",
              "905e2608-ce95-11eb-809f-7c67a234f601     0.0   1.0\n",
              "905e4cf5-ce95-11eb-96a9-7c67a234f601     0.0   1.0\n",
              "905e73fd-ce95-11eb-a7b0-7c67a234f601     0.0   1.0\n",
              "...                                      ...   ...\n",
              "906b3c84-ce95-11eb-8c2a-7c67a234f601     0.0   1.0\n",
              "906b3c85-ce95-11eb-9b87-7c67a234f601     0.0   1.0\n",
              "906b3c86-ce95-11eb-b6a7-7c67a234f601     0.0   1.0\n",
              "906b65e2-ce95-11eb-8b5c-7c67a234f601     0.0   1.0\n",
              "906b65e3-ce95-11eb-a294-7c67a234f601     0.0   1.0\n",
              "\n",
              "[250 rows x 2 columns]"
            ]
          },
          "metadata": {
            "tags": []
          },
          "execution_count": 382
        }
      ]
    },
    {
      "cell_type": "markdown",
      "metadata": {
        "id": "H4OWU9e05EYc"
      },
      "source": [
        "Convert Sex group_age Payment Method, Internet_at_home, courent_employed, formal_sector, university, education_level, Sex into Categorycal"
      ]
    },
    {
      "cell_type": "markdown",
      "metadata": {
        "id": "eueLP1huck-f"
      },
      "source": [
        "# C. DESCRIPTIVE ANALYSIS"
      ]
    },
    {
      "cell_type": "markdown",
      "metadata": {
        "id": "t4ciGNtjXEZP"
      },
      "source": [
        "### Context : The Ayiti Analytics objective is to know which three communes of the country will be the most likely to expand its training centers. Knowing that each cohort must have 30 students.\n",
        "### NB : Use the same framework of the BA project to complete this project"
      ]
    },
    {
      "cell_type": "markdown",
      "metadata": {
        "id": "rvvYdjeST8uN"
      },
      "source": [
        "### keys Function"
      ]
    },
    {
      "cell_type": "code",
      "metadata": {
        "id": "o0kFrCJDT5t4"
      },
      "source": [
        "# Define a function who generate barchart\n",
        "def generate_barchart(data=result, title =\"\",abs_value =\"Total\",rel_value=\"Percent\",figsize =(20,10)):\n",
        "  \n",
        "  \"\"\" function who generate barchart\"\"\"\n",
        "  \n",
        "  plt.figure(figsize=figsize)\n",
        "  axes = sns.barplot(data=data,x=data.index,y=abs_value)\n",
        "  i=0\n",
        "  for tot, perc in zip(data[abs_value],data[rel_value]):\n",
        "    axes.text(i,\n",
        "              tot/2,\n",
        "              str(np.round(perc*100,2))+ \"%\",\n",
        "              fontdict=dict(color='White',fontsize=12,horizontalalignment=\"center\")\n",
        "              )\n",
        "    axes.text(i,\n",
        "              tot+ 3,\n",
        "              str(tot),\n",
        "               fontdict=dict(color='blue',fontsize=12,horizontalalignment=\"center\")\n",
        "              )\n",
        "    \n",
        "    i+=1\n",
        "  plt.title(title)\n",
        "  plt.show()"
      ],
      "execution_count": null,
      "outputs": []
    },
    {
      "cell_type": "code",
      "metadata": {
        "id": "Ko8G20iPU6tZ"
      },
      "source": [
        "# Calculate absolute frequency and relative Frequency for a categpric variable\n",
        "\n",
        "def prob_category(data,col=\"Pclass_letter\", abs_value =\"Total\",rel_value =\"Percent\",show_plot=False, title=\"\"):\n",
        "  res1 = data[col].value_counts().to_frame()\n",
        "  res1.columns = [abs_value]\n",
        "\n",
        "  res2 = data[col].value_counts(normalize=True).to_frame()\n",
        "  res2.columns = [rel_value]\n",
        "  if  not show_plot:\n",
        "    return pd.concat([res1,res2],axis=1)\n",
        "  else:\n",
        "    result = pd.concat([res1,res2],axis=1)\n",
        "    generate_barchart(data=result.head(), title =title,abs_value =abs_value,rel_value=rel_value,figsize =(10,10))\n",
        "    return result"
      ],
      "execution_count": null,
      "outputs": []
    },
    {
      "cell_type": "code",
      "metadata": {
        "id": "F4K-SCZt_qHA"
      },
      "source": [
        "result5[['education_level', 'university','current_employed', 'formal_sector_job', 'have_computer_home','internet_at_home', 'Channel', 'what will you do after','Commune_FR', 'Departement']].fillna(0).astype(int, copy=True)"
      ],
      "execution_count": null,
      "outputs": []
    },
    {
      "cell_type": "code",
      "metadata": {
        "id": "P5nRUgWY992W"
      },
      "source": [
        "result5.Sex = pd.Categorical(result5.Sex)\n",
        "print(result5[\"Sex\"].dtypes)\n",
        "result5[\"Payment Method\"] = pd.Categorical(result5[\"Payment Method\"])\n",
        "print(result5[\"Payment Method\"].dtypes)"
      ],
      "execution_count": null,
      "outputs": []
    },
    {
      "cell_type": "code",
      "metadata": {
        "id": "NFpYVCii7arH"
      },
      "source": [
        "#Show all univariate analysis succesively\n",
        "for cat_col in result5:\n",
        "  result = prob_category(data=result5,col=cat_col, abs_value =\"Total\",rel_value =\"Percent\",show_plot=True,title=f\"{cat_col} Distribution\")\n",
        "display(result)"
      ],
      "execution_count": null,
      "outputs": []
    },
    {
      "cell_type": "code",
      "metadata": {
        "id": "aV7JHi-yU6yb"
      },
      "source": [
        "def dummies_create(data, value):\n",
        "\n",
        "  \"\"\" This function allow us to extract each values of a columns and place them into a separate Columns before Merge \"\"\"\n",
        "  \n",
        "  x=pd.get_dummies(data=data, columns=value, prefix=\"\", prefix_sep=\"\")\n",
        "  y=x.groupby(\"quest_id\").sum()\n",
        "  return y"
      ],
      "execution_count": null,
      "outputs": []
    },
    {
      "cell_type": "code",
      "metadata": {
        "id": "v7VeK0d8U62J"
      },
      "source": [
        "def pivot_table(x):\n",
        "\n",
        "  \"\"\" This function allow us to do a Pivot Table\"\"\"\n",
        "  \n",
        "  new_pivot=pd.pivot_table(result5, values='quest_id', \n",
        "                    index=['Commune_FR'], \n",
        "                    columns=x,\n",
        "                    aggfunc='count')\n",
        "  new_pivot=new_pivot.fillna(0)\n",
        "  new_pivot.drop([\"unkwown\", \"other\", \"Other\"],axis=1, inplace=True)\n",
        "  return new_pivot"
      ],
      "execution_count": null,
      "outputs": []
    },
    {
      "cell_type": "code",
      "metadata": {
        "id": "nTTmxloyU66E"
      },
      "source": [
        "def dataset_cardinalite(dataset,is_number=True):\n",
        "  \"\"\"\n",
        "  This function calculates a set of single value, number or list for each of columns.\n",
        "  @params dataset :Data set used in the function\n",
        "  @params is_number :allows the function to return a unique number or list of unique values ​​for each column.\n",
        "  \"\"\"\n",
        "  # Create a dictionarie\n",
        "  my_dict = dict()\n",
        "  # select each columns\n",
        "  for col in dataset.columns:\n",
        "    # Memorize cardinality and each unique values by columns\n",
        "    if is_number:\n",
        "      my_dict[col] = dataset[col].nunique()\n",
        "    else:\n",
        "       my_dict[col] = dataset[col].unique()\n",
        "  # return the dictionnarie\n",
        "  return my_dict"
      ],
      "execution_count": null,
      "outputs": []
    },
    {
      "cell_type": "code",
      "metadata": {
        "id": "PqqV4ahjVhb5"
      },
      "source": [
        "def cateorigal_label(dataset=None,col_name=None,dict0=None, use_dict =False):\n",
        "  \"\"\" \n",
        "  This function allow us to create a categorical values\n",
        "  \"\"\"\n",
        "  if not use_dict:\n",
        "   return dataset[col_name].apply(lambda x: f\"{col_name} {x}\" )\n",
        "  else:\n",
        "    return dataset[col_name].replace(dict0)"
      ],
      "execution_count": null,
      "outputs": []
    },
    {
      "cell_type": "code",
      "metadata": {
        "id": "pK-B1DshVpSA"
      },
      "source": [
        "def pivot(y):\n",
        "  pivo=pd.pivot_table(result5, values='quest_id', index=['Commune_FR'], columns=y,aggfunc='count')\n",
        "  pivo=pivo.fillna(0)\n",
        "  return pivo\n",
        "my_pivot=pivot('internet_at_home')"
      ],
      "execution_count": null,
      "outputs": []
    },
    {
      "cell_type": "code",
      "metadata": {
        "id": "nAIIrqnv8VNw"
      },
      "source": [
        "# Transform \n",
        "for col in  result5.columns:\n",
        "    result5[f\"{col}\"] = cateorigal_label(dataset=result5,col_name=col,dict0 ={0:\"No\",1:\"Yes\"},use_dict=True)\n",
        "  #else:\n",
        "  #  cat_dataset[f\"{col}\"] = cateorigal_label(dataset=cat_dataset,col_name=col)\n",
        "    print(result5)"
      ],
      "execution_count": null,
      "outputs": []
    },
    {
      "cell_type": "markdown",
      "metadata": {
        "id": "Rg9KHxnTx9JB"
      },
      "source": [
        "#### Question 1. How many applications must be made to select 25% women for each on average"
      ]
    },
    {
      "cell_type": "code",
      "metadata": {
        "id": "6DDKKHnZTJOw"
      },
      "source": [
        ""
      ],
      "execution_count": null,
      "outputs": []
    },
    {
      "cell_type": "code",
      "metadata": {
        "id": "V4gd8CTCTJWn"
      },
      "source": [
        ""
      ],
      "execution_count": null,
      "outputs": []
    },
    {
      "cell_type": "code",
      "metadata": {
        "id": "1CzS27qzTJcj"
      },
      "source": [
        ""
      ],
      "execution_count": null,
      "outputs": []
    },
    {
      "cell_type": "markdown",
      "metadata": {
        "id": "3UIfQCsQA8QM"
      },
      "source": [
        "#### Question 2. What are the most effective communication channels (Alumni, Facebook, WhatsApp, Friend ...) that will allow a student to be susceptible to selection"
      ]
    },
    {
      "cell_type": "code",
      "metadata": {
        "id": "xm7087CeAUtc"
      },
      "source": [
        ""
      ],
      "execution_count": null,
      "outputs": []
    },
    {
      "cell_type": "code",
      "metadata": {
        "id": "aAVnhL72AVE6"
      },
      "source": [
        ""
      ],
      "execution_count": null,
      "outputs": []
    },
    {
      "cell_type": "markdown",
      "metadata": {
        "id": "FbAWaOBEzDLX"
      },
      "source": [
        "#### Question 3. What is the average number of university students who should participate in this program"
      ]
    },
    {
      "cell_type": "markdown",
      "metadata": {
        "id": "92ramfkXB4St"
      },
      "source": [
        "#### Question 4. What will be the average number of applications per week that we could have"
      ]
    },
    {
      "cell_type": "markdown",
      "metadata": {
        "id": "pfW9C-O0CCwb"
      },
      "source": [
        "#### Question 5. How many weeks should we extend the application process to select 60 students per commune?"
      ]
    },
    {
      "cell_type": "code",
      "metadata": {
        "id": "SA9jykQtvzle"
      },
      "source": [
        ""
      ],
      "execution_count": null,
      "outputs": []
    },
    {
      "cell_type": "markdown",
      "metadata": {
        "id": "M14QaddhCSPT"
      },
      "source": [
        ""
      ]
    },
    {
      "cell_type": "markdown",
      "metadata": {
        "id": "yzW6QsufCSXy"
      },
      "source": [
        "#### Question 6. If we were to do all the bootcamp online, who would be the best communes and how many applications would we need to select 30 student and what percentage of students would have a laptop, an internet connection, both at the same time"
      ]
    },
    {
      "cell_type": "code",
      "metadata": {
        "id": "9mYZZQe4yL2s"
      },
      "source": [
        "# Filtering the \n",
        "co = data[\"Commune\"].value_counts().head(4).to_frame()\n",
        "co"
      ],
      "execution_count": null,
      "outputs": []
    },
    {
      "cell_type": "markdown",
      "metadata": {
        "id": "yeUjg0TeCZ3r"
      },
      "source": [
        "#### question 7. What are the most effective communication channels (Alumni, Facebook, WhatsApp, Friend ...) that will allow a women to be susceptible to selection"
      ]
    },
    {
      "cell_type": "code",
      "metadata": {
        "id": "NT3sMUmaCgYO"
      },
      "source": [
        ""
      ],
      "execution_count": null,
      "outputs": []
    }
  ]
}